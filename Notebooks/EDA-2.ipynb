{
 "cells": [
  {
   "attachments": {},
   "cell_type": "markdown",
   "metadata": {},
   "source": [
    "# NASDAQ 100 Stocks Movement Predictor - Exploratory Data Analysis (EDA) 2 "
   ]
  },
  {
   "attachments": {},
   "cell_type": "markdown",
   "metadata": {},
   "source": [
    "**Author:** Renish Kanjiyani <br>\n",
    "**Notebook:** EDA - 2 <br>\n",
    "**Date:** 05/11/2023 <br>\n",
    "**E-mail:** kanjiyanirenish2@gmail.com"
   ]
  },
  {
   "attachments": {},
   "cell_type": "markdown",
   "metadata": {},
   "source": [
    "Based on our previous..."
   ]
  },
  {
   "cell_type": "code",
   "execution_count": 2,
   "metadata": {},
   "outputs": [],
   "source": [
    "# Import all the necessary packages we need \n",
    "\n",
    "import numpy as np \n",
    "import pandas as pd \n",
    "import seaborn as sns \n",
    "import matplotlib.pyplot as plt\n",
    "\n",
    "import warnings\n",
    "warnings.filterwarnings('ignore')\n",
    "warnings.filterwarnings(action='once')"
   ]
  },
  {
   "cell_type": "code",
   "execution_count": 3,
   "metadata": {},
   "outputs": [],
   "source": [
    "# Load our original dataset \n",
    "\n",
    "df = pd.read_csv('../nasdaq_stocks_100.csv', sep='\\t')"
   ]
  },
  {
   "cell_type": "code",
   "execution_count": 4,
   "metadata": {},
   "outputs": [
    {
     "data": {
      "text/html": [
       "<div>\n",
       "<style scoped>\n",
       "    .dataframe tbody tr th:only-of-type {\n",
       "        vertical-align: middle;\n",
       "    }\n",
       "\n",
       "    .dataframe tbody tr th {\n",
       "        vertical-align: top;\n",
       "    }\n",
       "\n",
       "    .dataframe thead th {\n",
       "        text-align: right;\n",
       "    }\n",
       "</style>\n",
       "<table border=\"1\" class=\"dataframe\">\n",
       "  <thead>\n",
       "    <tr style=\"text-align: right;\">\n",
       "      <th></th>\n",
       "      <th>Date</th>\n",
       "      <th>Open</th>\n",
       "      <th>High</th>\n",
       "      <th>Low</th>\n",
       "      <th>Close</th>\n",
       "      <th>Adj Close</th>\n",
       "      <th>Volume</th>\n",
       "      <th>Name</th>\n",
       "    </tr>\n",
       "  </thead>\n",
       "  <tbody>\n",
       "    <tr>\n",
       "      <th>0</th>\n",
       "      <td>2010-01-04</td>\n",
       "      <td>7.622500</td>\n",
       "      <td>7.660714</td>\n",
       "      <td>7.585000</td>\n",
       "      <td>7.643214</td>\n",
       "      <td>6.562591</td>\n",
       "      <td>493729600</td>\n",
       "      <td>AAPL</td>\n",
       "    </tr>\n",
       "    <tr>\n",
       "      <th>1</th>\n",
       "      <td>2010-01-05</td>\n",
       "      <td>7.664286</td>\n",
       "      <td>7.699643</td>\n",
       "      <td>7.616071</td>\n",
       "      <td>7.656429</td>\n",
       "      <td>6.573935</td>\n",
       "      <td>601904800</td>\n",
       "      <td>AAPL</td>\n",
       "    </tr>\n",
       "    <tr>\n",
       "      <th>2</th>\n",
       "      <td>2010-01-06</td>\n",
       "      <td>7.656429</td>\n",
       "      <td>7.686786</td>\n",
       "      <td>7.526786</td>\n",
       "      <td>7.534643</td>\n",
       "      <td>6.469369</td>\n",
       "      <td>552160000</td>\n",
       "      <td>AAPL</td>\n",
       "    </tr>\n",
       "    <tr>\n",
       "      <th>3</th>\n",
       "      <td>2010-01-07</td>\n",
       "      <td>7.562500</td>\n",
       "      <td>7.571429</td>\n",
       "      <td>7.466071</td>\n",
       "      <td>7.520714</td>\n",
       "      <td>6.457407</td>\n",
       "      <td>477131200</td>\n",
       "      <td>AAPL</td>\n",
       "    </tr>\n",
       "    <tr>\n",
       "      <th>4</th>\n",
       "      <td>2010-01-08</td>\n",
       "      <td>7.510714</td>\n",
       "      <td>7.571429</td>\n",
       "      <td>7.466429</td>\n",
       "      <td>7.570714</td>\n",
       "      <td>6.500339</td>\n",
       "      <td>447610800</td>\n",
       "      <td>AAPL</td>\n",
       "    </tr>\n",
       "  </tbody>\n",
       "</table>\n",
       "</div>"
      ],
      "text/plain": [
       "         Date      Open      High       Low     Close  Adj Close     Volume  \\\n",
       "0  2010-01-04  7.622500  7.660714  7.585000  7.643214   6.562591  493729600   \n",
       "1  2010-01-05  7.664286  7.699643  7.616071  7.656429   6.573935  601904800   \n",
       "2  2010-01-06  7.656429  7.686786  7.526786  7.534643   6.469369  552160000   \n",
       "3  2010-01-07  7.562500  7.571429  7.466071  7.520714   6.457407  477131200   \n",
       "4  2010-01-08  7.510714  7.571429  7.466429  7.570714   6.500339  447610800   \n",
       "\n",
       "   Name  \n",
       "0  AAPL  \n",
       "1  AAPL  \n",
       "2  AAPL  \n",
       "3  AAPL  \n",
       "4  AAPL  "
      ]
     },
     "execution_count": 4,
     "metadata": {},
     "output_type": "execute_result"
    }
   ],
   "source": [
    "# Viewing the first 5 rows in our dataset \n",
    "\n",
    "df.head(5)"
   ]
  },
  {
   "cell_type": "code",
   "execution_count": 5,
   "metadata": {},
   "outputs": [
    {
     "data": {
      "text/plain": [
       "(271680, 8)"
      ]
     },
     "execution_count": 5,
     "metadata": {},
     "output_type": "execute_result"
    }
   ],
   "source": [
    "# Viewing the shape of our dataframe\n",
    "\n",
    "df.shape"
   ]
  },
  {
   "cell_type": "code",
   "execution_count": 6,
   "metadata": {},
   "outputs": [
    {
     "name": "stdout",
     "output_type": "stream",
     "text": [
      "Our dataframe has 271680 rows and 8 columns.\n"
     ]
    }
   ],
   "source": [
    "# Printing the rows and columns \n",
    "\n",
    "print(f\"Our dataframe has {df.shape[0]} rows and {df.shape[1]} columns.\")"
   ]
  },
  {
   "attachments": {},
   "cell_type": "markdown",
   "metadata": {},
   "source": [
    "Continuing from the Modeling - 1 Notebook, we will now filter the features we require. "
   ]
  },
  {
   "cell_type": "code",
   "execution_count": 7,
   "metadata": {},
   "outputs": [
    {
     "name": "stdout",
     "output_type": "stream",
     "text": [
      "<class 'pandas.core.frame.DataFrame'>\n",
      "RangeIndex: 271680 entries, 0 to 271679\n",
      "Data columns (total 8 columns):\n",
      " #   Column     Non-Null Count   Dtype  \n",
      "---  ------     --------------   -----  \n",
      " 0   Date       271680 non-null  object \n",
      " 1   Open       271680 non-null  float64\n",
      " 2   High       271680 non-null  float64\n",
      " 3   Low        271680 non-null  float64\n",
      " 4   Close      271680 non-null  float64\n",
      " 5   Adj Close  271680 non-null  float64\n",
      " 6   Volume     271680 non-null  int64  \n",
      " 7   Name       271680 non-null  object \n",
      "dtypes: float64(5), int64(1), object(2)\n",
      "memory usage: 16.6+ MB\n"
     ]
    }
   ],
   "source": [
    "df.info()"
   ]
  },
  {
   "cell_type": "code",
   "execution_count": 8,
   "metadata": {},
   "outputs": [],
   "source": [
    "# Let's drop the columns that we do not need \n",
    "\n",
    "df = df.drop(['Date', 'Name'], axis=1)"
   ]
  },
  {
   "cell_type": "code",
   "execution_count": 9,
   "metadata": {},
   "outputs": [
    {
     "data": {
      "text/html": [
       "<div>\n",
       "<style scoped>\n",
       "    .dataframe tbody tr th:only-of-type {\n",
       "        vertical-align: middle;\n",
       "    }\n",
       "\n",
       "    .dataframe tbody tr th {\n",
       "        vertical-align: top;\n",
       "    }\n",
       "\n",
       "    .dataframe thead th {\n",
       "        text-align: right;\n",
       "    }\n",
       "</style>\n",
       "<table border=\"1\" class=\"dataframe\">\n",
       "  <thead>\n",
       "    <tr style=\"text-align: right;\">\n",
       "      <th></th>\n",
       "      <th>Open</th>\n",
       "      <th>High</th>\n",
       "      <th>Low</th>\n",
       "      <th>Close</th>\n",
       "      <th>Adj Close</th>\n",
       "      <th>Volume</th>\n",
       "    </tr>\n",
       "  </thead>\n",
       "  <tbody>\n",
       "    <tr>\n",
       "      <th>0</th>\n",
       "      <td>7.622500</td>\n",
       "      <td>7.660714</td>\n",
       "      <td>7.585000</td>\n",
       "      <td>7.643214</td>\n",
       "      <td>6.562591</td>\n",
       "      <td>493729600</td>\n",
       "    </tr>\n",
       "    <tr>\n",
       "      <th>1</th>\n",
       "      <td>7.664286</td>\n",
       "      <td>7.699643</td>\n",
       "      <td>7.616071</td>\n",
       "      <td>7.656429</td>\n",
       "      <td>6.573935</td>\n",
       "      <td>601904800</td>\n",
       "    </tr>\n",
       "    <tr>\n",
       "      <th>2</th>\n",
       "      <td>7.656429</td>\n",
       "      <td>7.686786</td>\n",
       "      <td>7.526786</td>\n",
       "      <td>7.534643</td>\n",
       "      <td>6.469369</td>\n",
       "      <td>552160000</td>\n",
       "    </tr>\n",
       "    <tr>\n",
       "      <th>3</th>\n",
       "      <td>7.562500</td>\n",
       "      <td>7.571429</td>\n",
       "      <td>7.466071</td>\n",
       "      <td>7.520714</td>\n",
       "      <td>6.457407</td>\n",
       "      <td>477131200</td>\n",
       "    </tr>\n",
       "    <tr>\n",
       "      <th>4</th>\n",
       "      <td>7.510714</td>\n",
       "      <td>7.571429</td>\n",
       "      <td>7.466429</td>\n",
       "      <td>7.570714</td>\n",
       "      <td>6.500339</td>\n",
       "      <td>447610800</td>\n",
       "    </tr>\n",
       "  </tbody>\n",
       "</table>\n",
       "</div>"
      ],
      "text/plain": [
       "       Open      High       Low     Close  Adj Close     Volume\n",
       "0  7.622500  7.660714  7.585000  7.643214   6.562591  493729600\n",
       "1  7.664286  7.699643  7.616071  7.656429   6.573935  601904800\n",
       "2  7.656429  7.686786  7.526786  7.534643   6.469369  552160000\n",
       "3  7.562500  7.571429  7.466071  7.520714   6.457407  477131200\n",
       "4  7.510714  7.571429  7.466429  7.570714   6.500339  447610800"
      ]
     },
     "execution_count": 9,
     "metadata": {},
     "output_type": "execute_result"
    }
   ],
   "source": [
    "# Sanity Check \n",
    "\n",
    "df.head(5)"
   ]
  },
  {
   "cell_type": "code",
   "execution_count": 10,
   "metadata": {},
   "outputs": [],
   "source": [
    "# Let's create our columns \n",
    "\n",
    "df['Adj Closing Yday'] = df['Adj Close'].shift(1)"
   ]
  },
  {
   "cell_type": "code",
   "execution_count": 11,
   "metadata": {},
   "outputs": [
    {
     "data": {
      "text/html": [
       "<div>\n",
       "<style scoped>\n",
       "    .dataframe tbody tr th:only-of-type {\n",
       "        vertical-align: middle;\n",
       "    }\n",
       "\n",
       "    .dataframe tbody tr th {\n",
       "        vertical-align: top;\n",
       "    }\n",
       "\n",
       "    .dataframe thead th {\n",
       "        text-align: right;\n",
       "    }\n",
       "</style>\n",
       "<table border=\"1\" class=\"dataframe\">\n",
       "  <thead>\n",
       "    <tr style=\"text-align: right;\">\n",
       "      <th></th>\n",
       "      <th>Open</th>\n",
       "      <th>High</th>\n",
       "      <th>Low</th>\n",
       "      <th>Close</th>\n",
       "      <th>Adj Close</th>\n",
       "      <th>Volume</th>\n",
       "      <th>Adj Closing Yday</th>\n",
       "    </tr>\n",
       "  </thead>\n",
       "  <tbody>\n",
       "    <tr>\n",
       "      <th>0</th>\n",
       "      <td>7.622500</td>\n",
       "      <td>7.660714</td>\n",
       "      <td>7.585000</td>\n",
       "      <td>7.643214</td>\n",
       "      <td>6.562591</td>\n",
       "      <td>493729600</td>\n",
       "      <td>NaN</td>\n",
       "    </tr>\n",
       "    <tr>\n",
       "      <th>1</th>\n",
       "      <td>7.664286</td>\n",
       "      <td>7.699643</td>\n",
       "      <td>7.616071</td>\n",
       "      <td>7.656429</td>\n",
       "      <td>6.573935</td>\n",
       "      <td>601904800</td>\n",
       "      <td>6.562591</td>\n",
       "    </tr>\n",
       "    <tr>\n",
       "      <th>2</th>\n",
       "      <td>7.656429</td>\n",
       "      <td>7.686786</td>\n",
       "      <td>7.526786</td>\n",
       "      <td>7.534643</td>\n",
       "      <td>6.469369</td>\n",
       "      <td>552160000</td>\n",
       "      <td>6.573935</td>\n",
       "    </tr>\n",
       "    <tr>\n",
       "      <th>3</th>\n",
       "      <td>7.562500</td>\n",
       "      <td>7.571429</td>\n",
       "      <td>7.466071</td>\n",
       "      <td>7.520714</td>\n",
       "      <td>6.457407</td>\n",
       "      <td>477131200</td>\n",
       "      <td>6.469369</td>\n",
       "    </tr>\n",
       "    <tr>\n",
       "      <th>4</th>\n",
       "      <td>7.510714</td>\n",
       "      <td>7.571429</td>\n",
       "      <td>7.466429</td>\n",
       "      <td>7.570714</td>\n",
       "      <td>6.500339</td>\n",
       "      <td>447610800</td>\n",
       "      <td>6.457407</td>\n",
       "    </tr>\n",
       "  </tbody>\n",
       "</table>\n",
       "</div>"
      ],
      "text/plain": [
       "       Open      High       Low     Close  Adj Close     Volume  \\\n",
       "0  7.622500  7.660714  7.585000  7.643214   6.562591  493729600   \n",
       "1  7.664286  7.699643  7.616071  7.656429   6.573935  601904800   \n",
       "2  7.656429  7.686786  7.526786  7.534643   6.469369  552160000   \n",
       "3  7.562500  7.571429  7.466071  7.520714   6.457407  477131200   \n",
       "4  7.510714  7.571429  7.466429  7.570714   6.500339  447610800   \n",
       "\n",
       "   Adj Closing Yday  \n",
       "0               NaN  \n",
       "1          6.562591  \n",
       "2          6.573935  \n",
       "3          6.469369  \n",
       "4          6.457407  "
      ]
     },
     "execution_count": 11,
     "metadata": {},
     "output_type": "execute_result"
    }
   ],
   "source": [
    "# Sanity Check \n",
    "\n",
    "df.head(5)"
   ]
  },
  {
   "cell_type": "code",
   "execution_count": 12,
   "metadata": {},
   "outputs": [
    {
     "data": {
      "text/plain": [
       "Open                0\n",
       "High                0\n",
       "Low                 0\n",
       "Close               0\n",
       "Adj Close           0\n",
       "Volume              0\n",
       "Adj Closing Yday    1\n",
       "dtype: int64"
      ]
     },
     "execution_count": 12,
     "metadata": {},
     "output_type": "execute_result"
    }
   ],
   "source": [
    "# Let's check for any NaN values\n",
    "\n",
    "df.isna().sum()"
   ]
  },
  {
   "cell_type": "code",
   "execution_count": 13,
   "metadata": {},
   "outputs": [],
   "source": [
    "# Dropping the NaN row\n",
    "\n",
    "df = df.dropna()"
   ]
  },
  {
   "cell_type": "code",
   "execution_count": 14,
   "metadata": {},
   "outputs": [
    {
     "data": {
      "text/html": [
       "<div>\n",
       "<style scoped>\n",
       "    .dataframe tbody tr th:only-of-type {\n",
       "        vertical-align: middle;\n",
       "    }\n",
       "\n",
       "    .dataframe tbody tr th {\n",
       "        vertical-align: top;\n",
       "    }\n",
       "\n",
       "    .dataframe thead th {\n",
       "        text-align: right;\n",
       "    }\n",
       "</style>\n",
       "<table border=\"1\" class=\"dataframe\">\n",
       "  <thead>\n",
       "    <tr style=\"text-align: right;\">\n",
       "      <th></th>\n",
       "      <th>Open</th>\n",
       "      <th>High</th>\n",
       "      <th>Low</th>\n",
       "      <th>Close</th>\n",
       "      <th>Adj Close</th>\n",
       "      <th>Volume</th>\n",
       "      <th>Adj Closing Yday</th>\n",
       "    </tr>\n",
       "  </thead>\n",
       "  <tbody>\n",
       "    <tr>\n",
       "      <th>1</th>\n",
       "      <td>7.664286</td>\n",
       "      <td>7.699643</td>\n",
       "      <td>7.616071</td>\n",
       "      <td>7.656429</td>\n",
       "      <td>6.573935</td>\n",
       "      <td>601904800</td>\n",
       "      <td>6.562591</td>\n",
       "    </tr>\n",
       "    <tr>\n",
       "      <th>2</th>\n",
       "      <td>7.656429</td>\n",
       "      <td>7.686786</td>\n",
       "      <td>7.526786</td>\n",
       "      <td>7.534643</td>\n",
       "      <td>6.469369</td>\n",
       "      <td>552160000</td>\n",
       "      <td>6.573935</td>\n",
       "    </tr>\n",
       "    <tr>\n",
       "      <th>3</th>\n",
       "      <td>7.562500</td>\n",
       "      <td>7.571429</td>\n",
       "      <td>7.466071</td>\n",
       "      <td>7.520714</td>\n",
       "      <td>6.457407</td>\n",
       "      <td>477131200</td>\n",
       "      <td>6.469369</td>\n",
       "    </tr>\n",
       "    <tr>\n",
       "      <th>4</th>\n",
       "      <td>7.510714</td>\n",
       "      <td>7.571429</td>\n",
       "      <td>7.466429</td>\n",
       "      <td>7.570714</td>\n",
       "      <td>6.500339</td>\n",
       "      <td>447610800</td>\n",
       "      <td>6.457407</td>\n",
       "    </tr>\n",
       "    <tr>\n",
       "      <th>5</th>\n",
       "      <td>7.600000</td>\n",
       "      <td>7.607143</td>\n",
       "      <td>7.444643</td>\n",
       "      <td>7.503929</td>\n",
       "      <td>6.442997</td>\n",
       "      <td>462229600</td>\n",
       "      <td>6.500339</td>\n",
       "    </tr>\n",
       "  </tbody>\n",
       "</table>\n",
       "</div>"
      ],
      "text/plain": [
       "       Open      High       Low     Close  Adj Close     Volume  \\\n",
       "1  7.664286  7.699643  7.616071  7.656429   6.573935  601904800   \n",
       "2  7.656429  7.686786  7.526786  7.534643   6.469369  552160000   \n",
       "3  7.562500  7.571429  7.466071  7.520714   6.457407  477131200   \n",
       "4  7.510714  7.571429  7.466429  7.570714   6.500339  447610800   \n",
       "5  7.600000  7.607143  7.444643  7.503929   6.442997  462229600   \n",
       "\n",
       "   Adj Closing Yday  \n",
       "1          6.562591  \n",
       "2          6.573935  \n",
       "3          6.469369  \n",
       "4          6.457407  \n",
       "5          6.500339  "
      ]
     },
     "execution_count": 14,
     "metadata": {},
     "output_type": "execute_result"
    }
   ],
   "source": [
    "# Sanity Check \n",
    "\n",
    "df.head(5)"
   ]
  },
  {
   "cell_type": "code",
   "execution_count": 15,
   "metadata": {},
   "outputs": [
    {
     "data": {
      "text/plain": [
       "(271679, 7)"
      ]
     },
     "execution_count": 15,
     "metadata": {},
     "output_type": "execute_result"
    }
   ],
   "source": [
    "# Checking the new shape of our dataframe \n",
    "\n",
    "df.shape"
   ]
  },
  {
   "cell_type": "code",
   "execution_count": 16,
   "metadata": {},
   "outputs": [
    {
     "name": "stdout",
     "output_type": "stream",
     "text": [
      "The dataframe now has 271679 rows and 7 columns.\n"
     ]
    }
   ],
   "source": [
    "# Printing the rows and columns of the dataframe \n",
    "\n",
    "print(f\"The dataframe now has {df.shape[0]} rows and {df.shape[1]} columns.\")"
   ]
  },
  {
   "cell_type": "code",
   "execution_count": 17,
   "metadata": {},
   "outputs": [],
   "source": [
    "# Creating the binary column by applying the trading strategy \n",
    "\n",
    "df['Adj Closing Price Change'] = np.where(df['Adj Close'] - df['Adj Closing Yday'] > 0, 1, 0)"
   ]
  },
  {
   "cell_type": "code",
   "execution_count": 18,
   "metadata": {},
   "outputs": [
    {
     "data": {
      "text/html": [
       "<div>\n",
       "<style scoped>\n",
       "    .dataframe tbody tr th:only-of-type {\n",
       "        vertical-align: middle;\n",
       "    }\n",
       "\n",
       "    .dataframe tbody tr th {\n",
       "        vertical-align: top;\n",
       "    }\n",
       "\n",
       "    .dataframe thead th {\n",
       "        text-align: right;\n",
       "    }\n",
       "</style>\n",
       "<table border=\"1\" class=\"dataframe\">\n",
       "  <thead>\n",
       "    <tr style=\"text-align: right;\">\n",
       "      <th></th>\n",
       "      <th>Open</th>\n",
       "      <th>High</th>\n",
       "      <th>Low</th>\n",
       "      <th>Close</th>\n",
       "      <th>Adj Close</th>\n",
       "      <th>Volume</th>\n",
       "      <th>Adj Closing Yday</th>\n",
       "      <th>Adj Closing Price Change</th>\n",
       "    </tr>\n",
       "  </thead>\n",
       "  <tbody>\n",
       "    <tr>\n",
       "      <th>234554</th>\n",
       "      <td>120.089996</td>\n",
       "      <td>124.980003</td>\n",
       "      <td>120.070000</td>\n",
       "      <td>122.190002</td>\n",
       "      <td>122.190002</td>\n",
       "      <td>3805600</td>\n",
       "      <td>119.300003</td>\n",
       "      <td>1</td>\n",
       "    </tr>\n",
       "    <tr>\n",
       "      <th>234626</th>\n",
       "      <td>111.730003</td>\n",
       "      <td>111.889999</td>\n",
       "      <td>107.449997</td>\n",
       "      <td>109.480003</td>\n",
       "      <td>109.480003</td>\n",
       "      <td>1995900</td>\n",
       "      <td>110.360001</td>\n",
       "      <td>0</td>\n",
       "    </tr>\n",
       "    <tr>\n",
       "      <th>219341</th>\n",
       "      <td>47.860001</td>\n",
       "      <td>48.634998</td>\n",
       "      <td>47.820000</td>\n",
       "      <td>48.424999</td>\n",
       "      <td>45.650814</td>\n",
       "      <td>2290800</td>\n",
       "      <td>45.334999</td>\n",
       "      <td>1</td>\n",
       "    </tr>\n",
       "    <tr>\n",
       "      <th>54874</th>\n",
       "      <td>34.919998</td>\n",
       "      <td>35.099998</td>\n",
       "      <td>34.820000</td>\n",
       "      <td>34.980000</td>\n",
       "      <td>34.980000</td>\n",
       "      <td>1537700</td>\n",
       "      <td>35.090000</td>\n",
       "      <td>0</td>\n",
       "    </tr>\n",
       "    <tr>\n",
       "      <th>55027</th>\n",
       "      <td>38.840000</td>\n",
       "      <td>39.020000</td>\n",
       "      <td>37.910000</td>\n",
       "      <td>38.230000</td>\n",
       "      <td>38.230000</td>\n",
       "      <td>3311600</td>\n",
       "      <td>38.770000</td>\n",
       "      <td>0</td>\n",
       "    </tr>\n",
       "    <tr>\n",
       "      <th>130181</th>\n",
       "      <td>274.000000</td>\n",
       "      <td>274.690002</td>\n",
       "      <td>268.000000</td>\n",
       "      <td>271.709991</td>\n",
       "      <td>271.709991</td>\n",
       "      <td>1345400</td>\n",
       "      <td>272.179993</td>\n",
       "      <td>0</td>\n",
       "    </tr>\n",
       "    <tr>\n",
       "      <th>74395</th>\n",
       "      <td>26.855000</td>\n",
       "      <td>26.875000</td>\n",
       "      <td>26.559999</td>\n",
       "      <td>26.735001</td>\n",
       "      <td>26.735001</td>\n",
       "      <td>1919600</td>\n",
       "      <td>26.844999</td>\n",
       "      <td>0</td>\n",
       "    </tr>\n",
       "    <tr>\n",
       "      <th>127279</th>\n",
       "      <td>272.250000</td>\n",
       "      <td>294.570007</td>\n",
       "      <td>270.500000</td>\n",
       "      <td>285.010010</td>\n",
       "      <td>285.010010</td>\n",
       "      <td>730900</td>\n",
       "      <td>273.850006</td>\n",
       "      <td>1</td>\n",
       "    </tr>\n",
       "    <tr>\n",
       "      <th>15565</th>\n",
       "      <td>49.470001</td>\n",
       "      <td>49.669998</td>\n",
       "      <td>49.099998</td>\n",
       "      <td>49.360001</td>\n",
       "      <td>36.789650</td>\n",
       "      <td>2032000</td>\n",
       "      <td>36.871643</td>\n",
       "      <td>0</td>\n",
       "    </tr>\n",
       "    <tr>\n",
       "      <th>121218</th>\n",
       "      <td>1109.699951</td>\n",
       "      <td>1117.250000</td>\n",
       "      <td>1100.500000</td>\n",
       "      <td>1116.560059</td>\n",
       "      <td>1116.560059</td>\n",
       "      <td>1471800</td>\n",
       "      <td>1104.209961</td>\n",
       "      <td>1</td>\n",
       "    </tr>\n",
       "  </tbody>\n",
       "</table>\n",
       "</div>"
      ],
      "text/plain": [
       "               Open         High          Low        Close    Adj Close  \\\n",
       "234554   120.089996   124.980003   120.070000   122.190002   122.190002   \n",
       "234626   111.730003   111.889999   107.449997   109.480003   109.480003   \n",
       "219341    47.860001    48.634998    47.820000    48.424999    45.650814   \n",
       "54874     34.919998    35.099998    34.820000    34.980000    34.980000   \n",
       "55027     38.840000    39.020000    37.910000    38.230000    38.230000   \n",
       "130181   274.000000   274.690002   268.000000   271.709991   271.709991   \n",
       "74395     26.855000    26.875000    26.559999    26.735001    26.735001   \n",
       "127279   272.250000   294.570007   270.500000   285.010010   285.010010   \n",
       "15565     49.470001    49.669998    49.099998    49.360001    36.789650   \n",
       "121218  1109.699951  1117.250000  1100.500000  1116.560059  1116.560059   \n",
       "\n",
       "         Volume  Adj Closing Yday  Adj Closing Price Change  \n",
       "234554  3805600        119.300003                         1  \n",
       "234626  1995900        110.360001                         0  \n",
       "219341  2290800         45.334999                         1  \n",
       "54874   1537700         35.090000                         0  \n",
       "55027   3311600         38.770000                         0  \n",
       "130181  1345400        272.179993                         0  \n",
       "74395   1919600         26.844999                         0  \n",
       "127279   730900        273.850006                         1  \n",
       "15565   2032000         36.871643                         0  \n",
       "121218  1471800       1104.209961                         1  "
      ]
     },
     "execution_count": 18,
     "metadata": {},
     "output_type": "execute_result"
    }
   ],
   "source": [
    "# Sanity Check\n",
    "\n",
    "df.sample(10)"
   ]
  },
  {
   "cell_type": "code",
   "execution_count": 19,
   "metadata": {},
   "outputs": [
    {
     "data": {
      "text/plain": [
       "1    142445\n",
       "0    129234\n",
       "Name: Adj Closing Price Change, dtype: int64"
      ]
     },
     "execution_count": 19,
     "metadata": {},
     "output_type": "execute_result"
    }
   ],
   "source": [
    "# Value counts of the new column \n",
    "\n",
    "df['Adj Closing Price Change'].value_counts()"
   ]
  },
  {
   "cell_type": "code",
   "execution_count": 20,
   "metadata": {},
   "outputs": [
    {
     "data": {
      "image/png": "[encoded data removed]",
      "text/plain": [
       "<Figure size 640x480 with 1 Axes>"
      ]
     },
     "metadata": {},
     "output_type": "display_data"
    },
    {
     "name": "stdout",
     "output_type": "stream",
     "text": [
      "1    0.524314\n",
      "0    0.475686\n",
      "Name: Adj Closing Price Change, dtype: float64\n"
     ]
    }
   ],
   "source": [
    "# Plot the visualization \n",
    "\n",
    "df['Adj Closing Price Change'].value_counts().plot(kind='bar')\n",
    "plt.xlabel('')\n",
    "plt.ylabel('')\n",
    "plt.title('')\n",
    "plt.xticks(rotation=0)\n",
    "plt.show()\n",
    "\n",
    "print(df['Adj Closing Price Change'].value_counts(normalize=True))"
   ]
  },
  {
   "attachments": {},
   "cell_type": "markdown",
   "metadata": {},
   "source": [
    "### Re-Sampling: "
   ]
  },
  {
   "cell_type": "code",
   "execution_count": 21,
   "metadata": {},
   "outputs": [],
   "source": [
    "class_0 = df[df['Adj Closing Price Change'] == 0]"
   ]
  },
  {
   "cell_type": "code",
   "execution_count": 22,
   "metadata": {},
   "outputs": [],
   "source": [
    "class_1 = df[df['Adj Closing Price Change'] == 1]"
   ]
  },
  {
   "cell_type": "code",
   "execution_count": 23,
   "metadata": {},
   "outputs": [
    {
     "name": "stdout",
     "output_type": "stream",
     "text": [
      "129234\n",
      "142445\n"
     ]
    }
   ],
   "source": [
    "class_0_count = len(class_0)\n",
    "class_1_count = len(class_1)\n",
    "\n",
    "print(class_0_count)\n",
    "print(class_1_count)"
   ]
  },
  {
   "cell_type": "code",
   "execution_count": 24,
   "metadata": {},
   "outputs": [],
   "source": [
    "from sklearn.utils import resample\n",
    "\n",
    "# Determine the desired number of samples for each class\n",
    "desired_count = class_0_count\n",
    "\n",
    "# Downsample class 0\n",
    "downsampled_class_0 = resample(class_0, n_samples=desired_count, random_state=42)\n",
    "\n",
    "# Downsample class 1\n",
    "downsampled_class_1 = resample(class_1, n_samples=desired_count, random_state=42)\n",
    "\n",
    "\n",
    "# Combine the downsampled samples\n",
    "balanced_dataset = pd.concat([downsampled_class_0, downsampled_class_1])"
   ]
  },
  {
   "cell_type": "code",
   "execution_count": 25,
   "metadata": {},
   "outputs": [
    {
     "data": {
      "text/plain": [
       "0    129234\n",
       "1    129234\n",
       "Name: Adj Closing Price Change, dtype: int64"
      ]
     },
     "execution_count": 25,
     "metadata": {},
     "output_type": "execute_result"
    }
   ],
   "source": [
    "balanced_dataset['Adj Closing Price Change'].value_counts()"
   ]
  },
  {
   "cell_type": "code",
   "execution_count": 26,
   "metadata": {},
   "outputs": [
    {
     "data": {
      "text/html": [
       "<div>\n",
       "<style scoped>\n",
       "    .dataframe tbody tr th:only-of-type {\n",
       "        vertical-align: middle;\n",
       "    }\n",
       "\n",
       "    .dataframe tbody tr th {\n",
       "        vertical-align: top;\n",
       "    }\n",
       "\n",
       "    .dataframe thead th {\n",
       "        text-align: right;\n",
       "    }\n",
       "</style>\n",
       "<table border=\"1\" class=\"dataframe\">\n",
       "  <thead>\n",
       "    <tr style=\"text-align: right;\">\n",
       "      <th></th>\n",
       "      <th>Open</th>\n",
       "      <th>High</th>\n",
       "      <th>Low</th>\n",
       "      <th>Close</th>\n",
       "      <th>Adj Close</th>\n",
       "      <th>Volume</th>\n",
       "      <th>Adj Closing Yday</th>\n",
       "      <th>Adj Closing Price Change</th>\n",
       "    </tr>\n",
       "  </thead>\n",
       "  <tbody>\n",
       "    <tr>\n",
       "      <th>256593</th>\n",
       "      <td>191.350006</td>\n",
       "      <td>191.750000</td>\n",
       "      <td>187.399994</td>\n",
       "      <td>188.070007</td>\n",
       "      <td>188.070007</td>\n",
       "      <td>646400</td>\n",
       "      <td>190.020004</td>\n",
       "      <td>0</td>\n",
       "    </tr>\n",
       "    <tr>\n",
       "      <th>33386</th>\n",
       "      <td>84.639999</td>\n",
       "      <td>84.980003</td>\n",
       "      <td>83.269997</td>\n",
       "      <td>83.400002</td>\n",
       "      <td>83.400002</td>\n",
       "      <td>341700</td>\n",
       "      <td>84.769997</td>\n",
       "      <td>0</td>\n",
       "    </tr>\n",
       "    <tr>\n",
       "      <th>1815</th>\n",
       "      <td>35.527500</td>\n",
       "      <td>35.700001</td>\n",
       "      <td>34.932499</td>\n",
       "      <td>34.959999</td>\n",
       "      <td>33.098114</td>\n",
       "      <td>158119600</td>\n",
       "      <td>33.481556</td>\n",
       "      <td>0</td>\n",
       "    </tr>\n",
       "    <tr>\n",
       "      <th>218202</th>\n",
       "      <td>12.205000</td>\n",
       "      <td>12.617500</td>\n",
       "      <td>12.205000</td>\n",
       "      <td>12.555000</td>\n",
       "      <td>11.289334</td>\n",
       "      <td>10760400</td>\n",
       "      <td>11.379254</td>\n",
       "      <td>0</td>\n",
       "    </tr>\n",
       "    <tr>\n",
       "      <th>269326</th>\n",
       "      <td>42.430000</td>\n",
       "      <td>42.470001</td>\n",
       "      <td>41.639999</td>\n",
       "      <td>41.810001</td>\n",
       "      <td>36.632263</td>\n",
       "      <td>4498100</td>\n",
       "      <td>37.105381</td>\n",
       "      <td>0</td>\n",
       "    </tr>\n",
       "    <tr>\n",
       "      <th>...</th>\n",
       "      <td>...</td>\n",
       "      <td>...</td>\n",
       "      <td>...</td>\n",
       "      <td>...</td>\n",
       "      <td>...</td>\n",
       "      <td>...</td>\n",
       "      <td>...</td>\n",
       "      <td>...</td>\n",
       "    </tr>\n",
       "    <tr>\n",
       "      <th>165813</th>\n",
       "      <td>47.500000</td>\n",
       "      <td>47.790001</td>\n",
       "      <td>47.279999</td>\n",
       "      <td>47.610001</td>\n",
       "      <td>45.143173</td>\n",
       "      <td>6595200</td>\n",
       "      <td>45.086273</td>\n",
       "      <td>1</td>\n",
       "    </tr>\n",
       "    <tr>\n",
       "      <th>139416</th>\n",
       "      <td>414.660004</td>\n",
       "      <td>418.350006</td>\n",
       "      <td>413.170013</td>\n",
       "      <td>417.559998</td>\n",
       "      <td>417.073212</td>\n",
       "      <td>914800</td>\n",
       "      <td>410.810516</td>\n",
       "      <td>1</td>\n",
       "    </tr>\n",
       "    <tr>\n",
       "      <th>16004</th>\n",
       "      <td>57.869999</td>\n",
       "      <td>59.310001</td>\n",
       "      <td>57.689999</td>\n",
       "      <td>59.119999</td>\n",
       "      <td>47.205238</td>\n",
       "      <td>3712600</td>\n",
       "      <td>46.207153</td>\n",
       "      <td>1</td>\n",
       "    </tr>\n",
       "    <tr>\n",
       "      <th>173892</th>\n",
       "      <td>11.380000</td>\n",
       "      <td>11.530000</td>\n",
       "      <td>11.350000</td>\n",
       "      <td>11.430000</td>\n",
       "      <td>10.147120</td>\n",
       "      <td>5862500</td>\n",
       "      <td>10.031715</td>\n",
       "      <td>1</td>\n",
       "    </tr>\n",
       "    <tr>\n",
       "      <th>131022</th>\n",
       "      <td>17.750000</td>\n",
       "      <td>18.250000</td>\n",
       "      <td>17.650000</td>\n",
       "      <td>18.230000</td>\n",
       "      <td>18.230000</td>\n",
       "      <td>1222700</td>\n",
       "      <td>17.719999</td>\n",
       "      <td>1</td>\n",
       "    </tr>\n",
       "  </tbody>\n",
       "</table>\n",
       "<p>258468 rows × 8 columns</p>\n",
       "</div>"
      ],
      "text/plain": [
       "              Open        High         Low       Close   Adj Close     Volume  \\\n",
       "256593  191.350006  191.750000  187.399994  188.070007  188.070007     646400   \n",
       "33386    84.639999   84.980003   83.269997   83.400002   83.400002     341700   \n",
       "1815     35.527500   35.700001   34.932499   34.959999   33.098114  158119600   \n",
       "218202   12.205000   12.617500   12.205000   12.555000   11.289334   10760400   \n",
       "269326   42.430000   42.470001   41.639999   41.810001   36.632263    4498100   \n",
       "...            ...         ...         ...         ...         ...        ...   \n",
       "165813   47.500000   47.790001   47.279999   47.610001   45.143173    6595200   \n",
       "139416  414.660004  418.350006  413.170013  417.559998  417.073212     914800   \n",
       "16004    57.869999   59.310001   57.689999   59.119999   47.205238    3712600   \n",
       "173892   11.380000   11.530000   11.350000   11.430000   10.147120    5862500   \n",
       "131022   17.750000   18.250000   17.650000   18.230000   18.230000    1222700   \n",
       "\n",
       "        Adj Closing Yday  Adj Closing Price Change  \n",
       "256593        190.020004                         0  \n",
       "33386          84.769997                         0  \n",
       "1815           33.481556                         0  \n",
       "218202         11.379254                         0  \n",
       "269326         37.105381                         0  \n",
       "...                  ...                       ...  \n",
       "165813         45.086273                         1  \n",
       "139416        410.810516                         1  \n",
       "16004          46.207153                         1  \n",
       "173892         10.031715                         1  \n",
       "131022         17.719999                         1  \n",
       "\n",
       "[258468 rows x 8 columns]"
      ]
     },
     "execution_count": 26,
     "metadata": {},
     "output_type": "execute_result"
    }
   ],
   "source": [
    "balanced_dataset"
   ]
  },
  {
   "cell_type": "code",
   "execution_count": 29,
   "metadata": {},
   "outputs": [
    {
     "data": {
      "text/plain": [
       "(258468, 8)"
      ]
     },
     "execution_count": 29,
     "metadata": {},
     "output_type": "execute_result"
    }
   ],
   "source": [
    "balanced_dataset.shape"
   ]
  },
  {
   "cell_type": "code",
   "execution_count": 60,
   "metadata": {},
   "outputs": [],
   "source": [
    "sample_df = balanced_dataset.sample(10000).copy()"
   ]
  },
  {
   "cell_type": "code",
   "execution_count": 61,
   "metadata": {},
   "outputs": [
    {
     "data": {
      "text/html": [
       "<div>\n",
       "<style scoped>\n",
       "    .dataframe tbody tr th:only-of-type {\n",
       "        vertical-align: middle;\n",
       "    }\n",
       "\n",
       "    .dataframe tbody tr th {\n",
       "        vertical-align: top;\n",
       "    }\n",
       "\n",
       "    .dataframe thead th {\n",
       "        text-align: right;\n",
       "    }\n",
       "</style>\n",
       "<table border=\"1\" class=\"dataframe\">\n",
       "  <thead>\n",
       "    <tr style=\"text-align: right;\">\n",
       "      <th></th>\n",
       "      <th>Open</th>\n",
       "      <th>High</th>\n",
       "      <th>Low</th>\n",
       "      <th>Close</th>\n",
       "      <th>Adj Close</th>\n",
       "      <th>Volume</th>\n",
       "      <th>Adj Closing Yday</th>\n",
       "      <th>Adj Closing Price Change</th>\n",
       "    </tr>\n",
       "  </thead>\n",
       "  <tbody>\n",
       "    <tr>\n",
       "      <th>236459</th>\n",
       "      <td>99.500000</td>\n",
       "      <td>100.570000</td>\n",
       "      <td>98.389999</td>\n",
       "      <td>98.580002</td>\n",
       "      <td>89.595734</td>\n",
       "      <td>2450000</td>\n",
       "      <td>90.559128</td>\n",
       "      <td>0</td>\n",
       "    </tr>\n",
       "    <tr>\n",
       "      <th>78749</th>\n",
       "      <td>47.160000</td>\n",
       "      <td>47.220001</td>\n",
       "      <td>46.480000</td>\n",
       "      <td>46.970001</td>\n",
       "      <td>44.740360</td>\n",
       "      <td>26747200</td>\n",
       "      <td>45.073746</td>\n",
       "      <td>0</td>\n",
       "    </tr>\n",
       "    <tr>\n",
       "      <th>116849</th>\n",
       "      <td>434.312103</td>\n",
       "      <td>436.523804</td>\n",
       "      <td>430.013214</td>\n",
       "      <td>433.270996</td>\n",
       "      <td>433.270996</td>\n",
       "      <td>6056416</td>\n",
       "      <td>438.820190</td>\n",
       "      <td>0</td>\n",
       "    </tr>\n",
       "    <tr>\n",
       "      <th>176158</th>\n",
       "      <td>24.070000</td>\n",
       "      <td>24.200001</td>\n",
       "      <td>23.740000</td>\n",
       "      <td>23.930000</td>\n",
       "      <td>18.786953</td>\n",
       "      <td>65512400</td>\n",
       "      <td>18.810499</td>\n",
       "      <td>0</td>\n",
       "    </tr>\n",
       "    <tr>\n",
       "      <th>137449</th>\n",
       "      <td>58.049999</td>\n",
       "      <td>58.220001</td>\n",
       "      <td>57.169998</td>\n",
       "      <td>57.860001</td>\n",
       "      <td>53.495506</td>\n",
       "      <td>2572100</td>\n",
       "      <td>53.486259</td>\n",
       "      <td>1</td>\n",
       "    </tr>\n",
       "  </tbody>\n",
       "</table>\n",
       "</div>"
      ],
      "text/plain": [
       "              Open        High         Low       Close   Adj Close    Volume  \\\n",
       "236459   99.500000  100.570000   98.389999   98.580002   89.595734   2450000   \n",
       "78749    47.160000   47.220001   46.480000   46.970001   44.740360  26747200   \n",
       "116849  434.312103  436.523804  430.013214  433.270996  433.270996   6056416   \n",
       "176158   24.070000   24.200001   23.740000   23.930000   18.786953  65512400   \n",
       "137449   58.049999   58.220001   57.169998   57.860001   53.495506   2572100   \n",
       "\n",
       "        Adj Closing Yday  Adj Closing Price Change  \n",
       "236459         90.559128                         0  \n",
       "78749          45.073746                         0  \n",
       "116849        438.820190                         0  \n",
       "176158         18.810499                         0  \n",
       "137449         53.486259                         1  "
      ]
     },
     "execution_count": 61,
     "metadata": {},
     "output_type": "execute_result"
    }
   ],
   "source": [
    "sample_df.head()"
   ]
  },
  {
   "cell_type": "code",
   "execution_count": 62,
   "metadata": {},
   "outputs": [
    {
     "data": {
      "text/plain": [
       "(10000, 8)"
      ]
     },
     "execution_count": 62,
     "metadata": {},
     "output_type": "execute_result"
    }
   ],
   "source": [
    "sample_df.shape"
   ]
  },
  {
   "cell_type": "code",
   "execution_count": 63,
   "metadata": {},
   "outputs": [
    {
     "data": {
      "text/plain": [
       "0    5010\n",
       "1    4990\n",
       "Name: Adj Closing Price Change, dtype: int64"
      ]
     },
     "execution_count": 63,
     "metadata": {},
     "output_type": "execute_result"
    }
   ],
   "source": [
    "sample_df['Adj Closing Price Change'].value_counts()"
   ]
  },
  {
   "cell_type": "code",
   "execution_count": null,
   "metadata": {},
   "outputs": [],
   "source": []
  },
  {
   "cell_type": "code",
   "execution_count": null,
   "metadata": {},
   "outputs": [],
   "source": []
  },
  {
   "cell_type": "code",
   "execution_count": null,
   "metadata": {},
   "outputs": [],
   "source": []
  },
  {
   "cell_type": "code",
   "execution_count": null,
   "metadata": {},
   "outputs": [],
   "source": []
  },
  {
   "cell_type": "code",
   "execution_count": null,
   "metadata": {},
   "outputs": [],
   "source": []
  },
  {
   "cell_type": "code",
   "execution_count": null,
   "metadata": {},
   "outputs": [],
   "source": []
  },
  {
   "attachments": {},
   "cell_type": "markdown",
   "metadata": {},
   "source": [
    "### TO CSV:"
   ]
  },
  {
   "cell_type": "code",
   "execution_count": 27,
   "metadata": {},
   "outputs": [],
   "source": [
    "df.to_csv('clean_data.csv', index=False)"
   ]
  },
  {
   "cell_type": "code",
   "execution_count": 64,
   "metadata": {},
   "outputs": [],
   "source": [
    "sample_df.to_csv('sample_balanced_data.csv', index=False)"
   ]
  },
  {
   "cell_type": "code",
   "execution_count": null,
   "metadata": {},
   "outputs": [],
   "source": []
  },
  {
   "cell_type": "code",
   "execution_count": null,
   "metadata": {},
   "outputs": [],
   "source": []
  },
  {
   "cell_type": "code",
   "execution_count": null,
   "metadata": {},
   "outputs": [],
   "source": []
  },
  {
   "cell_type": "code",
   "execution_count": null,
   "metadata": {},
   "outputs": [],
   "source": []
  },
  {
   "cell_type": "code",
   "execution_count": null,
   "metadata": {},
   "outputs": [],
   "source": []
  }
 ],
 "metadata": {
  "kernelspec": {
   "display_name": "base",
   "language": "python",
   "name": "python3"
  },
  "language_info": {
   "codemirror_mode": {
    "name": "ipython",
    "version": 3
   },
   "file_extension": ".py",
   "mimetype": "text/x-python",
   "name": "python",
   "nbconvert_exporter": "python",
   "pygments_lexer": "ipython3",
   "version": "3.10.11"
  },
  "orig_nbformat": 4
 },
 "nbformat": 4,
 "nbformat_minor": 2
}
