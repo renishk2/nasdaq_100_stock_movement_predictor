{
 "cells": [
  {
   "attachments": {},
   "cell_type": "markdown",
   "id": "4090777a",
   "metadata": {},
   "source": [
    "---"
   ]
  },
  {
   "attachments": {},
   "cell_type": "markdown",
   "id": "3faf2971",
   "metadata": {},
   "source": [
    "# NASDAQ 100 Stocks Predictor - Introduction and Data Cleaning"
   ]
  },
  {
   "attachments": {},
   "cell_type": "markdown",
   "id": "45991588-fb06-480f-a147-315133bd1af1",
   "metadata": {},
   "source": [
    "**Author:** Renish Kanjiyani <br>\n",
    "**Notebook:** 1 - Intro & Data Cleaning <br>\n",
    "**Date:** 05/11/2023 <br>"
   ]
  },
  {
   "attachments": {},
   "cell_type": "markdown",
   "id": "5b467307",
   "metadata": {},
   "source": [
    "---"
   ]
  },
  {
   "attachments": {},
   "cell_type": "markdown",
   "id": "fad0f4a3-497b-4398-ba9f-a651101a6be6",
   "metadata": {
    "tags": []
   },
   "source": [
    "## Table of Contents:"
   ]
  },
  {
   "attachments": {},
   "cell_type": "markdown",
   "id": "8e37329a-ff15-4b85-830d-c500a8977681",
   "metadata": {},
   "source": [
    "## 1. [Introduction](#1)\n",
    "\n",
    "### [1.1 Background Information](#1.1)\n",
    "\n",
    "### [1.2 Business Question](#1.2)\n",
    "\n",
    "### [1.3 Dataset](#1.3)\n",
    "\n",
    "### [1.4 Data Dictionary](#1.4)\n",
    "\n",
    "### [1.5 Goal](#1.5)\n",
    "\n",
    "\n",
    "## 2. [Data Cleaning](#2)\n",
    "\n",
    "### [2.1 Importing Packages](#2.1)\n",
    "\n",
    "### [2.2 Shape of dataframe](#2.2)  \n",
    "\n",
    "### [2.3 Information on dataframe](#2.3)\n",
    "\n",
    "### [2.4 Null Values](#2.4)\n",
    "\n",
    "### [2.5 Duplicates](#2.5)\n",
    "\n",
    "\n",
    "## 3. [Conclusion](#3)"
   ]
  },
  {
   "attachments": {},
   "cell_type": "markdown",
   "id": "de3e8207",
   "metadata": {},
   "source": [
    "----------------------------------------"
   ]
  },
  {
   "attachments": {},
   "cell_type": "markdown",
   "id": "1a8a1f46",
   "metadata": {},
   "source": [
    "<a id=1></a>\n",
    "## INTRODUCTION:"
   ]
  },
  {
   "attachments": {},
   "cell_type": "markdown",
   "id": "925d7cc0",
   "metadata": {},
   "source": [
    "<a id=1.1></a>\n",
    "### Background Information:\n",
    "\n",
    "Did you know that `61%` of U.S. adults own stocks? The lowest this percentage has hit was in `2013` and `2016` when only `52%` of adults owned stocks. For over a decade now, more than 50% of the adult population in the U.S. are regularly investing in the stock market. Investing has always been a passion, while for others it has now become a hobby and a way to make money. One would mainly invest for a short-term while the other would prefer investing for a long-term. The only difference is that people that invest for short-term are regularly buying/selling. \n",
    "\n",
    "When you think about buying and selling there are so many factors involved that could potentially lead to a profit or a loss per trade. The stock market is very volatile, prices increase/decrease in no time. Due to this volatility one carefully invests in stocks that are guaranteed to result some fruit. A lot of research goes into the particular stock before it is bought or sold by individuals. There are various technologies in the world that help individuals build a portfolio based on the risk level they set. This is then managed by the company you signed up with. One would only get access to the dashboard where they are able to see their returns. But what if we could find a way where individuals can grow their portfolio by creating a technology that could help them determine the stock movement and based on that invest at the right time? "
   ]
  },
  {
   "attachments": {},
   "cell_type": "markdown",
   "id": "514773e2",
   "metadata": {},
   "source": [
    "<a id=1.2></a>\n",
    "### Business Question:\n",
    "\n",
    "Can we leverage machine learning models to help us predict stocks movement? \n",
    "\n",
    "**Value:**\n",
    "\n",
    "Through the positive/negative movement we will be able to predict whether the stock is going to go up or down based on historical data. Through this individuals then have a chance to choose when/what stocks they would prefer investing in."
   ]
  },
  {
   "attachments": {},
   "cell_type": "markdown",
   "id": "07c71df1",
   "metadata": {},
   "source": [
    "<a id=1.3></a>\n",
    "### Dataset: \n",
    "\n",
    "To further carry this investigation and creating an ML model, we need a dataset. The dataset I chose to base my investgation on was the NASDAQ-100 stocks. The NASDAQ-100 index consists of the largest non-financial companies. Some of the very renowned companies are `Apple`, `Microsoft`, `Amazon`, `Google`, `Meta`, `Tesla` and many more. The index is ranked third on the list of stock exchanges by market capitalization, after the `S&P 500`  and the `Dow Jones Industrial Average` in the United States. The original source of the dataset is the `yahoo finance api`, which was then uploaded onto `Kaggle`. The data ranges from 2010 to 2021 and can be downloaded <a href='https://drive.google.com/file/d/1Re1QPoW2kPOm5hAK3lt8hU3-FoNOVl6-/view?usp=sharing'>here</a>."
   ]
  },
  {
   "attachments": {},
   "cell_type": "markdown",
   "id": "251aec34",
   "metadata": {},
   "source": [
    "<a id=1.4></a>\n",
    "### Data Dictionary:\n",
    "\n",
    "In order to perform further analysis, let's take the time to understand our dataset. The dataset contains a total of 8 columns which is described below:\n",
    "\n",
    "| **Column** | **Meaning**                                                                    | **Data Type** |\n",
    "|------------|--------------------------------------------------------------------------------|---------------|\n",
    "| Date       | Specific days by which the data was recorded (categorical)                     | object        |\n",
    "| Open       | The price at which the stock opened on the day (numerical)                     | float         |\n",
    "| High       | Price at which the stock was at the highest on that day (numerical)            | float         |\n",
    "| Low        | Price at which the stock was at the lowest on that day (numerical)             | float         |\n",
    "| Close      | The price at which the stock closed on the day (numerical)                     | float         |\n",
    "| Adj Close  | Closing price after considering external factors (i.e - dividends) (numerical) | float         |\n",
    "| Volume     | Total volume of stocks traded (numerical)                                      | int           |\n",
    "| Name       | Name of the stock traded (categorical)                                         | object        |\n"
   ]
  },
  {
   "attachments": {},
   "cell_type": "markdown",
   "id": "b9d169e4",
   "metadata": {},
   "source": [
    "<a id=1.5></a>\n",
    "### Goal:\n",
    "\n",
    "The end goal is to train a machine learning model that can accurately predict the stock price movement, in particular looking at the positive or negative movements. Based on this information we can then predict whether the stock price would be going up or down the next day. "
   ]
  },
  {
   "attachments": {},
   "cell_type": "markdown",
   "id": "9a9cea91",
   "metadata": {},
   "source": [
    "-----------"
   ]
  },
  {
   "attachments": {},
   "cell_type": "markdown",
   "id": "9ffffa65",
   "metadata": {},
   "source": [
    "<a id=2></a>\n",
    "## DATA CLEANING:"
   ]
  },
  {
   "attachments": {},
   "cell_type": "markdown",
   "id": "66396dbe",
   "metadata": {},
   "source": [
    "<a id=2.1></a>\n",
    "### Importing Packages:"
   ]
  },
  {
   "cell_type": "code",
   "execution_count": 2,
   "id": "7b3cedff-e216-4aba-8cfa-e15f016d1a94",
   "metadata": {},
   "outputs": [],
   "source": [
    "# Loading all the packages required\n",
    "\n",
    "import numpy as np \n",
    "import pandas as pd \n",
    "import seaborn as sns \n",
    "import matplotlib.pyplot as plt\n",
    "\n",
    "import warnings\n",
    "warnings.filterwarnings('ignore')\n",
    "warnings.filterwarnings(action='once')"
   ]
  },
  {
   "cell_type": "code",
   "execution_count": 3,
   "id": "e960de93-0433-46a3-baa1-fbd85875b53f",
   "metadata": {},
   "outputs": [],
   "source": [
    "# Loading the dataset \n",
    "\n",
    "stocks_df = pd.read_csv\\\n",
    "('/Users/renishkanjiyani/Documents/BrainStation/Final Project/nasdaq_stocks_100.csv', sep='\\t')"
   ]
  },
  {
   "cell_type": "code",
   "execution_count": 4,
   "id": "ace53d01",
   "metadata": {},
   "outputs": [
    {
     "data": {
      "text/html": [
       "<div>\n",
       "<style scoped>\n",
       "    .dataframe tbody tr th:only-of-type {\n",
       "        vertical-align: middle;\n",
       "    }\n",
       "\n",
       "    .dataframe tbody tr th {\n",
       "        vertical-align: top;\n",
       "    }\n",
       "\n",
       "    .dataframe thead th {\n",
       "        text-align: right;\n",
       "    }\n",
       "</style>\n",
       "<table border=\"1\" class=\"dataframe\">\n",
       "  <thead>\n",
       "    <tr style=\"text-align: right;\">\n",
       "      <th></th>\n",
       "      <th>Date</th>\n",
       "      <th>Open</th>\n",
       "      <th>High</th>\n",
       "      <th>Low</th>\n",
       "      <th>Close</th>\n",
       "      <th>Adj Close</th>\n",
       "      <th>Volume</th>\n",
       "      <th>Name</th>\n",
       "    </tr>\n",
       "  </thead>\n",
       "  <tbody>\n",
       "    <tr>\n",
       "      <th>0</th>\n",
       "      <td>2010-01-04</td>\n",
       "      <td>7.622500</td>\n",
       "      <td>7.660714</td>\n",
       "      <td>7.585000</td>\n",
       "      <td>7.643214</td>\n",
       "      <td>6.562591</td>\n",
       "      <td>493729600</td>\n",
       "      <td>AAPL</td>\n",
       "    </tr>\n",
       "    <tr>\n",
       "      <th>1</th>\n",
       "      <td>2010-01-05</td>\n",
       "      <td>7.664286</td>\n",
       "      <td>7.699643</td>\n",
       "      <td>7.616071</td>\n",
       "      <td>7.656429</td>\n",
       "      <td>6.573935</td>\n",
       "      <td>601904800</td>\n",
       "      <td>AAPL</td>\n",
       "    </tr>\n",
       "    <tr>\n",
       "      <th>2</th>\n",
       "      <td>2010-01-06</td>\n",
       "      <td>7.656429</td>\n",
       "      <td>7.686786</td>\n",
       "      <td>7.526786</td>\n",
       "      <td>7.534643</td>\n",
       "      <td>6.469369</td>\n",
       "      <td>552160000</td>\n",
       "      <td>AAPL</td>\n",
       "    </tr>\n",
       "    <tr>\n",
       "      <th>3</th>\n",
       "      <td>2010-01-07</td>\n",
       "      <td>7.562500</td>\n",
       "      <td>7.571429</td>\n",
       "      <td>7.466071</td>\n",
       "      <td>7.520714</td>\n",
       "      <td>6.457407</td>\n",
       "      <td>477131200</td>\n",
       "      <td>AAPL</td>\n",
       "    </tr>\n",
       "    <tr>\n",
       "      <th>4</th>\n",
       "      <td>2010-01-08</td>\n",
       "      <td>7.510714</td>\n",
       "      <td>7.571429</td>\n",
       "      <td>7.466429</td>\n",
       "      <td>7.570714</td>\n",
       "      <td>6.500339</td>\n",
       "      <td>447610800</td>\n",
       "      <td>AAPL</td>\n",
       "    </tr>\n",
       "    <tr>\n",
       "      <th>5</th>\n",
       "      <td>2010-01-11</td>\n",
       "      <td>7.600000</td>\n",
       "      <td>7.607143</td>\n",
       "      <td>7.444643</td>\n",
       "      <td>7.503929</td>\n",
       "      <td>6.442997</td>\n",
       "      <td>462229600</td>\n",
       "      <td>AAPL</td>\n",
       "    </tr>\n",
       "    <tr>\n",
       "      <th>6</th>\n",
       "      <td>2010-01-12</td>\n",
       "      <td>7.471071</td>\n",
       "      <td>7.491786</td>\n",
       "      <td>7.372143</td>\n",
       "      <td>7.418571</td>\n",
       "      <td>6.369709</td>\n",
       "      <td>594459600</td>\n",
       "      <td>AAPL</td>\n",
       "    </tr>\n",
       "    <tr>\n",
       "      <th>7</th>\n",
       "      <td>2010-01-13</td>\n",
       "      <td>7.423929</td>\n",
       "      <td>7.533214</td>\n",
       "      <td>7.289286</td>\n",
       "      <td>7.523214</td>\n",
       "      <td>6.459555</td>\n",
       "      <td>605892000</td>\n",
       "      <td>AAPL</td>\n",
       "    </tr>\n",
       "    <tr>\n",
       "      <th>8</th>\n",
       "      <td>2010-01-14</td>\n",
       "      <td>7.503929</td>\n",
       "      <td>7.516429</td>\n",
       "      <td>7.465000</td>\n",
       "      <td>7.479643</td>\n",
       "      <td>6.422143</td>\n",
       "      <td>432894000</td>\n",
       "      <td>AAPL</td>\n",
       "    </tr>\n",
       "    <tr>\n",
       "      <th>9</th>\n",
       "      <td>2010-01-15</td>\n",
       "      <td>7.533214</td>\n",
       "      <td>7.557143</td>\n",
       "      <td>7.352500</td>\n",
       "      <td>7.354643</td>\n",
       "      <td>6.314816</td>\n",
       "      <td>594067600</td>\n",
       "      <td>AAPL</td>\n",
       "    </tr>\n",
       "  </tbody>\n",
       "</table>\n",
       "</div>"
      ],
      "text/plain": [
       "         Date      Open      High       Low     Close  Adj Close     Volume  \\\n",
       "0  2010-01-04  7.622500  7.660714  7.585000  7.643214   6.562591  493729600   \n",
       "1  2010-01-05  7.664286  7.699643  7.616071  7.656429   6.573935  601904800   \n",
       "2  2010-01-06  7.656429  7.686786  7.526786  7.534643   6.469369  552160000   \n",
       "3  2010-01-07  7.562500  7.571429  7.466071  7.520714   6.457407  477131200   \n",
       "4  2010-01-08  7.510714  7.571429  7.466429  7.570714   6.500339  447610800   \n",
       "5  2010-01-11  7.600000  7.607143  7.444643  7.503929   6.442997  462229600   \n",
       "6  2010-01-12  7.471071  7.491786  7.372143  7.418571   6.369709  594459600   \n",
       "7  2010-01-13  7.423929  7.533214  7.289286  7.523214   6.459555  605892000   \n",
       "8  2010-01-14  7.503929  7.516429  7.465000  7.479643   6.422143  432894000   \n",
       "9  2010-01-15  7.533214  7.557143  7.352500  7.354643   6.314816  594067600   \n",
       "\n",
       "   Name  \n",
       "0  AAPL  \n",
       "1  AAPL  \n",
       "2  AAPL  \n",
       "3  AAPL  \n",
       "4  AAPL  \n",
       "5  AAPL  \n",
       "6  AAPL  \n",
       "7  AAPL  \n",
       "8  AAPL  \n",
       "9  AAPL  "
      ]
     },
     "execution_count": 4,
     "metadata": {},
     "output_type": "execute_result"
    }
   ],
   "source": [
    "# View the first 10 rows of our dataframe\n",
    "\n",
    "stocks_df.head(10)"
   ]
  },
  {
   "cell_type": "code",
   "execution_count": 5,
   "id": "28769106",
   "metadata": {},
   "outputs": [
    {
     "data": {
      "text/html": [
       "<div>\n",
       "<style scoped>\n",
       "    .dataframe tbody tr th:only-of-type {\n",
       "        vertical-align: middle;\n",
       "    }\n",
       "\n",
       "    .dataframe tbody tr th {\n",
       "        vertical-align: top;\n",
       "    }\n",
       "\n",
       "    .dataframe thead th {\n",
       "        text-align: right;\n",
       "    }\n",
       "</style>\n",
       "<table border=\"1\" class=\"dataframe\">\n",
       "  <thead>\n",
       "    <tr style=\"text-align: right;\">\n",
       "      <th></th>\n",
       "      <th>Date</th>\n",
       "      <th>Open</th>\n",
       "      <th>High</th>\n",
       "      <th>Low</th>\n",
       "      <th>Close</th>\n",
       "      <th>Adj Close</th>\n",
       "      <th>Volume</th>\n",
       "      <th>Name</th>\n",
       "    </tr>\n",
       "  </thead>\n",
       "  <tbody>\n",
       "    <tr>\n",
       "      <th>271670</th>\n",
       "      <td>2021-08-27</td>\n",
       "      <td>343.880005</td>\n",
       "      <td>344.779999</td>\n",
       "      <td>337.649994</td>\n",
       "      <td>340.809998</td>\n",
       "      <td>340.809998</td>\n",
       "      <td>3089600</td>\n",
       "      <td>ZM</td>\n",
       "    </tr>\n",
       "    <tr>\n",
       "      <th>271671</th>\n",
       "      <td>2021-08-30</td>\n",
       "      <td>341.700012</td>\n",
       "      <td>348.299988</td>\n",
       "      <td>339.649994</td>\n",
       "      <td>347.500000</td>\n",
       "      <td>347.500000</td>\n",
       "      <td>10094400</td>\n",
       "      <td>ZM</td>\n",
       "    </tr>\n",
       "    <tr>\n",
       "      <th>271672</th>\n",
       "      <td>2021-08-31</td>\n",
       "      <td>294.000000</td>\n",
       "      <td>295.869995</td>\n",
       "      <td>288.299988</td>\n",
       "      <td>289.500000</td>\n",
       "      <td>289.500000</td>\n",
       "      <td>34582900</td>\n",
       "      <td>ZM</td>\n",
       "    </tr>\n",
       "    <tr>\n",
       "      <th>271673</th>\n",
       "      <td>2021-09-01</td>\n",
       "      <td>292.850006</td>\n",
       "      <td>299.399994</td>\n",
       "      <td>290.049988</td>\n",
       "      <td>290.859985</td>\n",
       "      <td>290.859985</td>\n",
       "      <td>14996000</td>\n",
       "      <td>ZM</td>\n",
       "    </tr>\n",
       "    <tr>\n",
       "      <th>271674</th>\n",
       "      <td>2021-09-02</td>\n",
       "      <td>292.799988</td>\n",
       "      <td>296.690002</td>\n",
       "      <td>290.410004</td>\n",
       "      <td>295.089996</td>\n",
       "      <td>295.089996</td>\n",
       "      <td>6645200</td>\n",
       "      <td>ZM</td>\n",
       "    </tr>\n",
       "    <tr>\n",
       "      <th>271675</th>\n",
       "      <td>2021-09-03</td>\n",
       "      <td>295.325012</td>\n",
       "      <td>301.804993</td>\n",
       "      <td>292.029999</td>\n",
       "      <td>298.290009</td>\n",
       "      <td>298.290009</td>\n",
       "      <td>6127900</td>\n",
       "      <td>ZM</td>\n",
       "    </tr>\n",
       "    <tr>\n",
       "      <th>271676</th>\n",
       "      <td>2021-09-07</td>\n",
       "      <td>298.295013</td>\n",
       "      <td>300.980011</td>\n",
       "      <td>294.799988</td>\n",
       "      <td>299.959991</td>\n",
       "      <td>299.959991</td>\n",
       "      <td>4251900</td>\n",
       "      <td>ZM</td>\n",
       "    </tr>\n",
       "    <tr>\n",
       "      <th>271677</th>\n",
       "      <td>2021-09-08</td>\n",
       "      <td>299.549988</td>\n",
       "      <td>299.959991</td>\n",
       "      <td>290.529999</td>\n",
       "      <td>293.600006</td>\n",
       "      <td>293.600006</td>\n",
       "      <td>3934400</td>\n",
       "      <td>ZM</td>\n",
       "    </tr>\n",
       "    <tr>\n",
       "      <th>271678</th>\n",
       "      <td>2021-09-09</td>\n",
       "      <td>292.160004</td>\n",
       "      <td>297.570007</td>\n",
       "      <td>291.130005</td>\n",
       "      <td>295.859985</td>\n",
       "      <td>295.859985</td>\n",
       "      <td>3350100</td>\n",
       "      <td>ZM</td>\n",
       "    </tr>\n",
       "    <tr>\n",
       "      <th>271679</th>\n",
       "      <td>2021-09-10</td>\n",
       "      <td>296.910004</td>\n",
       "      <td>306.263000</td>\n",
       "      <td>296.809998</td>\n",
       "      <td>301.500000</td>\n",
       "      <td>301.500000</td>\n",
       "      <td>6089600</td>\n",
       "      <td>ZM</td>\n",
       "    </tr>\n",
       "  </tbody>\n",
       "</table>\n",
       "</div>"
      ],
      "text/plain": [
       "              Date        Open        High         Low       Close  \\\n",
       "271670  2021-08-27  343.880005  344.779999  337.649994  340.809998   \n",
       "271671  2021-08-30  341.700012  348.299988  339.649994  347.500000   \n",
       "271672  2021-08-31  294.000000  295.869995  288.299988  289.500000   \n",
       "271673  2021-09-01  292.850006  299.399994  290.049988  290.859985   \n",
       "271674  2021-09-02  292.799988  296.690002  290.410004  295.089996   \n",
       "271675  2021-09-03  295.325012  301.804993  292.029999  298.290009   \n",
       "271676  2021-09-07  298.295013  300.980011  294.799988  299.959991   \n",
       "271677  2021-09-08  299.549988  299.959991  290.529999  293.600006   \n",
       "271678  2021-09-09  292.160004  297.570007  291.130005  295.859985   \n",
       "271679  2021-09-10  296.910004  306.263000  296.809998  301.500000   \n",
       "\n",
       "         Adj Close    Volume Name  \n",
       "271670  340.809998   3089600   ZM  \n",
       "271671  347.500000  10094400   ZM  \n",
       "271672  289.500000  34582900   ZM  \n",
       "271673  290.859985  14996000   ZM  \n",
       "271674  295.089996   6645200   ZM  \n",
       "271675  298.290009   6127900   ZM  \n",
       "271676  299.959991   4251900   ZM  \n",
       "271677  293.600006   3934400   ZM  \n",
       "271678  295.859985   3350100   ZM  \n",
       "271679  301.500000   6089600   ZM  "
      ]
     },
     "execution_count": 5,
     "metadata": {},
     "output_type": "execute_result"
    }
   ],
   "source": [
    "# View the last 10 rows of our dataframe\n",
    "\n",
    "stocks_df.tail(10)"
   ]
  },
  {
   "attachments": {},
   "cell_type": "markdown",
   "id": "17bff5e2",
   "metadata": {},
   "source": [
    "<a id=2.2></a>\n",
    "### Shape of dataframe:"
   ]
  },
  {
   "cell_type": "code",
   "execution_count": 6,
   "id": "7b19ffee",
   "metadata": {},
   "outputs": [
    {
     "data": {
      "text/plain": [
       "(271680, 8)"
      ]
     },
     "execution_count": 6,
     "metadata": {},
     "output_type": "execute_result"
    }
   ],
   "source": [
    "# Let's check the shape of our dataframe\n",
    "\n",
    "stocks_df.shape"
   ]
  },
  {
   "cell_type": "code",
   "execution_count": 7,
   "id": "21413555",
   "metadata": {},
   "outputs": [
    {
     "name": "stdout",
     "output_type": "stream",
     "text": [
      "Our dataframe consists of 271680 rows and 8 columns\n"
     ]
    }
   ],
   "source": [
    "# Print the number of rows and columns in our dataframe \n",
    "\n",
    "print(f\"Our dataframe consists of {stocks_df.shape[0]} rows and {stocks_df.shape[1]} columns\")"
   ]
  },
  {
   "attachments": {},
   "cell_type": "markdown",
   "id": "5b871c54",
   "metadata": {},
   "source": [
    "<a id=2.3></a>\n",
    "### Information on dataframe:"
   ]
  },
  {
   "cell_type": "code",
   "execution_count": 8,
   "id": "7e89af49",
   "metadata": {},
   "outputs": [
    {
     "name": "stdout",
     "output_type": "stream",
     "text": [
      "<class 'pandas.core.frame.DataFrame'>\n",
      "RangeIndex: 271680 entries, 0 to 271679\n",
      "Data columns (total 8 columns):\n",
      " #   Column     Non-Null Count   Dtype  \n",
      "---  ------     --------------   -----  \n",
      " 0   Date       271680 non-null  object \n",
      " 1   Open       271680 non-null  float64\n",
      " 2   High       271680 non-null  float64\n",
      " 3   Low        271680 non-null  float64\n",
      " 4   Close      271680 non-null  float64\n",
      " 5   Adj Close  271680 non-null  float64\n",
      " 6   Volume     271680 non-null  int64  \n",
      " 7   Name       271680 non-null  object \n",
      "dtypes: float64(5), int64(1), object(2)\n",
      "memory usage: 16.6+ MB\n"
     ]
    }
   ],
   "source": [
    "# View more information on what our dataframe comprises of\n",
    "\n",
    "stocks_df.info()"
   ]
  },
  {
   "attachments": {},
   "cell_type": "markdown",
   "id": "407cd41f",
   "metadata": {},
   "source": [
    "**Observations:**\n",
    "- When we look at our dataset we can see that the total rows which we checked earlier stands at `271680` rows and in this case we can validate that none of the `columns` have missing values.\n",
    "- What we can do is convert the `Date` column into a `datetime` format using our `pandas` function. This will help us when we do further EDA and modelling. "
   ]
  },
  {
   "cell_type": "code",
   "execution_count": 9,
   "id": "90ea45a8",
   "metadata": {},
   "outputs": [
    {
     "data": {
      "text/html": [
       "<div>\n",
       "<style scoped>\n",
       "    .dataframe tbody tr th:only-of-type {\n",
       "        vertical-align: middle;\n",
       "    }\n",
       "\n",
       "    .dataframe tbody tr th {\n",
       "        vertical-align: top;\n",
       "    }\n",
       "\n",
       "    .dataframe thead th {\n",
       "        text-align: right;\n",
       "    }\n",
       "</style>\n",
       "<table border=\"1\" class=\"dataframe\">\n",
       "  <thead>\n",
       "    <tr style=\"text-align: right;\">\n",
       "      <th></th>\n",
       "      <th>count</th>\n",
       "      <th>mean</th>\n",
       "      <th>std</th>\n",
       "      <th>min</th>\n",
       "      <th>25%</th>\n",
       "      <th>50%</th>\n",
       "      <th>75%</th>\n",
       "      <th>max</th>\n",
       "    </tr>\n",
       "  </thead>\n",
       "  <tbody>\n",
       "    <tr>\n",
       "      <th>Open</th>\n",
       "      <td>271680.0</td>\n",
       "      <td>1.301471e+02</td>\n",
       "      <td>2.594633e+02</td>\n",
       "      <td>0.61000</td>\n",
       "      <td>3.255000e+01</td>\n",
       "      <td>5.981000e+01</td>\n",
       "      <td>1.171400e+02</td>\n",
       "      <td>3.744000e+03</td>\n",
       "    </tr>\n",
       "    <tr>\n",
       "      <th>High</th>\n",
       "      <td>271680.0</td>\n",
       "      <td>1.316786e+02</td>\n",
       "      <td>2.622492e+02</td>\n",
       "      <td>0.66000</td>\n",
       "      <td>3.295000e+01</td>\n",
       "      <td>6.050500e+01</td>\n",
       "      <td>1.184700e+02</td>\n",
       "      <td>3.773080e+03</td>\n",
       "    </tr>\n",
       "    <tr>\n",
       "      <th>Low</th>\n",
       "      <td>271680.0</td>\n",
       "      <td>1.285645e+02</td>\n",
       "      <td>2.565228e+02</td>\n",
       "      <td>0.61000</td>\n",
       "      <td>3.215000e+01</td>\n",
       "      <td>5.912000e+01</td>\n",
       "      <td>1.158200e+02</td>\n",
       "      <td>3.696790e+03</td>\n",
       "    </tr>\n",
       "    <tr>\n",
       "      <th>Close</th>\n",
       "      <td>271680.0</td>\n",
       "      <td>1.301740e+02</td>\n",
       "      <td>2.594550e+02</td>\n",
       "      <td>0.65000</td>\n",
       "      <td>3.257000e+01</td>\n",
       "      <td>5.985000e+01</td>\n",
       "      <td>1.171900e+02</td>\n",
       "      <td>3.731410e+03</td>\n",
       "    </tr>\n",
       "    <tr>\n",
       "      <th>Adj Close</th>\n",
       "      <td>271680.0</td>\n",
       "      <td>1.269297e+02</td>\n",
       "      <td>2.601569e+02</td>\n",
       "      <td>0.61227</td>\n",
       "      <td>2.800198e+01</td>\n",
       "      <td>5.560000e+01</td>\n",
       "      <td>1.147055e+02</td>\n",
       "      <td>3.731410e+03</td>\n",
       "    </tr>\n",
       "    <tr>\n",
       "      <th>Volume</th>\n",
       "      <td>271680.0</td>\n",
       "      <td>1.052670e+07</td>\n",
       "      <td>3.924802e+07</td>\n",
       "      <td>0.00000</td>\n",
       "      <td>1.332175e+06</td>\n",
       "      <td>2.759400e+06</td>\n",
       "      <td>6.889500e+06</td>\n",
       "      <td>1.880998e+09</td>\n",
       "    </tr>\n",
       "  </tbody>\n",
       "</table>\n",
       "</div>"
      ],
      "text/plain": [
       "              count          mean           std      min           25%  \\\n",
       "Open       271680.0  1.301471e+02  2.594633e+02  0.61000  3.255000e+01   \n",
       "High       271680.0  1.316786e+02  2.622492e+02  0.66000  3.295000e+01   \n",
       "Low        271680.0  1.285645e+02  2.565228e+02  0.61000  3.215000e+01   \n",
       "Close      271680.0  1.301740e+02  2.594550e+02  0.65000  3.257000e+01   \n",
       "Adj Close  271680.0  1.269297e+02  2.601569e+02  0.61227  2.800198e+01   \n",
       "Volume     271680.0  1.052670e+07  3.924802e+07  0.00000  1.332175e+06   \n",
       "\n",
       "                    50%           75%           max  \n",
       "Open       5.981000e+01  1.171400e+02  3.744000e+03  \n",
       "High       6.050500e+01  1.184700e+02  3.773080e+03  \n",
       "Low        5.912000e+01  1.158200e+02  3.696790e+03  \n",
       "Close      5.985000e+01  1.171900e+02  3.731410e+03  \n",
       "Adj Close  5.560000e+01  1.147055e+02  3.731410e+03  \n",
       "Volume     2.759400e+06  6.889500e+06  1.880998e+09  "
      ]
     },
     "execution_count": 9,
     "metadata": {},
     "output_type": "execute_result"
    }
   ],
   "source": [
    "# Statistics table for our dataframe \n",
    "\n",
    "stocks_df.describe().T"
   ]
  },
  {
   "attachments": {},
   "cell_type": "markdown",
   "id": "2ce5d74e",
   "metadata": {},
   "source": [
    "**Observations:** \n",
    "- We can see that through the statistics table of our dataframe, some of the values are very large and this is because it is taking account of every individual stock that is within the NASDAQ 100 stock index. \n",
    "\n",
    "- What we can do is split the dataframe into individual stocks and then look at the statistics measure in more depth. "
   ]
  },
  {
   "attachments": {},
   "cell_type": "markdown",
   "id": "262f209e",
   "metadata": {},
   "source": [
    "<a id=2.4></a>\n",
    "### Null Values:"
   ]
  },
  {
   "attachments": {},
   "cell_type": "markdown",
   "id": "21527013",
   "metadata": {},
   "source": [
    "Let's check for any null values or duplicates in our dataframe:"
   ]
  },
  {
   "cell_type": "code",
   "execution_count": 10,
   "id": "e94c620f",
   "metadata": {},
   "outputs": [
    {
     "data": {
      "text/html": [
       "<div>\n",
       "<style scoped>\n",
       "    .dataframe tbody tr th:only-of-type {\n",
       "        vertical-align: middle;\n",
       "    }\n",
       "\n",
       "    .dataframe tbody tr th {\n",
       "        vertical-align: top;\n",
       "    }\n",
       "\n",
       "    .dataframe thead th {\n",
       "        text-align: right;\n",
       "    }\n",
       "</style>\n",
       "<table border=\"1\" class=\"dataframe\">\n",
       "  <thead>\n",
       "    <tr style=\"text-align: right;\">\n",
       "      <th></th>\n",
       "      <th>Date</th>\n",
       "      <th>Open</th>\n",
       "      <th>High</th>\n",
       "      <th>Low</th>\n",
       "      <th>Close</th>\n",
       "      <th>Adj Close</th>\n",
       "      <th>Volume</th>\n",
       "      <th>Name</th>\n",
       "    </tr>\n",
       "  </thead>\n",
       "  <tbody>\n",
       "    <tr>\n",
       "      <th>0</th>\n",
       "      <td>False</td>\n",
       "      <td>False</td>\n",
       "      <td>False</td>\n",
       "      <td>False</td>\n",
       "      <td>False</td>\n",
       "      <td>False</td>\n",
       "      <td>False</td>\n",
       "      <td>False</td>\n",
       "    </tr>\n",
       "    <tr>\n",
       "      <th>1</th>\n",
       "      <td>False</td>\n",
       "      <td>False</td>\n",
       "      <td>False</td>\n",
       "      <td>False</td>\n",
       "      <td>False</td>\n",
       "      <td>False</td>\n",
       "      <td>False</td>\n",
       "      <td>False</td>\n",
       "    </tr>\n",
       "    <tr>\n",
       "      <th>2</th>\n",
       "      <td>False</td>\n",
       "      <td>False</td>\n",
       "      <td>False</td>\n",
       "      <td>False</td>\n",
       "      <td>False</td>\n",
       "      <td>False</td>\n",
       "      <td>False</td>\n",
       "      <td>False</td>\n",
       "    </tr>\n",
       "    <tr>\n",
       "      <th>3</th>\n",
       "      <td>False</td>\n",
       "      <td>False</td>\n",
       "      <td>False</td>\n",
       "      <td>False</td>\n",
       "      <td>False</td>\n",
       "      <td>False</td>\n",
       "      <td>False</td>\n",
       "      <td>False</td>\n",
       "    </tr>\n",
       "    <tr>\n",
       "      <th>4</th>\n",
       "      <td>False</td>\n",
       "      <td>False</td>\n",
       "      <td>False</td>\n",
       "      <td>False</td>\n",
       "      <td>False</td>\n",
       "      <td>False</td>\n",
       "      <td>False</td>\n",
       "      <td>False</td>\n",
       "    </tr>\n",
       "    <tr>\n",
       "      <th>...</th>\n",
       "      <td>...</td>\n",
       "      <td>...</td>\n",
       "      <td>...</td>\n",
       "      <td>...</td>\n",
       "      <td>...</td>\n",
       "      <td>...</td>\n",
       "      <td>...</td>\n",
       "      <td>...</td>\n",
       "    </tr>\n",
       "    <tr>\n",
       "      <th>271675</th>\n",
       "      <td>False</td>\n",
       "      <td>False</td>\n",
       "      <td>False</td>\n",
       "      <td>False</td>\n",
       "      <td>False</td>\n",
       "      <td>False</td>\n",
       "      <td>False</td>\n",
       "      <td>False</td>\n",
       "    </tr>\n",
       "    <tr>\n",
       "      <th>271676</th>\n",
       "      <td>False</td>\n",
       "      <td>False</td>\n",
       "      <td>False</td>\n",
       "      <td>False</td>\n",
       "      <td>False</td>\n",
       "      <td>False</td>\n",
       "      <td>False</td>\n",
       "      <td>False</td>\n",
       "    </tr>\n",
       "    <tr>\n",
       "      <th>271677</th>\n",
       "      <td>False</td>\n",
       "      <td>False</td>\n",
       "      <td>False</td>\n",
       "      <td>False</td>\n",
       "      <td>False</td>\n",
       "      <td>False</td>\n",
       "      <td>False</td>\n",
       "      <td>False</td>\n",
       "    </tr>\n",
       "    <tr>\n",
       "      <th>271678</th>\n",
       "      <td>False</td>\n",
       "      <td>False</td>\n",
       "      <td>False</td>\n",
       "      <td>False</td>\n",
       "      <td>False</td>\n",
       "      <td>False</td>\n",
       "      <td>False</td>\n",
       "      <td>False</td>\n",
       "    </tr>\n",
       "    <tr>\n",
       "      <th>271679</th>\n",
       "      <td>False</td>\n",
       "      <td>False</td>\n",
       "      <td>False</td>\n",
       "      <td>False</td>\n",
       "      <td>False</td>\n",
       "      <td>False</td>\n",
       "      <td>False</td>\n",
       "      <td>False</td>\n",
       "    </tr>\n",
       "  </tbody>\n",
       "</table>\n",
       "<p>271680 rows × 8 columns</p>\n",
       "</div>"
      ],
      "text/plain": [
       "         Date   Open   High    Low  Close  Adj Close  Volume   Name\n",
       "0       False  False  False  False  False      False   False  False\n",
       "1       False  False  False  False  False      False   False  False\n",
       "2       False  False  False  False  False      False   False  False\n",
       "3       False  False  False  False  False      False   False  False\n",
       "4       False  False  False  False  False      False   False  False\n",
       "...       ...    ...    ...    ...    ...        ...     ...    ...\n",
       "271675  False  False  False  False  False      False   False  False\n",
       "271676  False  False  False  False  False      False   False  False\n",
       "271677  False  False  False  False  False      False   False  False\n",
       "271678  False  False  False  False  False      False   False  False\n",
       "271679  False  False  False  False  False      False   False  False\n",
       "\n",
       "[271680 rows x 8 columns]"
      ]
     },
     "execution_count": 10,
     "metadata": {},
     "output_type": "execute_result"
    }
   ],
   "source": [
    "# Checking for null values \n",
    "\n",
    "stocks_df.isna()"
   ]
  },
  {
   "cell_type": "code",
   "execution_count": 11,
   "id": "162dc634",
   "metadata": {},
   "outputs": [
    {
     "data": {
      "text/plain": [
       "Date         0\n",
       "Open         0\n",
       "High         0\n",
       "Low          0\n",
       "Close        0\n",
       "Adj Close    0\n",
       "Volume       0\n",
       "Name         0\n",
       "dtype: int64"
      ]
     },
     "execution_count": 11,
     "metadata": {},
     "output_type": "execute_result"
    }
   ],
   "source": [
    "# Let's get a sum to see an overview of the null values \n",
    "\n",
    "stocks_df.isna().sum()"
   ]
  },
  {
   "attachments": {},
   "cell_type": "markdown",
   "id": "8cc5f3a7",
   "metadata": {},
   "source": [
    "**Observations:** \n",
    "- Through our information table we saw that all our `columns` in the dataframe had the same number of rows. Therefore, we concluded that there are no null values. But we still did a sanity check to find, and we broke it down to individual columns. As the individual columns suggest we have no null values."
   ]
  },
  {
   "attachments": {},
   "cell_type": "markdown",
   "id": "5e09b033",
   "metadata": {},
   "source": [
    "<a id=2.5></a>\n",
    "### Duplicates:"
   ]
  },
  {
   "attachments": {},
   "cell_type": "markdown",
   "id": "2e222956",
   "metadata": {},
   "source": [
    "After checking for null values, we can now go ahead and look for duplicate values. "
   ]
  },
  {
   "cell_type": "code",
   "execution_count": 12,
   "id": "ba3342b6",
   "metadata": {},
   "outputs": [
    {
     "data": {
      "text/plain": [
       "0         False\n",
       "1         False\n",
       "2         False\n",
       "3         False\n",
       "4         False\n",
       "          ...  \n",
       "271675    False\n",
       "271676    False\n",
       "271677    False\n",
       "271678    False\n",
       "271679    False\n",
       "Length: 271680, dtype: bool"
      ]
     },
     "execution_count": 12,
     "metadata": {},
     "output_type": "execute_result"
    }
   ],
   "source": [
    "# Let's check for duplicates \n",
    "\n",
    "stocks_df.duplicated()"
   ]
  },
  {
   "cell_type": "code",
   "execution_count": 13,
   "id": "29d12a80",
   "metadata": {},
   "outputs": [
    {
     "data": {
      "text/plain": [
       "0"
      ]
     },
     "execution_count": 13,
     "metadata": {},
     "output_type": "execute_result"
    }
   ],
   "source": [
    "# Let's break it down further to see an overview \n",
    "\n",
    "stocks_df.duplicated().sum()"
   ]
  },
  {
   "attachments": {},
   "cell_type": "markdown",
   "id": "20aca6aa",
   "metadata": {},
   "source": [
    "**Observations:**\n",
    "- Our dataframe does not contain any duplicated rows, therefore we do not need to drop/impute any values in this case. "
   ]
  },
  {
   "attachments": {},
   "cell_type": "markdown",
   "id": "a1aac712",
   "metadata": {},
   "source": [
    "#### <i>Now that we have a clean dataset, we can go ahead and perform our EDA!</i>"
   ]
  },
  {
   "attachments": {},
   "cell_type": "markdown",
   "id": "0138e356",
   "metadata": {},
   "source": [
    "---"
   ]
  },
  {
   "attachments": {},
   "cell_type": "markdown",
   "id": "c49accac",
   "metadata": {},
   "source": [
    "<a id=3></a>\n",
    "## CONCLUSION:"
   ]
  },
  {
   "attachments": {},
   "cell_type": "markdown",
   "id": "aa2764bd",
   "metadata": {},
   "source": [
    "In conclusion: \n",
    "\n",
    "- We explored the dataset and tuned it in order to conduct further analysis. \n",
    "- The total number of rows in our dataset adds up to 271,680 which would be solid to perform our analysis. \n",
    "\n",
    "In book 2 which is titled 'EDA-1' we will analyze our dataset further and prepare it for the final modelling process. "
   ]
  },
  {
   "attachments": {},
   "cell_type": "markdown",
   "id": "e996c819",
   "metadata": {},
   "source": [
    "---"
   ]
  }
 ],
 "metadata": {
  "kernelspec": {
   "display_name": "Python 3 (ipykernel)",
   "language": "python",
   "name": "python3"
  },
  "language_info": {
   "codemirror_mode": {
    "name": "ipython",
    "version": 3
   },
   "file_extension": ".py",
   "mimetype": "text/x-python",
   "name": "python",
   "nbconvert_exporter": "python",
   "pygments_lexer": "ipython3",
   "version": "3.10.11"
  }
 },
 "nbformat": 4,
 "nbformat_minor": 5
}
