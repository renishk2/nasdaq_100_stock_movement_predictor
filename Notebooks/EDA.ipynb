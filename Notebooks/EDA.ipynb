{
 "cells": [
  {
   "attachments": {},
   "cell_type": "markdown",
   "metadata": {},
   "source": [
    "# NASDAQ 100 Stocks Predictor - Exploratory Data Analysis (EDA)"
   ]
  },
  {
   "attachments": {},
   "cell_type": "markdown",
   "metadata": {},
   "source": [
    "**Author:** Renish Kanjiyani <br>\n",
    "**Notebook:** 2 - EDA <br>\n",
    "**Date:** 05/11/2023 <br>\n",
    "**E-mail:** kanjiyanirenish2@gmail.com"
   ]
  },
  {
   "attachments": {},
   "cell_type": "markdown",
   "metadata": {},
   "source": [
    "---"
   ]
  },
  {
   "attachments": {},
   "cell_type": "markdown",
   "metadata": {},
   "source": [
    "# Table of Contents:"
   ]
  },
  {
   "attachments": {},
   "cell_type": "markdown",
   "metadata": {},
   "source": [
    "---"
   ]
  },
  {
   "attachments": {},
   "cell_type": "markdown",
   "metadata": {},
   "source": [
    "## Introduction:"
   ]
  },
  {
   "cell_type": "code",
   "execution_count": null,
   "metadata": {},
   "outputs": [],
   "source": []
  },
  {
   "attachments": {},
   "cell_type": "markdown",
   "metadata": {},
   "source": [
    "---"
   ]
  },
  {
   "attachments": {},
   "cell_type": "markdown",
   "metadata": {},
   "source": [
    "## EDA:"
   ]
  },
  {
   "cell_type": "code",
   "execution_count": 53,
   "metadata": {},
   "outputs": [],
   "source": [
    "# Loading all the packages required\n",
    "\n",
    "import numpy as np \n",
    "import pandas as pd \n",
    "import seaborn as sns \n",
    "import matplotlib.pyplot as plt\n",
    "\n",
    "import warnings\n",
    "warnings.filterwarnings('ignore')\n",
    "warnings.filterwarnings(action='once')\n"
   ]
  },
  {
   "cell_type": "code",
   "execution_count": 54,
   "metadata": {},
   "outputs": [],
   "source": [
    "# Loading the dataset \n",
    "\n",
    "stocks_df = pd.read_csv('../nasdaq_stocks_100.csv', sep='\\t')"
   ]
  },
  {
   "cell_type": "code",
   "execution_count": 55,
   "metadata": {},
   "outputs": [
    {
     "data": {
      "text/html": [
       "<div>\n",
       "<style scoped>\n",
       "    .dataframe tbody tr th:only-of-type {\n",
       "        vertical-align: middle;\n",
       "    }\n",
       "\n",
       "    .dataframe tbody tr th {\n",
       "        vertical-align: top;\n",
       "    }\n",
       "\n",
       "    .dataframe thead th {\n",
       "        text-align: right;\n",
       "    }\n",
       "</style>\n",
       "<table border=\"1\" class=\"dataframe\">\n",
       "  <thead>\n",
       "    <tr style=\"text-align: right;\">\n",
       "      <th></th>\n",
       "      <th>Date</th>\n",
       "      <th>Open</th>\n",
       "      <th>High</th>\n",
       "      <th>Low</th>\n",
       "      <th>Close</th>\n",
       "      <th>Adj Close</th>\n",
       "      <th>Volume</th>\n",
       "      <th>Name</th>\n",
       "    </tr>\n",
       "  </thead>\n",
       "  <tbody>\n",
       "    <tr>\n",
       "      <th>0</th>\n",
       "      <td>2010-01-04</td>\n",
       "      <td>7.622500</td>\n",
       "      <td>7.660714</td>\n",
       "      <td>7.585000</td>\n",
       "      <td>7.643214</td>\n",
       "      <td>6.562591</td>\n",
       "      <td>493729600</td>\n",
       "      <td>AAPL</td>\n",
       "    </tr>\n",
       "    <tr>\n",
       "      <th>1</th>\n",
       "      <td>2010-01-05</td>\n",
       "      <td>7.664286</td>\n",
       "      <td>7.699643</td>\n",
       "      <td>7.616071</td>\n",
       "      <td>7.656429</td>\n",
       "      <td>6.573935</td>\n",
       "      <td>601904800</td>\n",
       "      <td>AAPL</td>\n",
       "    </tr>\n",
       "    <tr>\n",
       "      <th>2</th>\n",
       "      <td>2010-01-06</td>\n",
       "      <td>7.656429</td>\n",
       "      <td>7.686786</td>\n",
       "      <td>7.526786</td>\n",
       "      <td>7.534643</td>\n",
       "      <td>6.469369</td>\n",
       "      <td>552160000</td>\n",
       "      <td>AAPL</td>\n",
       "    </tr>\n",
       "    <tr>\n",
       "      <th>3</th>\n",
       "      <td>2010-01-07</td>\n",
       "      <td>7.562500</td>\n",
       "      <td>7.571429</td>\n",
       "      <td>7.466071</td>\n",
       "      <td>7.520714</td>\n",
       "      <td>6.457407</td>\n",
       "      <td>477131200</td>\n",
       "      <td>AAPL</td>\n",
       "    </tr>\n",
       "    <tr>\n",
       "      <th>4</th>\n",
       "      <td>2010-01-08</td>\n",
       "      <td>7.510714</td>\n",
       "      <td>7.571429</td>\n",
       "      <td>7.466429</td>\n",
       "      <td>7.570714</td>\n",
       "      <td>6.500339</td>\n",
       "      <td>447610800</td>\n",
       "      <td>AAPL</td>\n",
       "    </tr>\n",
       "    <tr>\n",
       "      <th>5</th>\n",
       "      <td>2010-01-11</td>\n",
       "      <td>7.600000</td>\n",
       "      <td>7.607143</td>\n",
       "      <td>7.444643</td>\n",
       "      <td>7.503929</td>\n",
       "      <td>6.442997</td>\n",
       "      <td>462229600</td>\n",
       "      <td>AAPL</td>\n",
       "    </tr>\n",
       "    <tr>\n",
       "      <th>6</th>\n",
       "      <td>2010-01-12</td>\n",
       "      <td>7.471071</td>\n",
       "      <td>7.491786</td>\n",
       "      <td>7.372143</td>\n",
       "      <td>7.418571</td>\n",
       "      <td>6.369709</td>\n",
       "      <td>594459600</td>\n",
       "      <td>AAPL</td>\n",
       "    </tr>\n",
       "    <tr>\n",
       "      <th>7</th>\n",
       "      <td>2010-01-13</td>\n",
       "      <td>7.423929</td>\n",
       "      <td>7.533214</td>\n",
       "      <td>7.289286</td>\n",
       "      <td>7.523214</td>\n",
       "      <td>6.459555</td>\n",
       "      <td>605892000</td>\n",
       "      <td>AAPL</td>\n",
       "    </tr>\n",
       "    <tr>\n",
       "      <th>8</th>\n",
       "      <td>2010-01-14</td>\n",
       "      <td>7.503929</td>\n",
       "      <td>7.516429</td>\n",
       "      <td>7.465000</td>\n",
       "      <td>7.479643</td>\n",
       "      <td>6.422143</td>\n",
       "      <td>432894000</td>\n",
       "      <td>AAPL</td>\n",
       "    </tr>\n",
       "    <tr>\n",
       "      <th>9</th>\n",
       "      <td>2010-01-15</td>\n",
       "      <td>7.533214</td>\n",
       "      <td>7.557143</td>\n",
       "      <td>7.352500</td>\n",
       "      <td>7.354643</td>\n",
       "      <td>6.314816</td>\n",
       "      <td>594067600</td>\n",
       "      <td>AAPL</td>\n",
       "    </tr>\n",
       "  </tbody>\n",
       "</table>\n",
       "</div>"
      ],
      "text/plain": [
       "         Date      Open      High       Low     Close  Adj Close     Volume  \\\n",
       "0  2010-01-04  7.622500  7.660714  7.585000  7.643214   6.562591  493729600   \n",
       "1  2010-01-05  7.664286  7.699643  7.616071  7.656429   6.573935  601904800   \n",
       "2  2010-01-06  7.656429  7.686786  7.526786  7.534643   6.469369  552160000   \n",
       "3  2010-01-07  7.562500  7.571429  7.466071  7.520714   6.457407  477131200   \n",
       "4  2010-01-08  7.510714  7.571429  7.466429  7.570714   6.500339  447610800   \n",
       "5  2010-01-11  7.600000  7.607143  7.444643  7.503929   6.442997  462229600   \n",
       "6  2010-01-12  7.471071  7.491786  7.372143  7.418571   6.369709  594459600   \n",
       "7  2010-01-13  7.423929  7.533214  7.289286  7.523214   6.459555  605892000   \n",
       "8  2010-01-14  7.503929  7.516429  7.465000  7.479643   6.422143  432894000   \n",
       "9  2010-01-15  7.533214  7.557143  7.352500  7.354643   6.314816  594067600   \n",
       "\n",
       "   Name  \n",
       "0  AAPL  \n",
       "1  AAPL  \n",
       "2  AAPL  \n",
       "3  AAPL  \n",
       "4  AAPL  \n",
       "5  AAPL  \n",
       "6  AAPL  \n",
       "7  AAPL  \n",
       "8  AAPL  \n",
       "9  AAPL  "
      ]
     },
     "execution_count": 55,
     "metadata": {},
     "output_type": "execute_result"
    }
   ],
   "source": [
    "# Let's view our dataset \n",
    "\n",
    "stocks_df.head(10)"
   ]
  },
  {
   "cell_type": "code",
   "execution_count": 56,
   "metadata": {},
   "outputs": [
    {
     "data": {
      "text/plain": [
       "(271680, 8)"
      ]
     },
     "execution_count": 56,
     "metadata": {},
     "output_type": "execute_result"
    }
   ],
   "source": [
    "# Let's check the shape of our dataframe \n",
    "\n",
    "stocks_df.shape"
   ]
  },
  {
   "cell_type": "code",
   "execution_count": 57,
   "metadata": {},
   "outputs": [
    {
     "name": "stdout",
     "output_type": "stream",
     "text": [
      "Our dataframe has 271680 rows and 8 columns\n"
     ]
    }
   ],
   "source": [
    "print(f\"Our dataframe has {stocks_df.shape[0]} rows and {stocks_df.shape[1]} columns\")"
   ]
  },
  {
   "cell_type": "code",
   "execution_count": 58,
   "metadata": {},
   "outputs": [
    {
     "name": "stdout",
     "output_type": "stream",
     "text": [
      "<class 'pandas.core.frame.DataFrame'>\n",
      "RangeIndex: 271680 entries, 0 to 271679\n",
      "Data columns (total 8 columns):\n",
      " #   Column     Non-Null Count   Dtype  \n",
      "---  ------     --------------   -----  \n",
      " 0   Date       271680 non-null  object \n",
      " 1   Open       271680 non-null  float64\n",
      " 2   High       271680 non-null  float64\n",
      " 3   Low        271680 non-null  float64\n",
      " 4   Close      271680 non-null  float64\n",
      " 5   Adj Close  271680 non-null  float64\n",
      " 6   Volume     271680 non-null  int64  \n",
      " 7   Name       271680 non-null  object \n",
      "dtypes: float64(5), int64(1), object(2)\n",
      "memory usage: 16.6+ MB\n"
     ]
    }
   ],
   "source": [
    "# Let's view more information on our dataframe \n",
    "\n",
    "stocks_df.info()"
   ]
  },
  {
   "attachments": {},
   "cell_type": "markdown",
   "metadata": {},
   "source": [
    "**Observations:** \n",
    "- We imported our clean dataset and we can perform our EDA on it. "
   ]
  },
  {
   "attachments": {},
   "cell_type": "markdown",
   "metadata": {},
   "source": [
    "### Converting the `Date` column to a `datetime` format"
   ]
  },
  {
   "cell_type": "code",
   "execution_count": 59,
   "metadata": {},
   "outputs": [],
   "source": [
    "# Let's convert the column now \n",
    "\n",
    "stocks_df['Date'] = pd.to_datetime(stocks_df['Date'])"
   ]
  },
  {
   "cell_type": "code",
   "execution_count": 60,
   "metadata": {},
   "outputs": [
    {
     "data": {
      "text/plain": [
       "Date         datetime64[ns]\n",
       "Open                float64\n",
       "High                float64\n",
       "Low                 float64\n",
       "Close               float64\n",
       "Adj Close           float64\n",
       "Volume                int64\n",
       "Name                 object\n",
       "dtype: object"
      ]
     },
     "execution_count": 60,
     "metadata": {},
     "output_type": "execute_result"
    }
   ],
   "source": [
    "# Sanity Check \n",
    "stocks_df.dtypes"
   ]
  },
  {
   "attachments": {},
   "cell_type": "markdown",
   "metadata": {},
   "source": [
    "- We successfully converted the `date` column to `datetime` column. "
   ]
  },
  {
   "attachments": {},
   "cell_type": "markdown",
   "metadata": {},
   "source": [
    "### Exploring the `Name` column:"
   ]
  },
  {
   "cell_type": "code",
   "execution_count": 61,
   "metadata": {},
   "outputs": [
    {
     "data": {
      "text/plain": [
       "array(['AAPL', 'ADBE', 'ADI', 'ADP', 'ADSK', 'AEP', 'ALGN', 'AMAT', 'AMD',\n",
       "       'AMGN', 'AMZN', 'ANSS', 'ASML', 'ATVI', 'AVGO', 'BIDU', 'BIIB',\n",
       "       'BKNG', 'CDNS', 'CDW', 'CERN', 'CHKP', 'CHTR', 'CMCSA', 'COST',\n",
       "       'CPRT', 'CRWD', 'CSCO', 'CSX', 'CTAS', 'CTSH', 'DLTR', 'DOCU',\n",
       "       'DXCM', 'EA', 'EBAY', 'EXC', 'FAST', 'FB', 'FISV', 'FOX', 'FOXA',\n",
       "       'GILD', 'GOOG', 'GOOGL', 'HON', 'IDXX', 'ILMN', 'INCY', 'INTC',\n",
       "       'INTU', 'ISRG', 'JD', 'KDP', 'KHC', 'KLAC', 'LRCX', 'LULU', 'MAR',\n",
       "       'MCHP', 'MDLZ', 'MELI', 'MNST', 'MRNA', 'MRVL', 'MSFT', 'MTCH',\n",
       "       'MU', 'NFLX', 'NTES', 'NVDA', 'NXPI', 'OKTA', 'ORLY', 'PAYX',\n",
       "       'PCAR', 'PDD', 'PEP', 'PTON', 'PYPL', 'QCOM', 'REGN', 'ROST',\n",
       "       'SBUX', 'SGEN', 'SIRI', 'SNPS', 'SPLK', 'SWKS', 'TCOM', 'TEAM',\n",
       "       'TMUS', 'TSLA', 'TXN', 'VRSK', 'VRSN', 'VRTX', 'WBA', 'WDAY',\n",
       "       'XEL', 'XLNX', 'ZM'], dtype=object)"
      ]
     },
     "execution_count": 61,
     "metadata": {},
     "output_type": "execute_result"
    }
   ],
   "source": [
    "# Let's take a look at how many unique values we have in our name column\n",
    "\n",
    "stocks_df['Name'].unique()"
   ]
  },
  {
   "cell_type": "code",
   "execution_count": 62,
   "metadata": {},
   "outputs": [
    {
     "data": {
      "text/plain": [
       "<bound method IndexOpsMixin.nunique of AAPL    2943\n",
       "NVDA    2943\n",
       "NFLX    2943\n",
       "MU      2943\n",
       "MTCH    2943\n",
       "        ... \n",
       "FOXA     632\n",
       "FOX      631\n",
       "ZM       605\n",
       "CRWD     568\n",
       "PTON     494\n",
       "Name: Name, Length: 102, dtype: int64>"
      ]
     },
     "execution_count": 62,
     "metadata": {},
     "output_type": "execute_result"
    }
   ],
   "source": [
    "stocks_df['Name'].value_counts().nunique\n"
   ]
  },
  {
   "attachments": {},
   "cell_type": "markdown",
   "metadata": {},
   "source": [
    "**Observations:** \n",
    "- We can see that certain stocks such as `AAPL (APPLE)` have `2943` unique values counts whereas the others such as `FOX` only have `631`. \n",
    "\n",
    "- Therefore, what we can do is look at the top 10 constituents of the NASDAQ 100 Index. "
   ]
  },
  {
   "attachments": {},
   "cell_type": "markdown",
   "metadata": {},
   "source": [
    "<b>The top 10 constitunets of the NASDAQ 100 Index are: </b> <br>\n",
    "\n",
    "`AAPL` (Apple), `MSFT` (Microsoft), `GOOG` (Google Class C), `GOOGL` (Google Class A), `AMZN` (Amazon), `TSLA` (Tesla), `FB` (Facebook/Meta), `NVDA` (Nvidia), `PEP` (Pepsi), `COST` (Costco).\n"
   ]
  },
  {
   "attachments": {},
   "cell_type": "markdown",
   "metadata": {},
   "source": [
    "<b>Breakdown of the top 10 constituents:</b>\n",
    "\n",
    "Now that we have indentified our top 10 constituents, it is not practically possible to conduct analysis on every individual stock. Therefore, what we can do is group certain stocks and then perform further analysis on it. \n",
    "\n",
    "We can group the following individual stocks: `AAPL`, `MSFT`, `GOOG`, `GOOGL`, `AMZN` and `FB`. As per the stocks we grouped, it can be named as the `tech_giants`.\n",
    "\n",
    "The assumption we are making behind this is that as the stock prices of the `tech_giants` company changes, this will directly correlate to other stocks in the index as the giants are controlling the majority of the market share. Therefore, it is safe to assume that performing analysis on these will give us an idea of how all the different stocks behave in the `NASDAQ-100` index. "
   ]
  },
  {
   "attachments": {},
   "cell_type": "markdown",
   "metadata": {},
   "source": [
    "### Grouping Stocks"
   ]
  },
  {
   "attachments": {},
   "cell_type": "markdown",
   "metadata": {},
   "source": [
    "Let's create a new dataframe that will consist of the following stocks: \n",
    "\n",
    "`AAPL`, `MSFT`, `GOOG`, `GOOGL`, `AMZN` & `FB` <-- We will name the following as `tech_giants`."
   ]
  },
  {
   "cell_type": "code",
   "execution_count": 63,
   "metadata": {},
   "outputs": [],
   "source": [
    "# Creating the dataframe\n",
    "\n",
    "tech_giants = stocks_df[stocks_df['Name'].isin(['AAPL', 'MSFT', 'GOOG', 'GOOGL', 'AMZN', 'FB'])]\n"
   ]
  },
  {
   "cell_type": "code",
   "execution_count": 64,
   "metadata": {},
   "outputs": [
    {
     "data": {
      "text/html": [
       "<div>\n",
       "<style scoped>\n",
       "    .dataframe tbody tr th:only-of-type {\n",
       "        vertical-align: middle;\n",
       "    }\n",
       "\n",
       "    .dataframe tbody tr th {\n",
       "        vertical-align: top;\n",
       "    }\n",
       "\n",
       "    .dataframe thead th {\n",
       "        text-align: right;\n",
       "    }\n",
       "</style>\n",
       "<table border=\"1\" class=\"dataframe\">\n",
       "  <thead>\n",
       "    <tr style=\"text-align: right;\">\n",
       "      <th></th>\n",
       "      <th>Date</th>\n",
       "      <th>Open</th>\n",
       "      <th>High</th>\n",
       "      <th>Low</th>\n",
       "      <th>Close</th>\n",
       "      <th>Adj Close</th>\n",
       "      <th>Volume</th>\n",
       "      <th>Name</th>\n",
       "    </tr>\n",
       "  </thead>\n",
       "  <tbody>\n",
       "    <tr>\n",
       "      <th>116557</th>\n",
       "      <td>2012-04-24</td>\n",
       "      <td>298.003021</td>\n",
       "      <td>302.182343</td>\n",
       "      <td>297.544739</td>\n",
       "      <td>299.512360</td>\n",
       "      <td>299.512360</td>\n",
       "      <td>3872661</td>\n",
       "      <td>GOOG</td>\n",
       "    </tr>\n",
       "    <tr>\n",
       "      <th>31167</th>\n",
       "      <td>2016-11-25</td>\n",
       "      <td>786.500000</td>\n",
       "      <td>786.750000</td>\n",
       "      <td>777.900024</td>\n",
       "      <td>780.369995</td>\n",
       "      <td>780.369995</td>\n",
       "      <td>1837100</td>\n",
       "      <td>AMZN</td>\n",
       "    </tr>\n",
       "    <tr>\n",
       "      <th>1948</th>\n",
       "      <td>2017-09-28</td>\n",
       "      <td>38.472500</td>\n",
       "      <td>38.570000</td>\n",
       "      <td>38.174999</td>\n",
       "      <td>38.320000</td>\n",
       "      <td>36.571980</td>\n",
       "      <td>88022000</td>\n",
       "      <td>AAPL</td>\n",
       "    </tr>\n",
       "    <tr>\n",
       "      <th>29792</th>\n",
       "      <td>2011-06-10</td>\n",
       "      <td>189.250000</td>\n",
       "      <td>190.770004</td>\n",
       "      <td>186.279999</td>\n",
       "      <td>186.529999</td>\n",
       "      <td>186.529999</td>\n",
       "      <td>3760400</td>\n",
       "      <td>AMZN</td>\n",
       "    </tr>\n",
       "    <tr>\n",
       "      <th>106653</th>\n",
       "      <td>2013-01-24</td>\n",
       "      <td>31.270000</td>\n",
       "      <td>31.490000</td>\n",
       "      <td>30.809999</td>\n",
       "      <td>31.080000</td>\n",
       "      <td>31.080000</td>\n",
       "      <td>43845100</td>\n",
       "      <td>FB</td>\n",
       "    </tr>\n",
       "    <tr>\n",
       "      <th>177621</th>\n",
       "      <td>2016-06-30</td>\n",
       "      <td>50.720001</td>\n",
       "      <td>51.299999</td>\n",
       "      <td>50.500000</td>\n",
       "      <td>51.169998</td>\n",
       "      <td>47.050705</td>\n",
       "      <td>28527800</td>\n",
       "      <td>MSFT</td>\n",
       "    </tr>\n",
       "    <tr>\n",
       "      <th>178824</th>\n",
       "      <td>2021-04-13</td>\n",
       "      <td>257.260010</td>\n",
       "      <td>259.190002</td>\n",
       "      <td>256.829987</td>\n",
       "      <td>258.489990</td>\n",
       "      <td>257.401733</td>\n",
       "      <td>23837500</td>\n",
       "      <td>MSFT</td>\n",
       "    </tr>\n",
       "    <tr>\n",
       "      <th>106949</th>\n",
       "      <td>2014-03-28</td>\n",
       "      <td>61.340000</td>\n",
       "      <td>61.950001</td>\n",
       "      <td>59.340000</td>\n",
       "      <td>60.009998</td>\n",
       "      <td>60.009998</td>\n",
       "      <td>67052000</td>\n",
       "      <td>FB</td>\n",
       "    </tr>\n",
       "    <tr>\n",
       "      <th>178555</th>\n",
       "      <td>2020-03-18</td>\n",
       "      <td>138.000000</td>\n",
       "      <td>146.000000</td>\n",
       "      <td>135.020004</td>\n",
       "      <td>140.399994</td>\n",
       "      <td>138.402435</td>\n",
       "      <td>81593200</td>\n",
       "      <td>MSFT</td>\n",
       "    </tr>\n",
       "    <tr>\n",
       "      <th>178295</th>\n",
       "      <td>2019-03-07</td>\n",
       "      <td>111.400002</td>\n",
       "      <td>111.550003</td>\n",
       "      <td>109.870003</td>\n",
       "      <td>110.389999</td>\n",
       "      <td>107.398460</td>\n",
       "      <td>25339000</td>\n",
       "      <td>MSFT</td>\n",
       "    </tr>\n",
       "  </tbody>\n",
       "</table>\n",
       "</div>"
      ],
      "text/plain": [
       "             Date        Open        High         Low       Close   Adj Close  \\\n",
       "116557 2012-04-24  298.003021  302.182343  297.544739  299.512360  299.512360   \n",
       "31167  2016-11-25  786.500000  786.750000  777.900024  780.369995  780.369995   \n",
       "1948   2017-09-28   38.472500   38.570000   38.174999   38.320000   36.571980   \n",
       "29792  2011-06-10  189.250000  190.770004  186.279999  186.529999  186.529999   \n",
       "106653 2013-01-24   31.270000   31.490000   30.809999   31.080000   31.080000   \n",
       "177621 2016-06-30   50.720001   51.299999   50.500000   51.169998   47.050705   \n",
       "178824 2021-04-13  257.260010  259.190002  256.829987  258.489990  257.401733   \n",
       "106949 2014-03-28   61.340000   61.950001   59.340000   60.009998   60.009998   \n",
       "178555 2020-03-18  138.000000  146.000000  135.020004  140.399994  138.402435   \n",
       "178295 2019-03-07  111.400002  111.550003  109.870003  110.389999  107.398460   \n",
       "\n",
       "          Volume  Name  \n",
       "116557   3872661  GOOG  \n",
       "31167    1837100  AMZN  \n",
       "1948    88022000  AAPL  \n",
       "29792    3760400  AMZN  \n",
       "106653  43845100    FB  \n",
       "177621  28527800  MSFT  \n",
       "178824  23837500  MSFT  \n",
       "106949  67052000    FB  \n",
       "178555  81593200  MSFT  \n",
       "178295  25339000  MSFT  "
      ]
     },
     "execution_count": 64,
     "metadata": {},
     "output_type": "execute_result"
    }
   ],
   "source": [
    "# Sanity Check \n",
    "\n",
    "tech_giants.sample(10)"
   ]
  },
  {
   "cell_type": "code",
   "execution_count": 65,
   "metadata": {},
   "outputs": [
    {
     "data": {
      "text/plain": [
       "(17059, 8)"
      ]
     },
     "execution_count": 65,
     "metadata": {},
     "output_type": "execute_result"
    }
   ],
   "source": [
    "# Checking the shape of the new dataframe \n",
    "\n",
    "tech_giants.shape"
   ]
  },
  {
   "cell_type": "code",
   "execution_count": 66,
   "metadata": {},
   "outputs": [
    {
     "name": "stdout",
     "output_type": "stream",
     "text": [
      "Our new dataframe tech_giants has 17059 rows and 8 columns. \n"
     ]
    }
   ],
   "source": [
    "print(f\"Our new dataframe tech_giants has {tech_giants.shape[0]} rows and {tech_giants.shape[1]} columns. \")"
   ]
  },
  {
   "cell_type": "code",
   "execution_count": 67,
   "metadata": {},
   "outputs": [
    {
     "data": {
      "text/plain": [
       "array(['AAPL', 'AMZN', 'FB', 'GOOG', 'GOOGL', 'MSFT'], dtype=object)"
      ]
     },
     "execution_count": 67,
     "metadata": {},
     "output_type": "execute_result"
    }
   ],
   "source": [
    "# Check the unique names in the Name column\n",
    "\n",
    "tech_giants['Name'].unique()"
   ]
  },
  {
   "attachments": {},
   "cell_type": "markdown",
   "metadata": {},
   "source": [
    "**Observations:**\n",
    "\n",
    "- We were able to successfully create a new dataframe that contains the top 10 stocks in the NASDAQ 100 index. \n",
    "\n",
    "- Now, that we grouped them as one and are making our explorations based on a whole group as `tech_giants`, we can actually go ahead and drop the `Name` column as it will not be necessary now. "
   ]
  },
  {
   "cell_type": "code",
   "execution_count": 68,
   "metadata": {},
   "outputs": [],
   "source": [
    "# Let's drop the name column as we are making explorations based on the grouping \n",
    "\n",
    "tech_giants = tech_giants.drop(['Name'], axis=1)"
   ]
  },
  {
   "cell_type": "code",
   "execution_count": 69,
   "metadata": {},
   "outputs": [
    {
     "data": {
      "text/html": [
       "<div>\n",
       "<style scoped>\n",
       "    .dataframe tbody tr th:only-of-type {\n",
       "        vertical-align: middle;\n",
       "    }\n",
       "\n",
       "    .dataframe tbody tr th {\n",
       "        vertical-align: top;\n",
       "    }\n",
       "\n",
       "    .dataframe thead th {\n",
       "        text-align: right;\n",
       "    }\n",
       "</style>\n",
       "<table border=\"1\" class=\"dataframe\">\n",
       "  <thead>\n",
       "    <tr style=\"text-align: right;\">\n",
       "      <th></th>\n",
       "      <th>Date</th>\n",
       "      <th>Open</th>\n",
       "      <th>High</th>\n",
       "      <th>Low</th>\n",
       "      <th>Close</th>\n",
       "      <th>Adj Close</th>\n",
       "      <th>Volume</th>\n",
       "    </tr>\n",
       "  </thead>\n",
       "  <tbody>\n",
       "    <tr>\n",
       "      <th>119937</th>\n",
       "      <td>2014-01-21</td>\n",
       "      <td>581.046021</td>\n",
       "      <td>582.582581</td>\n",
       "      <td>576.226196</td>\n",
       "      <td>582.432434</td>\n",
       "      <td>582.432434</td>\n",
       "      <td>3955840</td>\n",
       "    </tr>\n",
       "    <tr>\n",
       "      <th>119401</th>\n",
       "      <td>2011-11-30</td>\n",
       "      <td>299.274261</td>\n",
       "      <td>300.055054</td>\n",
       "      <td>296.341339</td>\n",
       "      <td>299.994995</td>\n",
       "      <td>299.994995</td>\n",
       "      <td>6787206</td>\n",
       "    </tr>\n",
       "    <tr>\n",
       "      <th>966</th>\n",
       "      <td>2013-11-04</td>\n",
       "      <td>18.610714</td>\n",
       "      <td>18.815001</td>\n",
       "      <td>18.528929</td>\n",
       "      <td>18.812500</td>\n",
       "      <td>16.608582</td>\n",
       "      <td>244627600</td>\n",
       "    </tr>\n",
       "    <tr>\n",
       "      <th>657</th>\n",
       "      <td>2012-08-10</td>\n",
       "      <td>22.096786</td>\n",
       "      <td>22.205713</td>\n",
       "      <td>22.096430</td>\n",
       "      <td>22.203571</td>\n",
       "      <td>19.146202</td>\n",
       "      <td>194938800</td>\n",
       "    </tr>\n",
       "    <tr>\n",
       "      <th>118827</th>\n",
       "      <td>2021-05-03</td>\n",
       "      <td>2402.719971</td>\n",
       "      <td>2419.699951</td>\n",
       "      <td>2384.500000</td>\n",
       "      <td>2395.169922</td>\n",
       "      <td>2395.169922</td>\n",
       "      <td>1689400</td>\n",
       "    </tr>\n",
       "  </tbody>\n",
       "</table>\n",
       "</div>"
      ],
      "text/plain": [
       "             Date         Open         High          Low        Close  \\\n",
       "119937 2014-01-21   581.046021   582.582581   576.226196   582.432434   \n",
       "119401 2011-11-30   299.274261   300.055054   296.341339   299.994995   \n",
       "966    2013-11-04    18.610714    18.815001    18.528929    18.812500   \n",
       "657    2012-08-10    22.096786    22.205713    22.096430    22.203571   \n",
       "118827 2021-05-03  2402.719971  2419.699951  2384.500000  2395.169922   \n",
       "\n",
       "          Adj Close     Volume  \n",
       "119937   582.432434    3955840  \n",
       "119401   299.994995    6787206  \n",
       "966       16.608582  244627600  \n",
       "657       19.146202  194938800  \n",
       "118827  2395.169922    1689400  "
      ]
     },
     "execution_count": 69,
     "metadata": {},
     "output_type": "execute_result"
    }
   ],
   "source": [
    "# Sanity Check \n",
    "\n",
    "tech_giants.sample(5)"
   ]
  },
  {
   "cell_type": "code",
   "execution_count": 70,
   "metadata": {},
   "outputs": [
    {
     "data": {
      "text/plain": [
       "(17059, 7)"
      ]
     },
     "execution_count": 70,
     "metadata": {},
     "output_type": "execute_result"
    }
   ],
   "source": [
    "# Let's check the new shape \n",
    "\n",
    "tech_giants.shape"
   ]
  },
  {
   "cell_type": "code",
   "execution_count": 71,
   "metadata": {},
   "outputs": [
    {
     "name": "stdout",
     "output_type": "stream",
     "text": [
      "Our dataframe now has 17059 rows and 7 columns.\n"
     ]
    }
   ],
   "source": [
    "# print the number of columns and rows \n",
    "\n",
    "print(f\"Our dataframe now has {tech_giants.shape[0]} rows and {tech_giants.shape[1]} columns.\")"
   ]
  },
  {
   "attachments": {},
   "cell_type": "markdown",
   "metadata": {},
   "source": [
    "**Observations:**\n",
    "\n",
    "- We were able drop the `Name` column as we grouped the stocks together.\n",
    "\n",
    "- The new dataframe `tech_giants` will now be used for further explorations and modelling. "
   ]
  },
  {
   "attachments": {},
   "cell_type": "markdown",
   "metadata": {},
   "source": [
    "### Distribution of our columns:"
   ]
  },
  {
   "attachments": {},
   "cell_type": "markdown",
   "metadata": {},
   "source": [
    "Let's look at how our data is distributed across the different columns. "
   ]
  },
  {
   "cell_type": "code",
   "execution_count": 72,
   "metadata": {},
   "outputs": [
    {
     "data": {
      "text/plain": [
       "Date         datetime64[ns]\n",
       "Open                float64\n",
       "High                float64\n",
       "Low                 float64\n",
       "Close               float64\n",
       "Adj Close           float64\n",
       "Volume                int64\n",
       "dtype: object"
      ]
     },
     "execution_count": 72,
     "metadata": {},
     "output_type": "execute_result"
    }
   ],
   "source": [
    "# Let's look at the datatypes of our columns\n",
    "\n",
    "tech_giants.dtypes"
   ]
  },
  {
   "attachments": {},
   "cell_type": "markdown",
   "metadata": {},
   "source": [
    "**Observations:**\n",
    "- Looking at the data types above, we can see that we only have numeric columns. \n",
    "\n",
    "- We will be creating a variable that contains all our numeric columns and then visualize the distribution using `histograms`. "
   ]
  },
  {
   "cell_type": "code",
   "execution_count": 73,
   "metadata": {},
   "outputs": [],
   "source": [
    "# Creating the numeric columns variable \n",
    "\n",
    "numeric_df = tech_giants.select_dtypes(['int', 'float']).copy()"
   ]
  },
  {
   "cell_type": "code",
   "execution_count": 74,
   "metadata": {},
   "outputs": [
    {
     "data": {
      "text/html": [
       "<div>\n",
       "<style scoped>\n",
       "    .dataframe tbody tr th:only-of-type {\n",
       "        vertical-align: middle;\n",
       "    }\n",
       "\n",
       "    .dataframe tbody tr th {\n",
       "        vertical-align: top;\n",
       "    }\n",
       "\n",
       "    .dataframe thead th {\n",
       "        text-align: right;\n",
       "    }\n",
       "</style>\n",
       "<table border=\"1\" class=\"dataframe\">\n",
       "  <thead>\n",
       "    <tr style=\"text-align: right;\">\n",
       "      <th></th>\n",
       "      <th>Open</th>\n",
       "      <th>High</th>\n",
       "      <th>Low</th>\n",
       "      <th>Close</th>\n",
       "      <th>Adj Close</th>\n",
       "      <th>Volume</th>\n",
       "    </tr>\n",
       "  </thead>\n",
       "  <tbody>\n",
       "    <tr>\n",
       "      <th>0</th>\n",
       "      <td>7.622500</td>\n",
       "      <td>7.660714</td>\n",
       "      <td>7.585000</td>\n",
       "      <td>7.643214</td>\n",
       "      <td>6.562591</td>\n",
       "      <td>493729600</td>\n",
       "    </tr>\n",
       "    <tr>\n",
       "      <th>1</th>\n",
       "      <td>7.664286</td>\n",
       "      <td>7.699643</td>\n",
       "      <td>7.616071</td>\n",
       "      <td>7.656429</td>\n",
       "      <td>6.573935</td>\n",
       "      <td>601904800</td>\n",
       "    </tr>\n",
       "    <tr>\n",
       "      <th>2</th>\n",
       "      <td>7.656429</td>\n",
       "      <td>7.686786</td>\n",
       "      <td>7.526786</td>\n",
       "      <td>7.534643</td>\n",
       "      <td>6.469369</td>\n",
       "      <td>552160000</td>\n",
       "    </tr>\n",
       "    <tr>\n",
       "      <th>3</th>\n",
       "      <td>7.562500</td>\n",
       "      <td>7.571429</td>\n",
       "      <td>7.466071</td>\n",
       "      <td>7.520714</td>\n",
       "      <td>6.457407</td>\n",
       "      <td>477131200</td>\n",
       "    </tr>\n",
       "    <tr>\n",
       "      <th>4</th>\n",
       "      <td>7.510714</td>\n",
       "      <td>7.571429</td>\n",
       "      <td>7.466429</td>\n",
       "      <td>7.570714</td>\n",
       "      <td>6.500339</td>\n",
       "      <td>447610800</td>\n",
       "    </tr>\n",
       "    <tr>\n",
       "      <th>...</th>\n",
       "      <td>...</td>\n",
       "      <td>...</td>\n",
       "      <td>...</td>\n",
       "      <td>...</td>\n",
       "      <td>...</td>\n",
       "      <td>...</td>\n",
       "    </tr>\n",
       "    <tr>\n",
       "      <th>178925</th>\n",
       "      <td>300.989990</td>\n",
       "      <td>302.600006</td>\n",
       "      <td>300.260010</td>\n",
       "      <td>301.140015</td>\n",
       "      <td>301.140015</td>\n",
       "      <td>14747900</td>\n",
       "    </tr>\n",
       "    <tr>\n",
       "      <th>178926</th>\n",
       "      <td>301.010010</td>\n",
       "      <td>301.089996</td>\n",
       "      <td>298.200012</td>\n",
       "      <td>300.179993</td>\n",
       "      <td>300.179993</td>\n",
       "      <td>17180400</td>\n",
       "    </tr>\n",
       "    <tr>\n",
       "      <th>178927</th>\n",
       "      <td>299.779999</td>\n",
       "      <td>300.609985</td>\n",
       "      <td>297.470001</td>\n",
       "      <td>300.209991</td>\n",
       "      <td>300.209991</td>\n",
       "      <td>15046800</td>\n",
       "    </tr>\n",
       "    <tr>\n",
       "      <th>178928</th>\n",
       "      <td>300.820007</td>\n",
       "      <td>302.140015</td>\n",
       "      <td>297.000000</td>\n",
       "      <td>297.250000</td>\n",
       "      <td>297.250000</td>\n",
       "      <td>19927000</td>\n",
       "    </tr>\n",
       "    <tr>\n",
       "      <th>178929</th>\n",
       "      <td>298.420013</td>\n",
       "      <td>299.920013</td>\n",
       "      <td>295.380005</td>\n",
       "      <td>295.709991</td>\n",
       "      <td>295.709991</td>\n",
       "      <td>19619400</td>\n",
       "    </tr>\n",
       "  </tbody>\n",
       "</table>\n",
       "<p>17059 rows × 6 columns</p>\n",
       "</div>"
      ],
      "text/plain": [
       "              Open        High         Low       Close   Adj Close     Volume\n",
       "0         7.622500    7.660714    7.585000    7.643214    6.562591  493729600\n",
       "1         7.664286    7.699643    7.616071    7.656429    6.573935  601904800\n",
       "2         7.656429    7.686786    7.526786    7.534643    6.469369  552160000\n",
       "3         7.562500    7.571429    7.466071    7.520714    6.457407  477131200\n",
       "4         7.510714    7.571429    7.466429    7.570714    6.500339  447610800\n",
       "...            ...         ...         ...         ...         ...        ...\n",
       "178925  300.989990  302.600006  300.260010  301.140015  301.140015   14747900\n",
       "178926  301.010010  301.089996  298.200012  300.179993  300.179993   17180400\n",
       "178927  299.779999  300.609985  297.470001  300.209991  300.209991   15046800\n",
       "178928  300.820007  302.140015  297.000000  297.250000  297.250000   19927000\n",
       "178929  298.420013  299.920013  295.380005  295.709991  295.709991   19619400\n",
       "\n",
       "[17059 rows x 6 columns]"
      ]
     },
     "execution_count": 74,
     "metadata": {},
     "output_type": "execute_result"
    }
   ],
   "source": [
    "# Sanity Check \n",
    "\n",
    "numeric_df"
   ]
  },
  {
   "attachments": {},
   "cell_type": "markdown",
   "metadata": {},
   "source": [
    "From the table above we can see all the columns with the datatypes `int` and `float`. We excluded the `date` column as it not relevant at the moment. "
   ]
  },
  {
   "cell_type": "code",
   "execution_count": 75,
   "metadata": {},
   "outputs": [
    {
     "data": {
      "image/png": "[encoded data removed]",
      "text/plain": [
       "<Figure size 800x900 with 6 Axes>"
      ]
     },
     "metadata": {},
     "output_type": "display_data"
    }
   ],
   "source": [
    "# Let's plot the visualizations \n",
    "\n",
    "num_cols = len(numeric_df.columns)\n",
    "num_rows = (num_cols + 1) // 2  # Calculate the number of rows based on the number of columns\n",
    "\n",
    "# Intializing the plots\n",
    "fig, axes = plt.subplots(nrows=num_rows, ncols=2, figsize=(8, 3*num_rows))\n",
    "\n",
    "# Running for loop across all the numeric columns\n",
    "for i, column in enumerate(numeric_df.columns):\n",
    "    row = i // 2  # Calculate the row index for the subplot\n",
    "    col = i % 2   # Calculate the column index for the subplot\n",
    "    ax = axes[row, col]  # Get the current subplot axes\n",
    "    ax.hist(numeric_df[column], bins=20)\n",
    "    ax.axvline(numeric_df[column].mean(), c=\"lightcoral\", label=\"mean\")\n",
    "    ax.axvline(numeric_df[column].median(), c=\"lightcoral\", label=\"median\", linestyle=\"--\")\n",
    "    ax.set_xlabel('Value')\n",
    "    ax.set_ylabel('Frequency')\n",
    "    ax.legend()\n",
    "    ax.set_title(column)\n",
    "\n",
    "# Remove any empty subplots\n",
    "if num_cols % 2 != 0:\n",
    "    axes[-1, -1].remove()\n",
    "\n",
    "plt.tight_layout()\n",
    "plt.show()"
   ]
  },
  {
   "attachments": {},
   "cell_type": "markdown",
   "metadata": {},
   "source": [
    "**Observations:**\n",
    "- From the visualizations above we can see that the `mean` value is approximately in the range of `400-600`. This is because our new dataframe has information on various stocks. \n",
    "\n",
    "- Some of the individual stocks have larger values compared to the others and therefore this is affecting our mean.\n",
    "\n",
    "- Our histograms are all `right-skewed` or in other words `positive-skewed`, this is evident through the long right tail. This occurs as there is a limit on the minimum possible value while there is no limit on the maximum possible value.\n",
    "\n",
    "- In the following scenario, as it is `right-skewed` our `median` will always appear before the `mean`. \n",
    "\n",
    "- We can also see that the histogram for the `Volume` column is not shown appropriately as these values are extremely large and we would require a `log` scale to see the distribution appropriately. We will not be converting it into a `log` scale graph as we will not be using it for modeling. "
   ]
  },
  {
   "attachments": {},
   "cell_type": "markdown",
   "metadata": {},
   "source": [
    "### Evaluating Trading Strategies:"
   ]
  },
  {
   "attachments": {},
   "cell_type": "markdown",
   "metadata": {},
   "source": [
    "There are numerous factors that can be considered when analyzing stocks data. In the following scenario we have the given features `Date`, `Open`, `High`, `Low`, `Close`, `Adj Close` and `Volume`. \n",
    "\n",
    "A number of strategies can be applied when analyzing this data:\n",
    "- An investor can trade based on the time of the day (When the stock is at `high` they can potentially sell, create more profit)\n",
    "- They can trade based on the closing price of the day (Sell/Keep the stock based on the price it closes at)\n",
    "\n",
    "In our scenario: \n",
    "- We will be looking at the closing price of the stock on that day and compare that to the previous day's closing price to determine whether the difference is positive or negative. This will be the most basic strategy that we will apply. "
   ]
  },
  {
   "attachments": {},
   "cell_type": "markdown",
   "metadata": {},
   "source": [
    "Let's look at how our column `Close` varies over time `Date`. We can plot a simple line graph to see the trend of the closing stock price over the different years of data that we have access to. "
   ]
  },
  {
   "cell_type": "code",
   "execution_count": 79,
   "metadata": {},
   "outputs": [
    {
     "data": {
      "text/html": [
       "<div>\n",
       "<style scoped>\n",
       "    .dataframe tbody tr th:only-of-type {\n",
       "        vertical-align: middle;\n",
       "    }\n",
       "\n",
       "    .dataframe tbody tr th {\n",
       "        vertical-align: top;\n",
       "    }\n",
       "\n",
       "    .dataframe thead th {\n",
       "        text-align: right;\n",
       "    }\n",
       "</style>\n",
       "<table border=\"1\" class=\"dataframe\">\n",
       "  <thead>\n",
       "    <tr style=\"text-align: right;\">\n",
       "      <th></th>\n",
       "      <th>Date</th>\n",
       "      <th>Close</th>\n",
       "    </tr>\n",
       "  </thead>\n",
       "  <tbody>\n",
       "    <tr>\n",
       "      <th>0</th>\n",
       "      <td>2010-01-04</td>\n",
       "      <td>7.643214</td>\n",
       "    </tr>\n",
       "    <tr>\n",
       "      <th>1</th>\n",
       "      <td>2010-01-05</td>\n",
       "      <td>7.656429</td>\n",
       "    </tr>\n",
       "    <tr>\n",
       "      <th>2</th>\n",
       "      <td>2010-01-06</td>\n",
       "      <td>7.534643</td>\n",
       "    </tr>\n",
       "    <tr>\n",
       "      <th>3</th>\n",
       "      <td>2010-01-07</td>\n",
       "      <td>7.520714</td>\n",
       "    </tr>\n",
       "    <tr>\n",
       "      <th>4</th>\n",
       "      <td>2010-01-08</td>\n",
       "      <td>7.570714</td>\n",
       "    </tr>\n",
       "    <tr>\n",
       "      <th>...</th>\n",
       "      <td>...</td>\n",
       "      <td>...</td>\n",
       "    </tr>\n",
       "    <tr>\n",
       "      <th>178925</th>\n",
       "      <td>2021-09-03</td>\n",
       "      <td>301.140015</td>\n",
       "    </tr>\n",
       "    <tr>\n",
       "      <th>178926</th>\n",
       "      <td>2021-09-07</td>\n",
       "      <td>300.179993</td>\n",
       "    </tr>\n",
       "    <tr>\n",
       "      <th>178927</th>\n",
       "      <td>2021-09-08</td>\n",
       "      <td>300.209991</td>\n",
       "    </tr>\n",
       "    <tr>\n",
       "      <th>178928</th>\n",
       "      <td>2021-09-09</td>\n",
       "      <td>297.250000</td>\n",
       "    </tr>\n",
       "    <tr>\n",
       "      <th>178929</th>\n",
       "      <td>2021-09-10</td>\n",
       "      <td>295.709991</td>\n",
       "    </tr>\n",
       "  </tbody>\n",
       "</table>\n",
       "<p>17059 rows × 2 columns</p>\n",
       "</div>"
      ],
      "text/plain": [
       "             Date       Close\n",
       "0      2010-01-04    7.643214\n",
       "1      2010-01-05    7.656429\n",
       "2      2010-01-06    7.534643\n",
       "3      2010-01-07    7.520714\n",
       "4      2010-01-08    7.570714\n",
       "...           ...         ...\n",
       "178925 2021-09-03  301.140015\n",
       "178926 2021-09-07  300.179993\n",
       "178927 2021-09-08  300.209991\n",
       "178928 2021-09-09  297.250000\n",
       "178929 2021-09-10  295.709991\n",
       "\n",
       "[17059 rows x 2 columns]"
      ]
     },
     "execution_count": 79,
     "metadata": {},
     "output_type": "execute_result"
    }
   ],
   "source": [
    "# Let's look at our desired columns \n",
    "\n",
    "tech_giants[['Date', 'Close']]"
   ]
  },
  {
   "cell_type": "code",
   "execution_count": 82,
   "metadata": {},
   "outputs": [
    {
     "data": {
      "image/png": "[encoded data removed]",
      "text/plain": [
       "<Figure size 800x600 with 1 Axes>"
      ]
     },
     "metadata": {},
     "output_type": "display_data"
    }
   ],
   "source": [
    "# Plotting a line graph representing the table above (Date and Closing Price columns)\n",
    "\n",
    "plt.figure(figsize=(8, 6))\n",
    "plt.plot(tech_giants['Date'], tech_giants['Close'])\n",
    "plt.xlabel('Date')\n",
    "plt.ylabel('Closing Price')\n",
    "plt.title('Closing Price of tech giants stocks over time'.title())\n",
    "plt.show()"
   ]
  },
  {
   "attachments": {},
   "cell_type": "markdown",
   "metadata": {},
   "source": [
    "**Observations:**\n",
    "- Looking at the graph we can see numerous data points being plotted. This is because, our dataframe consists of 6 different stocks and each stock has its own \n",
    "closing price at a given day. \n",
    "\n",
    "- Therefore, we cannot use the following to make predictions as we do not have clear data points that we can plot.\n",
    "\n",
    "- Let's validate the information mentioned above by selecting a random date and looking at the data points. "
   ]
  },
  {
   "cell_type": "code",
   "execution_count": 81,
   "metadata": {},
   "outputs": [
    {
     "data": {
      "text/html": [
       "<div>\n",
       "<style scoped>\n",
       "    .dataframe tbody tr th:only-of-type {\n",
       "        vertical-align: middle;\n",
       "    }\n",
       "\n",
       "    .dataframe tbody tr th {\n",
       "        vertical-align: top;\n",
       "    }\n",
       "\n",
       "    .dataframe thead th {\n",
       "        text-align: right;\n",
       "    }\n",
       "</style>\n",
       "<table border=\"1\" class=\"dataframe\">\n",
       "  <thead>\n",
       "    <tr style=\"text-align: right;\">\n",
       "      <th></th>\n",
       "      <th>Date</th>\n",
       "      <th>Open</th>\n",
       "      <th>High</th>\n",
       "      <th>Low</th>\n",
       "      <th>Close</th>\n",
       "      <th>Adj Close</th>\n",
       "      <th>Volume</th>\n",
       "    </tr>\n",
       "  </thead>\n",
       "  <tbody>\n",
       "    <tr>\n",
       "      <th>2938</th>\n",
       "      <td>2021-09-03</td>\n",
       "      <td>153.759995</td>\n",
       "      <td>154.630005</td>\n",
       "      <td>153.089996</td>\n",
       "      <td>154.300003</td>\n",
       "      <td>154.300003</td>\n",
       "      <td>57808700</td>\n",
       "    </tr>\n",
       "    <tr>\n",
       "      <th>32368</th>\n",
       "      <td>2021-09-03</td>\n",
       "      <td>3452.000000</td>\n",
       "      <td>3482.669922</td>\n",
       "      <td>3436.439941</td>\n",
       "      <td>3478.050049</td>\n",
       "      <td>3478.050049</td>\n",
       "      <td>2575700</td>\n",
       "    </tr>\n",
       "    <tr>\n",
       "      <th>108822</th>\n",
       "      <td>2021-09-03</td>\n",
       "      <td>374.750000</td>\n",
       "      <td>377.160004</td>\n",
       "      <td>373.109985</td>\n",
       "      <td>376.260010</td>\n",
       "      <td>376.260010</td>\n",
       "      <td>7509600</td>\n",
       "    </tr>\n",
       "    <tr>\n",
       "      <th>118914</th>\n",
       "      <td>2021-09-03</td>\n",
       "      <td>2882.919922</td>\n",
       "      <td>2907.540039</td>\n",
       "      <td>2870.100098</td>\n",
       "      <td>2895.500000</td>\n",
       "      <td>2895.500000</td>\n",
       "      <td>955200</td>\n",
       "    </tr>\n",
       "    <tr>\n",
       "      <th>121857</th>\n",
       "      <td>2021-09-03</td>\n",
       "      <td>2861.610107</td>\n",
       "      <td>2883.100098</td>\n",
       "      <td>2848.010010</td>\n",
       "      <td>2874.790039</td>\n",
       "      <td>2874.790039</td>\n",
       "      <td>992500</td>\n",
       "    </tr>\n",
       "    <tr>\n",
       "      <th>178925</th>\n",
       "      <td>2021-09-03</td>\n",
       "      <td>300.989990</td>\n",
       "      <td>302.600006</td>\n",
       "      <td>300.260010</td>\n",
       "      <td>301.140015</td>\n",
       "      <td>301.140015</td>\n",
       "      <td>14747900</td>\n",
       "    </tr>\n",
       "  </tbody>\n",
       "</table>\n",
       "</div>"
      ],
      "text/plain": [
       "             Date         Open         High          Low        Close  \\\n",
       "2938   2021-09-03   153.759995   154.630005   153.089996   154.300003   \n",
       "32368  2021-09-03  3452.000000  3482.669922  3436.439941  3478.050049   \n",
       "108822 2021-09-03   374.750000   377.160004   373.109985   376.260010   \n",
       "118914 2021-09-03  2882.919922  2907.540039  2870.100098  2895.500000   \n",
       "121857 2021-09-03  2861.610107  2883.100098  2848.010010  2874.790039   \n",
       "178925 2021-09-03   300.989990   302.600006   300.260010   301.140015   \n",
       "\n",
       "          Adj Close    Volume  \n",
       "2938     154.300003  57808700  \n",
       "32368   3478.050049   2575700  \n",
       "108822   376.260010   7509600  \n",
       "118914  2895.500000    955200  \n",
       "121857  2874.790039    992500  \n",
       "178925   301.140015  14747900  "
      ]
     },
     "execution_count": 81,
     "metadata": {},
     "output_type": "execute_result"
    }
   ],
   "source": [
    "# Selecting a random date and looking at the data respectively\n",
    "\n",
    "tech_giants[tech_giants['Date'] == '2021-09-03']"
   ]
  },
  {
   "attachments": {},
   "cell_type": "markdown",
   "metadata": {},
   "source": [
    "- As we can see from the table we have 6 different data points for one particular day that we selected. Therefore, it is not possible to predict as we will not obtain clear results.\n",
    "\n",
    "- Our next step would be to narrow down to one particular stock and use that stock as a reference point for the NASDAQ-100 index."
   ]
  },
  {
   "attachments": {},
   "cell_type": "markdown",
   "metadata": {},
   "source": [
    "### NASADAQ-100 Stock Reference (APPLE):"
   ]
  },
  {
   "attachments": {},
   "cell_type": "markdown",
   "metadata": {},
   "source": [
    "When evaluting our trading strategies we looked at how the data varied for the group of stocks `tech_giants` we created. Our desired trading strategy was to look at the difference between the closing price of the present day minus the closing price of yesterday. We then tried to plot the closing price of the group vs the date (over the years). We were not able to see a clear visual because we have 6 different stock closing price on a given day."
   ]
  },
  {
   "attachments": {},
   "cell_type": "markdown",
   "metadata": {},
   "source": [
    "- Our next step is to select a reference point in the NASDAQ-100 index that could potentially represent the movement of the other stocks. \n",
    "\n",
    "- We decided to go with the stock information on `AAPL` which is `APPLE`. This is because, Apple has the highest market cap valued at `$2.067 T` compared to the other stocks within the index. \n",
    "\n",
    "- Therefore, it is safe to assume that doing analysis on the stock prices of `APPLE` will help us make predictions of other stocks as well within the index. "
   ]
  },
  {
   "cell_type": "code",
   "execution_count": null,
   "metadata": {},
   "outputs": [
    {
     "data": {
      "text/html": [
       "<div>\n",
       "<style scoped>\n",
       "    .dataframe tbody tr th:only-of-type {\n",
       "        vertical-align: middle;\n",
       "    }\n",
       "\n",
       "    .dataframe tbody tr th {\n",
       "        vertical-align: top;\n",
       "    }\n",
       "\n",
       "    .dataframe thead th {\n",
       "        text-align: right;\n",
       "    }\n",
       "</style>\n",
       "<table border=\"1\" class=\"dataframe\">\n",
       "  <thead>\n",
       "    <tr style=\"text-align: right;\">\n",
       "      <th></th>\n",
       "      <th>Date</th>\n",
       "      <th>Open</th>\n",
       "      <th>High</th>\n",
       "      <th>Low</th>\n",
       "      <th>Close</th>\n",
       "      <th>Adj Close</th>\n",
       "      <th>Volume</th>\n",
       "      <th>Name</th>\n",
       "    </tr>\n",
       "  </thead>\n",
       "  <tbody>\n",
       "    <tr>\n",
       "      <th>0</th>\n",
       "      <td>2010-01-04</td>\n",
       "      <td>7.622500</td>\n",
       "      <td>7.660714</td>\n",
       "      <td>7.585000</td>\n",
       "      <td>7.643214</td>\n",
       "      <td>6.562591</td>\n",
       "      <td>493729600</td>\n",
       "      <td>AAPL</td>\n",
       "    </tr>\n",
       "    <tr>\n",
       "      <th>1</th>\n",
       "      <td>2010-01-05</td>\n",
       "      <td>7.664286</td>\n",
       "      <td>7.699643</td>\n",
       "      <td>7.616071</td>\n",
       "      <td>7.656429</td>\n",
       "      <td>6.573935</td>\n",
       "      <td>601904800</td>\n",
       "      <td>AAPL</td>\n",
       "    </tr>\n",
       "    <tr>\n",
       "      <th>2</th>\n",
       "      <td>2010-01-06</td>\n",
       "      <td>7.656429</td>\n",
       "      <td>7.686786</td>\n",
       "      <td>7.526786</td>\n",
       "      <td>7.534643</td>\n",
       "      <td>6.469369</td>\n",
       "      <td>552160000</td>\n",
       "      <td>AAPL</td>\n",
       "    </tr>\n",
       "    <tr>\n",
       "      <th>3</th>\n",
       "      <td>2010-01-07</td>\n",
       "      <td>7.562500</td>\n",
       "      <td>7.571429</td>\n",
       "      <td>7.466071</td>\n",
       "      <td>7.520714</td>\n",
       "      <td>6.457407</td>\n",
       "      <td>477131200</td>\n",
       "      <td>AAPL</td>\n",
       "    </tr>\n",
       "    <tr>\n",
       "      <th>4</th>\n",
       "      <td>2010-01-08</td>\n",
       "      <td>7.510714</td>\n",
       "      <td>7.571429</td>\n",
       "      <td>7.466429</td>\n",
       "      <td>7.570714</td>\n",
       "      <td>6.500339</td>\n",
       "      <td>447610800</td>\n",
       "      <td>AAPL</td>\n",
       "    </tr>\n",
       "  </tbody>\n",
       "</table>\n",
       "</div>"
      ],
      "text/plain": [
       "        Date      Open      High       Low     Close  Adj Close     Volume  \\\n",
       "0 2010-01-04  7.622500  7.660714  7.585000  7.643214   6.562591  493729600   \n",
       "1 2010-01-05  7.664286  7.699643  7.616071  7.656429   6.573935  601904800   \n",
       "2 2010-01-06  7.656429  7.686786  7.526786  7.534643   6.469369  552160000   \n",
       "3 2010-01-07  7.562500  7.571429  7.466071  7.520714   6.457407  477131200   \n",
       "4 2010-01-08  7.510714  7.571429  7.466429  7.570714   6.500339  447610800   \n",
       "\n",
       "   Name  \n",
       "0  AAPL  \n",
       "1  AAPL  \n",
       "2  AAPL  \n",
       "3  AAPL  \n",
       "4  AAPL  "
      ]
     },
     "execution_count": 30,
     "metadata": {},
     "output_type": "execute_result"
    }
   ],
   "source": [
    "# Let's jump back to our original dataframe \n",
    "\n",
    "stocks_df.head(5)"
   ]
  },
  {
   "cell_type": "code",
   "execution_count": null,
   "metadata": {},
   "outputs": [],
   "source": [
    "# Let's filter the dataframe to only give us AAPL stocks \n",
    "\n",
    "aapl_stocks = stocks_df[stocks_df['Name'].isin(['AAPL'])]"
   ]
  },
  {
   "cell_type": "code",
   "execution_count": null,
   "metadata": {},
   "outputs": [
    {
     "data": {
      "text/html": [
       "<div>\n",
       "<style scoped>\n",
       "    .dataframe tbody tr th:only-of-type {\n",
       "        vertical-align: middle;\n",
       "    }\n",
       "\n",
       "    .dataframe tbody tr th {\n",
       "        vertical-align: top;\n",
       "    }\n",
       "\n",
       "    .dataframe thead th {\n",
       "        text-align: right;\n",
       "    }\n",
       "</style>\n",
       "<table border=\"1\" class=\"dataframe\">\n",
       "  <thead>\n",
       "    <tr style=\"text-align: right;\">\n",
       "      <th></th>\n",
       "      <th>Date</th>\n",
       "      <th>Open</th>\n",
       "      <th>High</th>\n",
       "      <th>Low</th>\n",
       "      <th>Close</th>\n",
       "      <th>Adj Close</th>\n",
       "      <th>Volume</th>\n",
       "      <th>Name</th>\n",
       "    </tr>\n",
       "  </thead>\n",
       "  <tbody>\n",
       "    <tr>\n",
       "      <th>2908</th>\n",
       "      <td>2021-07-23</td>\n",
       "      <td>147.550003</td>\n",
       "      <td>148.720001</td>\n",
       "      <td>146.919998</td>\n",
       "      <td>148.559998</td>\n",
       "      <td>148.337753</td>\n",
       "      <td>71447400</td>\n",
       "      <td>AAPL</td>\n",
       "    </tr>\n",
       "    <tr>\n",
       "      <th>2261</th>\n",
       "      <td>2018-12-27</td>\n",
       "      <td>38.959999</td>\n",
       "      <td>39.192501</td>\n",
       "      <td>37.517502</td>\n",
       "      <td>39.037498</td>\n",
       "      <td>37.952026</td>\n",
       "      <td>212468400</td>\n",
       "      <td>AAPL</td>\n",
       "    </tr>\n",
       "    <tr>\n",
       "      <th>2618</th>\n",
       "      <td>2020-05-29</td>\n",
       "      <td>79.812500</td>\n",
       "      <td>80.287498</td>\n",
       "      <td>79.117500</td>\n",
       "      <td>79.485001</td>\n",
       "      <td>78.834900</td>\n",
       "      <td>153532400</td>\n",
       "      <td>AAPL</td>\n",
       "    </tr>\n",
       "    <tr>\n",
       "      <th>1803</th>\n",
       "      <td>2017-03-03</td>\n",
       "      <td>34.695000</td>\n",
       "      <td>34.957500</td>\n",
       "      <td>34.647499</td>\n",
       "      <td>34.945000</td>\n",
       "      <td>33.083912</td>\n",
       "      <td>84432400</td>\n",
       "      <td>AAPL</td>\n",
       "    </tr>\n",
       "    <tr>\n",
       "      <th>1976</th>\n",
       "      <td>2017-11-07</td>\n",
       "      <td>43.477501</td>\n",
       "      <td>43.812500</td>\n",
       "      <td>43.400002</td>\n",
       "      <td>43.702499</td>\n",
       "      <td>41.708946</td>\n",
       "      <td>97446000</td>\n",
       "      <td>AAPL</td>\n",
       "    </tr>\n",
       "  </tbody>\n",
       "</table>\n",
       "</div>"
      ],
      "text/plain": [
       "           Date        Open        High         Low       Close   Adj Close  \\\n",
       "2908 2021-07-23  147.550003  148.720001  146.919998  148.559998  148.337753   \n",
       "2261 2018-12-27   38.959999   39.192501   37.517502   39.037498   37.952026   \n",
       "2618 2020-05-29   79.812500   80.287498   79.117500   79.485001   78.834900   \n",
       "1803 2017-03-03   34.695000   34.957500   34.647499   34.945000   33.083912   \n",
       "1976 2017-11-07   43.477501   43.812500   43.400002   43.702499   41.708946   \n",
       "\n",
       "         Volume  Name  \n",
       "2908   71447400  AAPL  \n",
       "2261  212468400  AAPL  \n",
       "2618  153532400  AAPL  \n",
       "1803   84432400  AAPL  \n",
       "1976   97446000  AAPL  "
      ]
     },
     "execution_count": 33,
     "metadata": {},
     "output_type": "execute_result"
    }
   ],
   "source": [
    "# Sanity Check\n",
    "\n",
    "aapl_stocks.sample(5)"
   ]
  },
  {
   "cell_type": "code",
   "execution_count": null,
   "metadata": {},
   "outputs": [
    {
     "data": {
      "text/plain": [
       "(2943, 8)"
      ]
     },
     "execution_count": 34,
     "metadata": {},
     "output_type": "execute_result"
    }
   ],
   "source": [
    "# Checking the shape of our new dataframe \n",
    "\n",
    "aapl_stocks.shape"
   ]
  },
  {
   "cell_type": "code",
   "execution_count": null,
   "metadata": {},
   "outputs": [
    {
     "name": "stdout",
     "output_type": "stream",
     "text": [
      "Our new aapl dataframe now has 2943 rows and 8 columns.\n"
     ]
    }
   ],
   "source": [
    "# Printing rows and columns \n",
    "\n",
    "print(f\"Our new aapl dataframe now has {aapl_stocks.shape[0]} rows and {aapl_stocks.shape[1]} columns.\")"
   ]
  },
  {
   "cell_type": "code",
   "execution_count": null,
   "metadata": {},
   "outputs": [
    {
     "name": "stdout",
     "output_type": "stream",
     "text": [
      "<class 'pandas.core.frame.DataFrame'>\n",
      "Int64Index: 2943 entries, 0 to 2942\n",
      "Data columns (total 8 columns):\n",
      " #   Column     Non-Null Count  Dtype         \n",
      "---  ------     --------------  -----         \n",
      " 0   Date       2943 non-null   datetime64[ns]\n",
      " 1   Open       2943 non-null   float64       \n",
      " 2   High       2943 non-null   float64       \n",
      " 3   Low        2943 non-null   float64       \n",
      " 4   Close      2943 non-null   float64       \n",
      " 5   Adj Close  2943 non-null   float64       \n",
      " 6   Volume     2943 non-null   int64         \n",
      " 7   Name       2943 non-null   object        \n",
      "dtypes: datetime64[ns](1), float64(5), int64(1), object(1)\n",
      "memory usage: 206.9+ KB\n"
     ]
    }
   ],
   "source": [
    "# More information on our dataframe \n",
    "\n",
    "aapl_stocks.info()"
   ]
  },
  {
   "attachments": {},
   "cell_type": "markdown",
   "metadata": {},
   "source": [
    "- The table above shows us extended information on our new dataframe. We can go ahead and drop the `Name` column as all the data values belong to one particular stock which `AAPL`. "
   ]
  },
  {
   "cell_type": "code",
   "execution_count": null,
   "metadata": {},
   "outputs": [
    {
     "data": {
      "text/plain": [
       "array(['AAPL'], dtype=object)"
      ]
     },
     "execution_count": 38,
     "metadata": {},
     "output_type": "execute_result"
    }
   ],
   "source": [
    "# Sanity Check to see unique names \n",
    "\n",
    "aapl_stocks['Name'].unique()"
   ]
  },
  {
   "cell_type": "code",
   "execution_count": null,
   "metadata": {},
   "outputs": [],
   "source": [
    "# We checked for the unique names above and now we can go ahead and drop this column \n",
    "\n",
    "aapl_stocks = aapl_stocks.drop(['Name'], axis=1)"
   ]
  },
  {
   "cell_type": "code",
   "execution_count": null,
   "metadata": {},
   "outputs": [
    {
     "data": {
      "text/html": [
       "<div>\n",
       "<style scoped>\n",
       "    .dataframe tbody tr th:only-of-type {\n",
       "        vertical-align: middle;\n",
       "    }\n",
       "\n",
       "    .dataframe tbody tr th {\n",
       "        vertical-align: top;\n",
       "    }\n",
       "\n",
       "    .dataframe thead th {\n",
       "        text-align: right;\n",
       "    }\n",
       "</style>\n",
       "<table border=\"1\" class=\"dataframe\">\n",
       "  <thead>\n",
       "    <tr style=\"text-align: right;\">\n",
       "      <th></th>\n",
       "      <th>Date</th>\n",
       "      <th>Open</th>\n",
       "      <th>High</th>\n",
       "      <th>Low</th>\n",
       "      <th>Close</th>\n",
       "      <th>Adj Close</th>\n",
       "      <th>Volume</th>\n",
       "    </tr>\n",
       "  </thead>\n",
       "  <tbody>\n",
       "    <tr>\n",
       "      <th>1654</th>\n",
       "      <td>2016-07-29</td>\n",
       "      <td>26.047501</td>\n",
       "      <td>26.137501</td>\n",
       "      <td>25.920000</td>\n",
       "      <td>26.052500</td>\n",
       "      <td>24.301443</td>\n",
       "      <td>110934800</td>\n",
       "    </tr>\n",
       "    <tr>\n",
       "      <th>684</th>\n",
       "      <td>2012-09-19</td>\n",
       "      <td>25.009287</td>\n",
       "      <td>25.142500</td>\n",
       "      <td>24.984644</td>\n",
       "      <td>25.075001</td>\n",
       "      <td>21.622250</td>\n",
       "      <td>326874800</td>\n",
       "    </tr>\n",
       "    <tr>\n",
       "      <th>829</th>\n",
       "      <td>2013-04-22</td>\n",
       "      <td>14.022857</td>\n",
       "      <td>14.364286</td>\n",
       "      <td>13.973929</td>\n",
       "      <td>14.238214</td>\n",
       "      <td>12.405610</td>\n",
       "      <td>429920400</td>\n",
       "    </tr>\n",
       "    <tr>\n",
       "      <th>2377</th>\n",
       "      <td>2019-06-14</td>\n",
       "      <td>47.887501</td>\n",
       "      <td>48.397499</td>\n",
       "      <td>47.575001</td>\n",
       "      <td>48.185001</td>\n",
       "      <td>47.227264</td>\n",
       "      <td>75046000</td>\n",
       "    </tr>\n",
       "    <tr>\n",
       "      <th>49</th>\n",
       "      <td>2010-03-16</td>\n",
       "      <td>8.006429</td>\n",
       "      <td>8.035000</td>\n",
       "      <td>7.946786</td>\n",
       "      <td>8.016071</td>\n",
       "      <td>6.882730</td>\n",
       "      <td>446908000</td>\n",
       "    </tr>\n",
       "  </tbody>\n",
       "</table>\n",
       "</div>"
      ],
      "text/plain": [
       "           Date       Open       High        Low      Close  Adj Close  \\\n",
       "1654 2016-07-29  26.047501  26.137501  25.920000  26.052500  24.301443   \n",
       "684  2012-09-19  25.009287  25.142500  24.984644  25.075001  21.622250   \n",
       "829  2013-04-22  14.022857  14.364286  13.973929  14.238214  12.405610   \n",
       "2377 2019-06-14  47.887501  48.397499  47.575001  48.185001  47.227264   \n",
       "49   2010-03-16   8.006429   8.035000   7.946786   8.016071   6.882730   \n",
       "\n",
       "         Volume  \n",
       "1654  110934800  \n",
       "684   326874800  \n",
       "829   429920400  \n",
       "2377   75046000  \n",
       "49    446908000  "
      ]
     },
     "execution_count": 41,
     "metadata": {},
     "output_type": "execute_result"
    }
   ],
   "source": [
    "# Sanity Check \n",
    "\n",
    "aapl_stocks.sample(5)"
   ]
  },
  {
   "attachments": {},
   "cell_type": "markdown",
   "metadata": {},
   "source": [
    "Now that we dropped our `Name` column, let's go ahead and look at the distributions of all our columns before doing further analysis. "
   ]
  },
  {
   "cell_type": "code",
   "execution_count": null,
   "metadata": {},
   "outputs": [],
   "source": [
    "# Selecting datatypes that are int and float values \n",
    "\n",
    "aapl_numeric_df = aapl_stocks.select_dtypes(['int', 'float']).copy()"
   ]
  },
  {
   "cell_type": "code",
   "execution_count": null,
   "metadata": {},
   "outputs": [
    {
     "data": {
      "text/html": [
       "<div>\n",
       "<style scoped>\n",
       "    .dataframe tbody tr th:only-of-type {\n",
       "        vertical-align: middle;\n",
       "    }\n",
       "\n",
       "    .dataframe tbody tr th {\n",
       "        vertical-align: top;\n",
       "    }\n",
       "\n",
       "    .dataframe thead th {\n",
       "        text-align: right;\n",
       "    }\n",
       "</style>\n",
       "<table border=\"1\" class=\"dataframe\">\n",
       "  <thead>\n",
       "    <tr style=\"text-align: right;\">\n",
       "      <th></th>\n",
       "      <th>Open</th>\n",
       "      <th>High</th>\n",
       "      <th>Low</th>\n",
       "      <th>Close</th>\n",
       "      <th>Adj Close</th>\n",
       "      <th>Volume</th>\n",
       "    </tr>\n",
       "  </thead>\n",
       "  <tbody>\n",
       "    <tr>\n",
       "      <th>2374</th>\n",
       "      <td>48.715000</td>\n",
       "      <td>49.000000</td>\n",
       "      <td>48.400002</td>\n",
       "      <td>48.702499</td>\n",
       "      <td>47.734474</td>\n",
       "      <td>107731600</td>\n",
       "    </tr>\n",
       "    <tr>\n",
       "      <th>1696</th>\n",
       "      <td>28.422501</td>\n",
       "      <td>28.660000</td>\n",
       "      <td>28.357500</td>\n",
       "      <td>28.487499</td>\n",
       "      <td>26.716732</td>\n",
       "      <td>118564400</td>\n",
       "    </tr>\n",
       "    <tr>\n",
       "      <th>2931</th>\n",
       "      <td>149.809998</td>\n",
       "      <td>150.320007</td>\n",
       "      <td>147.800003</td>\n",
       "      <td>148.360001</td>\n",
       "      <td>148.360001</td>\n",
       "      <td>58991300</td>\n",
       "    </tr>\n",
       "    <tr>\n",
       "      <th>597</th>\n",
       "      <td>19.787500</td>\n",
       "      <td>19.888929</td>\n",
       "      <td>19.322857</td>\n",
       "      <td>19.502857</td>\n",
       "      <td>16.745470</td>\n",
       "      <td>560896000</td>\n",
       "    </tr>\n",
       "    <tr>\n",
       "      <th>1690</th>\n",
       "      <td>28.262501</td>\n",
       "      <td>28.530001</td>\n",
       "      <td>28.127501</td>\n",
       "      <td>28.392500</td>\n",
       "      <td>26.627634</td>\n",
       "      <td>138057200</td>\n",
       "    </tr>\n",
       "  </tbody>\n",
       "</table>\n",
       "</div>"
      ],
      "text/plain": [
       "            Open        High         Low       Close   Adj Close     Volume\n",
       "2374   48.715000   49.000000   48.400002   48.702499   47.734474  107731600\n",
       "1696   28.422501   28.660000   28.357500   28.487499   26.716732  118564400\n",
       "2931  149.809998  150.320007  147.800003  148.360001  148.360001   58991300\n",
       "597    19.787500   19.888929   19.322857   19.502857   16.745470  560896000\n",
       "1690   28.262501   28.530001   28.127501   28.392500   26.627634  138057200"
      ]
     },
     "execution_count": 43,
     "metadata": {},
     "output_type": "execute_result"
    }
   ],
   "source": [
    "# Sanity Check \n",
    "\n",
    "aapl_numeric_df.sample(5)"
   ]
  },
  {
   "cell_type": "code",
   "execution_count": null,
   "metadata": {},
   "outputs": [
    {
     "data": {
      "image/png": "[encoded data removed]",
      "text/plain": [
       "<Figure size 800x900 with 6 Axes>"
      ]
     },
     "metadata": {},
     "output_type": "display_data"
    }
   ],
   "source": [
    "# Let's look at the distributions of all our numeric columns \n",
    "\n",
    "num_cols = len(aapl_numeric_df.columns)\n",
    "num_rows = (num_cols + 1) // 2  # Calculate the number of rows based on the number of columns\n",
    "\n",
    "# Intializing the plots\n",
    "fig, axes = plt.subplots(nrows=num_rows, ncols=2, figsize=(8, 3*num_rows))\n",
    "\n",
    "# Running for loop across all the numeric columns\n",
    "for i, column in enumerate(aapl_numeric_df.columns):\n",
    "    row = i // 2  # Calculate the row index for the subplot\n",
    "    col = i % 2   # Calculate the column index for the subplot\n",
    "    ax = axes[row, col]  # Get the current subplot axes\n",
    "    ax.hist(aapl_numeric_df[column], bins=20)\n",
    "    ax.axvline(aapl_numeric_df[column].mean(), c=\"lightcoral\", label=\"mean\")\n",
    "    ax.axvline(aapl_numeric_df[column].median(), c=\"lightcoral\", label=\"median\", linestyle=\"--\")\n",
    "    ax.set_xlabel('Value')\n",
    "    ax.set_ylabel('Frequency')\n",
    "    ax.legend()\n",
    "    ax.set_title(column)\n",
    "\n",
    "# Remove any empty subplots\n",
    "if num_cols % 2 != 0:\n",
    "    axes[-1, -1].remove()\n",
    "\n",
    "plt.tight_layout()\n",
    "plt.show()"
   ]
  },
  {
   "attachments": {},
   "cell_type": "markdown",
   "metadata": {},
   "source": [
    "**Observations:**\n",
    "- afj"
   ]
  },
  {
   "attachments": {},
   "cell_type": "markdown",
   "metadata": {},
   "source": [
    "### Applying Trading Strategy:"
   ]
  },
  {
   "attachments": {},
   "cell_type": "markdown",
   "metadata": {},
   "source": [
    "In the section above where we discussed the `Evaluting Trading Strategies` we looked at how using the closing price would help us determine whether the value of a stock was going up or down. \n",
    "\n",
    "- A better strategy to use would be to look at the `Adj Close` column. This is because, this column accounts for external factors that might affect the particular stock price and therefore gives a more realistic and reliable price. "
   ]
  },
  {
   "attachments": {},
   "cell_type": "markdown",
   "metadata": {},
   "source": [
    "Let's plot the visuals of both columns `Close` and `Adj Close` against the `Date` and look at how the data is represented. "
   ]
  },
  {
   "cell_type": "code",
   "execution_count": 87,
   "metadata": {},
   "outputs": [
    {
     "data": {
      "image/png": "[encoded data removed]",
      "text/plain": [
       "<Figure size 1600x600 with 2 Axes>"
      ]
     },
     "metadata": {},
     "output_type": "display_data"
    }
   ],
   "source": [
    "# Plotting both visuals side by side\n",
    "\n",
    "# Create a figure and two subplots\n",
    "fig, axs = plt.subplots(1, 2, figsize=(16, 6))\n",
    "\n",
    "# Graph 1\n",
    "axs[0].plot(aapl_stocks['Date'], aapl_stocks['Close'])\n",
    "axs[0].set_xlabel('Date')\n",
    "axs[0].set_ylabel('Closing Price')\n",
    "axs[0].set_title('Closing Price of Apple stocks over time'.title())\n",
    "\n",
    "# Graph 2\n",
    "axs[1].plot(aapl_stocks['Date'], aapl_stocks['Adj Close'])\n",
    "axs[1].set_xlabel('Date')\n",
    "axs[1].set_ylabel('Adj Closing Price')\n",
    "axs[1].set_title('Adj Closing Price of Apple stocks over time'.title())\n",
    "\n",
    "plt.tight_layout()\n",
    "plt.show()"
   ]
  },
  {
   "attachments": {},
   "cell_type": "markdown",
   "metadata": {},
   "source": [
    "**Observations:**\n",
    "- afhif"
   ]
  },
  {
   "cell_type": "code",
   "execution_count": null,
   "metadata": {},
   "outputs": [],
   "source": []
  },
  {
   "cell_type": "code",
   "execution_count": null,
   "metadata": {},
   "outputs": [],
   "source": []
  },
  {
   "cell_type": "code",
   "execution_count": null,
   "metadata": {},
   "outputs": [],
   "source": []
  },
  {
   "cell_type": "code",
   "execution_count": null,
   "metadata": {},
   "outputs": [],
   "source": []
  },
  {
   "cell_type": "code",
   "execution_count": null,
   "metadata": {},
   "outputs": [],
   "source": []
  },
  {
   "cell_type": "code",
   "execution_count": null,
   "metadata": {},
   "outputs": [],
   "source": []
  },
  {
   "cell_type": "code",
   "execution_count": null,
   "metadata": {},
   "outputs": [],
   "source": []
  },
  {
   "cell_type": "code",
   "execution_count": null,
   "metadata": {},
   "outputs": [],
   "source": []
  },
  {
   "cell_type": "code",
   "execution_count": null,
   "metadata": {},
   "outputs": [],
   "source": []
  },
  {
   "cell_type": "code",
   "execution_count": null,
   "metadata": {},
   "outputs": [],
   "source": []
  },
  {
   "cell_type": "code",
   "execution_count": null,
   "metadata": {},
   "outputs": [],
   "source": []
  },
  {
   "cell_type": "code",
   "execution_count": null,
   "metadata": {},
   "outputs": [],
   "source": []
  },
  {
   "cell_type": "code",
   "execution_count": null,
   "metadata": {},
   "outputs": [],
   "source": []
  },
  {
   "attachments": {},
   "cell_type": "markdown",
   "metadata": {},
   "source": [
    "---"
   ]
  },
  {
   "attachments": {},
   "cell_type": "markdown",
   "metadata": {},
   "source": [
    "## Conclusion:"
   ]
  },
  {
   "cell_type": "code",
   "execution_count": null,
   "metadata": {},
   "outputs": [],
   "source": []
  },
  {
   "cell_type": "code",
   "execution_count": null,
   "metadata": {},
   "outputs": [],
   "source": []
  },
  {
   "cell_type": "code",
   "execution_count": null,
   "metadata": {},
   "outputs": [],
   "source": []
  },
  {
   "cell_type": "code",
   "execution_count": null,
   "metadata": {},
   "outputs": [],
   "source": []
  },
  {
   "cell_type": "code",
   "execution_count": null,
   "metadata": {},
   "outputs": [],
   "source": []
  }
 ],
 "metadata": {
  "kernelspec": {
   "display_name": "base",
   "language": "python",
   "name": "python3"
  },
  "language_info": {
   "codemirror_mode": {
    "name": "ipython",
    "version": 3
   },
   "file_extension": ".py",
   "mimetype": "text/x-python",
   "name": "python",
   "nbconvert_exporter": "python",
   "pygments_lexer": "ipython3",
   "version": "3.10.11"
  },
  "orig_nbformat": 4
 },
 "nbformat": 4,
 "nbformat_minor": 2
}
