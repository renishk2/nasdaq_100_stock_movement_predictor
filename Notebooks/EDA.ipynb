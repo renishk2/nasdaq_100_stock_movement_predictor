{
 "cells": [
  {
   "attachments": {},
   "cell_type": "markdown",
   "metadata": {},
   "source": [
    "# NASDAQ 100 Stocks Predictor - Exploratory Data Analysis (EDA)"
   ]
  },
  {
   "attachments": {},
   "cell_type": "markdown",
   "metadata": {},
   "source": [
    "**Author:** Renish Kanjiyani <br>\n",
    "**Notebook:** 2 - EDA <br>\n",
    "**Date:** 05/11/2023 <br>\n",
    "**E-mail:** kanjiyanirenish2@gmail.com"
   ]
  },
  {
   "attachments": {},
   "cell_type": "markdown",
   "metadata": {},
   "source": [
    "---"
   ]
  },
  {
   "attachments": {},
   "cell_type": "markdown",
   "metadata": {},
   "source": [
    "# Table of Contents:"
   ]
  },
  {
   "attachments": {},
   "cell_type": "markdown",
   "metadata": {},
   "source": [
    "---"
   ]
  },
  {
   "attachments": {},
   "cell_type": "markdown",
   "metadata": {},
   "source": [
    "## Introduction:"
   ]
  },
  {
   "cell_type": "code",
   "execution_count": null,
   "metadata": {},
   "outputs": [],
   "source": []
  },
  {
   "attachments": {},
   "cell_type": "markdown",
   "metadata": {},
   "source": [
    "---"
   ]
  },
  {
   "attachments": {},
   "cell_type": "markdown",
   "metadata": {},
   "source": [
    "## EDA:"
   ]
  },
  {
   "cell_type": "code",
   "execution_count": 54,
   "metadata": {},
   "outputs": [],
   "source": [
    "# Loading all the packages required\n",
    "\n",
    "import numpy as np \n",
    "import pandas as pd \n",
    "import seaborn as sns \n",
    "import matplotlib.pyplot as plt\n",
    "\n",
    "import warnings\n",
    "warnings.filterwarnings('ignore')\n",
    "warnings.filterwarnings(action='once')\n"
   ]
  },
  {
   "cell_type": "code",
   "execution_count": 55,
   "metadata": {},
   "outputs": [],
   "source": [
    "# Loading the dataset \n",
    "\n",
    "stocks_df = pd.read_csv('../nasdaq_stocks_100.csv', sep='\\t')"
   ]
  },
  {
   "cell_type": "code",
   "execution_count": 56,
   "metadata": {},
   "outputs": [
    {
     "data": {
      "text/html": [
       "<div>\n",
       "<style scoped>\n",
       "    .dataframe tbody tr th:only-of-type {\n",
       "        vertical-align: middle;\n",
       "    }\n",
       "\n",
       "    .dataframe tbody tr th {\n",
       "        vertical-align: top;\n",
       "    }\n",
       "\n",
       "    .dataframe thead th {\n",
       "        text-align: right;\n",
       "    }\n",
       "</style>\n",
       "<table border=\"1\" class=\"dataframe\">\n",
       "  <thead>\n",
       "    <tr style=\"text-align: right;\">\n",
       "      <th></th>\n",
       "      <th>Date</th>\n",
       "      <th>Open</th>\n",
       "      <th>High</th>\n",
       "      <th>Low</th>\n",
       "      <th>Close</th>\n",
       "      <th>Adj Close</th>\n",
       "      <th>Volume</th>\n",
       "      <th>Name</th>\n",
       "    </tr>\n",
       "  </thead>\n",
       "  <tbody>\n",
       "    <tr>\n",
       "      <th>0</th>\n",
       "      <td>2010-01-04</td>\n",
       "      <td>7.622500</td>\n",
       "      <td>7.660714</td>\n",
       "      <td>7.585000</td>\n",
       "      <td>7.643214</td>\n",
       "      <td>6.562591</td>\n",
       "      <td>493729600</td>\n",
       "      <td>AAPL</td>\n",
       "    </tr>\n",
       "    <tr>\n",
       "      <th>1</th>\n",
       "      <td>2010-01-05</td>\n",
       "      <td>7.664286</td>\n",
       "      <td>7.699643</td>\n",
       "      <td>7.616071</td>\n",
       "      <td>7.656429</td>\n",
       "      <td>6.573935</td>\n",
       "      <td>601904800</td>\n",
       "      <td>AAPL</td>\n",
       "    </tr>\n",
       "    <tr>\n",
       "      <th>2</th>\n",
       "      <td>2010-01-06</td>\n",
       "      <td>7.656429</td>\n",
       "      <td>7.686786</td>\n",
       "      <td>7.526786</td>\n",
       "      <td>7.534643</td>\n",
       "      <td>6.469369</td>\n",
       "      <td>552160000</td>\n",
       "      <td>AAPL</td>\n",
       "    </tr>\n",
       "    <tr>\n",
       "      <th>3</th>\n",
       "      <td>2010-01-07</td>\n",
       "      <td>7.562500</td>\n",
       "      <td>7.571429</td>\n",
       "      <td>7.466071</td>\n",
       "      <td>7.520714</td>\n",
       "      <td>6.457407</td>\n",
       "      <td>477131200</td>\n",
       "      <td>AAPL</td>\n",
       "    </tr>\n",
       "    <tr>\n",
       "      <th>4</th>\n",
       "      <td>2010-01-08</td>\n",
       "      <td>7.510714</td>\n",
       "      <td>7.571429</td>\n",
       "      <td>7.466429</td>\n",
       "      <td>7.570714</td>\n",
       "      <td>6.500339</td>\n",
       "      <td>447610800</td>\n",
       "      <td>AAPL</td>\n",
       "    </tr>\n",
       "    <tr>\n",
       "      <th>5</th>\n",
       "      <td>2010-01-11</td>\n",
       "      <td>7.600000</td>\n",
       "      <td>7.607143</td>\n",
       "      <td>7.444643</td>\n",
       "      <td>7.503929</td>\n",
       "      <td>6.442997</td>\n",
       "      <td>462229600</td>\n",
       "      <td>AAPL</td>\n",
       "    </tr>\n",
       "    <tr>\n",
       "      <th>6</th>\n",
       "      <td>2010-01-12</td>\n",
       "      <td>7.471071</td>\n",
       "      <td>7.491786</td>\n",
       "      <td>7.372143</td>\n",
       "      <td>7.418571</td>\n",
       "      <td>6.369709</td>\n",
       "      <td>594459600</td>\n",
       "      <td>AAPL</td>\n",
       "    </tr>\n",
       "    <tr>\n",
       "      <th>7</th>\n",
       "      <td>2010-01-13</td>\n",
       "      <td>7.423929</td>\n",
       "      <td>7.533214</td>\n",
       "      <td>7.289286</td>\n",
       "      <td>7.523214</td>\n",
       "      <td>6.459555</td>\n",
       "      <td>605892000</td>\n",
       "      <td>AAPL</td>\n",
       "    </tr>\n",
       "    <tr>\n",
       "      <th>8</th>\n",
       "      <td>2010-01-14</td>\n",
       "      <td>7.503929</td>\n",
       "      <td>7.516429</td>\n",
       "      <td>7.465000</td>\n",
       "      <td>7.479643</td>\n",
       "      <td>6.422143</td>\n",
       "      <td>432894000</td>\n",
       "      <td>AAPL</td>\n",
       "    </tr>\n",
       "    <tr>\n",
       "      <th>9</th>\n",
       "      <td>2010-01-15</td>\n",
       "      <td>7.533214</td>\n",
       "      <td>7.557143</td>\n",
       "      <td>7.352500</td>\n",
       "      <td>7.354643</td>\n",
       "      <td>6.314816</td>\n",
       "      <td>594067600</td>\n",
       "      <td>AAPL</td>\n",
       "    </tr>\n",
       "  </tbody>\n",
       "</table>\n",
       "</div>"
      ],
      "text/plain": [
       "         Date      Open      High       Low     Close  Adj Close     Volume  \\\n",
       "0  2010-01-04  7.622500  7.660714  7.585000  7.643214   6.562591  493729600   \n",
       "1  2010-01-05  7.664286  7.699643  7.616071  7.656429   6.573935  601904800   \n",
       "2  2010-01-06  7.656429  7.686786  7.526786  7.534643   6.469369  552160000   \n",
       "3  2010-01-07  7.562500  7.571429  7.466071  7.520714   6.457407  477131200   \n",
       "4  2010-01-08  7.510714  7.571429  7.466429  7.570714   6.500339  447610800   \n",
       "5  2010-01-11  7.600000  7.607143  7.444643  7.503929   6.442997  462229600   \n",
       "6  2010-01-12  7.471071  7.491786  7.372143  7.418571   6.369709  594459600   \n",
       "7  2010-01-13  7.423929  7.533214  7.289286  7.523214   6.459555  605892000   \n",
       "8  2010-01-14  7.503929  7.516429  7.465000  7.479643   6.422143  432894000   \n",
       "9  2010-01-15  7.533214  7.557143  7.352500  7.354643   6.314816  594067600   \n",
       "\n",
       "   Name  \n",
       "0  AAPL  \n",
       "1  AAPL  \n",
       "2  AAPL  \n",
       "3  AAPL  \n",
       "4  AAPL  \n",
       "5  AAPL  \n",
       "6  AAPL  \n",
       "7  AAPL  \n",
       "8  AAPL  \n",
       "9  AAPL  "
      ]
     },
     "execution_count": 56,
     "metadata": {},
     "output_type": "execute_result"
    }
   ],
   "source": [
    "# Let's view our dataset \n",
    "\n",
    "stocks_df.head(10)"
   ]
  },
  {
   "cell_type": "code",
   "execution_count": 57,
   "metadata": {},
   "outputs": [
    {
     "data": {
      "text/plain": [
       "(271680, 8)"
      ]
     },
     "execution_count": 57,
     "metadata": {},
     "output_type": "execute_result"
    }
   ],
   "source": [
    "# Let's check the shape of our dataframe \n",
    "\n",
    "stocks_df.shape"
   ]
  },
  {
   "cell_type": "code",
   "execution_count": 58,
   "metadata": {},
   "outputs": [
    {
     "name": "stdout",
     "output_type": "stream",
     "text": [
      "Our dataframe has 271680 rows and 8 columns\n"
     ]
    }
   ],
   "source": [
    "print(f\"Our dataframe has {stocks_df.shape[0]} rows and {stocks_df.shape[1]} columns\")"
   ]
  },
  {
   "cell_type": "code",
   "execution_count": 59,
   "metadata": {},
   "outputs": [
    {
     "name": "stdout",
     "output_type": "stream",
     "text": [
      "<class 'pandas.core.frame.DataFrame'>\n",
      "RangeIndex: 271680 entries, 0 to 271679\n",
      "Data columns (total 8 columns):\n",
      " #   Column     Non-Null Count   Dtype  \n",
      "---  ------     --------------   -----  \n",
      " 0   Date       271680 non-null  object \n",
      " 1   Open       271680 non-null  float64\n",
      " 2   High       271680 non-null  float64\n",
      " 3   Low        271680 non-null  float64\n",
      " 4   Close      271680 non-null  float64\n",
      " 5   Adj Close  271680 non-null  float64\n",
      " 6   Volume     271680 non-null  int64  \n",
      " 7   Name       271680 non-null  object \n",
      "dtypes: float64(5), int64(1), object(2)\n",
      "memory usage: 16.6+ MB\n"
     ]
    }
   ],
   "source": [
    "# Let's view more information on our dataframe \n",
    "\n",
    "stocks_df.info()"
   ]
  },
  {
   "attachments": {},
   "cell_type": "markdown",
   "metadata": {},
   "source": [
    "**Observations:** \n",
    "- We imported our clean dataset and we can perform our EDA on it. "
   ]
  },
  {
   "attachments": {},
   "cell_type": "markdown",
   "metadata": {},
   "source": [
    "### Converting the `Date` column to a `datetime` format"
   ]
  },
  {
   "cell_type": "code",
   "execution_count": 60,
   "metadata": {},
   "outputs": [],
   "source": [
    "# Let's convert the column now \n",
    "\n",
    "stocks_df['Date'] = pd.to_datetime(stocks_df['Date'])"
   ]
  },
  {
   "cell_type": "code",
   "execution_count": 61,
   "metadata": {},
   "outputs": [
    {
     "data": {
      "text/plain": [
       "Date         datetime64[ns]\n",
       "Open                float64\n",
       "High                float64\n",
       "Low                 float64\n",
       "Close               float64\n",
       "Adj Close           float64\n",
       "Volume                int64\n",
       "Name                 object\n",
       "dtype: object"
      ]
     },
     "execution_count": 61,
     "metadata": {},
     "output_type": "execute_result"
    }
   ],
   "source": [
    "# Sanity Check \n",
    "stocks_df.dtypes"
   ]
  },
  {
   "attachments": {},
   "cell_type": "markdown",
   "metadata": {},
   "source": [
    "- We successfully converted the `date` column to `datetime` column. "
   ]
  },
  {
   "attachments": {},
   "cell_type": "markdown",
   "metadata": {},
   "source": [
    "### Exploring the `Name` column:"
   ]
  },
  {
   "cell_type": "code",
   "execution_count": 62,
   "metadata": {},
   "outputs": [
    {
     "data": {
      "text/plain": [
       "array(['AAPL', 'ADBE', 'ADI', 'ADP', 'ADSK', 'AEP', 'ALGN', 'AMAT', 'AMD',\n",
       "       'AMGN', 'AMZN', 'ANSS', 'ASML', 'ATVI', 'AVGO', 'BIDU', 'BIIB',\n",
       "       'BKNG', 'CDNS', 'CDW', 'CERN', 'CHKP', 'CHTR', 'CMCSA', 'COST',\n",
       "       'CPRT', 'CRWD', 'CSCO', 'CSX', 'CTAS', 'CTSH', 'DLTR', 'DOCU',\n",
       "       'DXCM', 'EA', 'EBAY', 'EXC', 'FAST', 'FB', 'FISV', 'FOX', 'FOXA',\n",
       "       'GILD', 'GOOG', 'GOOGL', 'HON', 'IDXX', 'ILMN', 'INCY', 'INTC',\n",
       "       'INTU', 'ISRG', 'JD', 'KDP', 'KHC', 'KLAC', 'LRCX', 'LULU', 'MAR',\n",
       "       'MCHP', 'MDLZ', 'MELI', 'MNST', 'MRNA', 'MRVL', 'MSFT', 'MTCH',\n",
       "       'MU', 'NFLX', 'NTES', 'NVDA', 'NXPI', 'OKTA', 'ORLY', 'PAYX',\n",
       "       'PCAR', 'PDD', 'PEP', 'PTON', 'PYPL', 'QCOM', 'REGN', 'ROST',\n",
       "       'SBUX', 'SGEN', 'SIRI', 'SNPS', 'SPLK', 'SWKS', 'TCOM', 'TEAM',\n",
       "       'TMUS', 'TSLA', 'TXN', 'VRSK', 'VRSN', 'VRTX', 'WBA', 'WDAY',\n",
       "       'XEL', 'XLNX', 'ZM'], dtype=object)"
      ]
     },
     "execution_count": 62,
     "metadata": {},
     "output_type": "execute_result"
    }
   ],
   "source": [
    "# Let's take a look at how many unique values we have in our name column\n",
    "\n",
    "stocks_df['Name'].unique()"
   ]
  },
  {
   "cell_type": "code",
   "execution_count": 66,
   "metadata": {},
   "outputs": [
    {
     "data": {
      "text/plain": [
       "<bound method IndexOpsMixin.nunique of AAPL    2943\n",
       "NVDA    2943\n",
       "NFLX    2943\n",
       "MU      2943\n",
       "MTCH    2943\n",
       "        ... \n",
       "FOXA     632\n",
       "FOX      631\n",
       "ZM       605\n",
       "CRWD     568\n",
       "PTON     494\n",
       "Name: Name, Length: 102, dtype: int64>"
      ]
     },
     "execution_count": 66,
     "metadata": {},
     "output_type": "execute_result"
    }
   ],
   "source": [
    "stocks_df['Name'].value_counts().nunique\n"
   ]
  },
  {
   "attachments": {},
   "cell_type": "markdown",
   "metadata": {},
   "source": [
    "**Observations:** \n",
    "- We can see that certain stocks such as `AAPL (APPLE)` have `2943` unique values counts whereas the others such as `FOX` only have `631`. \n",
    "\n",
    "- Therefore, what we can do is look at the top 10 constituents of the NASDAQ 100 Index. "
   ]
  },
  {
   "attachments": {},
   "cell_type": "markdown",
   "metadata": {},
   "source": [
    "<b>The top 10 constitunets of the NASDAQ 100 Index are: </b> <br>\n",
    "\n",
    "`AAPL` (Apple), `MSFT` (Microsoft), `GOOG` (Google Class C), `GOOGL` (Google Class A), `AMZN` (Amazon), `TSLA` (Tesla), `FB` (Facebook/Meta), `NVDA` (Nvidia), `PEP` (Pepsi), `COST` (Costco).\n"
   ]
  },
  {
   "attachments": {},
   "cell_type": "markdown",
   "metadata": {},
   "source": [
    "<b>Breakdown of the top 10 constituents:</b>\n",
    "\n",
    "Now that we have indentified our top 10 constituents, it is not practically possible to conduct analysis on every individual stock. Therefore, what we can do is group certain stocks and then perform further analysis on it. \n",
    "\n",
    "We can group the following individual stocks: `AAPL`, `MSFT`, `GOOG`, `GOOGL`, `AMZN` and `FB`. As per the stocks we grouped, it can be named as the `tech_giants`.\n",
    "\n",
    "The assumption we are making behind this is that as the stock prices of the `tech_giants` company changes, this will directly correlate to other stocks in the index as the giants are controlling the majority of the market share. Therefore, it is safe to assume that performing analysis on these will give us an idea of how all the different stocks behave in the `NASDAQ-100` index. "
   ]
  },
  {
   "attachments": {},
   "cell_type": "markdown",
   "metadata": {},
   "source": [
    "### Grouping Stocks"
   ]
  },
  {
   "attachments": {},
   "cell_type": "markdown",
   "metadata": {},
   "source": [
    "Let's create a new dataframe that will consist of the following stocks: \n",
    "\n",
    "`AAPL`, `MSFT`, `GOOG`, `GOOGL`, `AMZN` & `FB` <-- We will name the following as `tech_giants`."
   ]
  },
  {
   "cell_type": "code",
   "execution_count": 71,
   "metadata": {},
   "outputs": [],
   "source": [
    "# Creating the dataframe\n",
    "\n",
    "tech_giants = stocks_df[stocks_df['Name'].isin(['AAPL', 'MSFT', 'GOOG', 'GOOGL', 'AMZN', 'FB'])]\n"
   ]
  },
  {
   "cell_type": "code",
   "execution_count": 74,
   "metadata": {},
   "outputs": [
    {
     "data": {
      "text/html": [
       "<div>\n",
       "<style scoped>\n",
       "    .dataframe tbody tr th:only-of-type {\n",
       "        vertical-align: middle;\n",
       "    }\n",
       "\n",
       "    .dataframe tbody tr th {\n",
       "        vertical-align: top;\n",
       "    }\n",
       "\n",
       "    .dataframe thead th {\n",
       "        text-align: right;\n",
       "    }\n",
       "</style>\n",
       "<table border=\"1\" class=\"dataframe\">\n",
       "  <thead>\n",
       "    <tr style=\"text-align: right;\">\n",
       "      <th></th>\n",
       "      <th>Date</th>\n",
       "      <th>Open</th>\n",
       "      <th>High</th>\n",
       "      <th>Low</th>\n",
       "      <th>Close</th>\n",
       "      <th>Adj Close</th>\n",
       "      <th>Volume</th>\n",
       "      <th>Name</th>\n",
       "    </tr>\n",
       "  </thead>\n",
       "  <tbody>\n",
       "    <tr>\n",
       "      <th>31769</th>\n",
       "      <td>2019-04-22</td>\n",
       "      <td>1855.400024</td>\n",
       "      <td>1888.420044</td>\n",
       "      <td>1845.640015</td>\n",
       "      <td>1887.310059</td>\n",
       "      <td>1887.310059</td>\n",
       "      <td>3373800</td>\n",
       "      <td>AMZN</td>\n",
       "    </tr>\n",
       "    <tr>\n",
       "      <th>118324</th>\n",
       "      <td>2019-05-03</td>\n",
       "      <td>1173.650024</td>\n",
       "      <td>1186.800049</td>\n",
       "      <td>1169.000000</td>\n",
       "      <td>1185.400024</td>\n",
       "      <td>1185.400024</td>\n",
       "      <td>1980700</td>\n",
       "      <td>GOOG</td>\n",
       "    </tr>\n",
       "    <tr>\n",
       "      <th>116562</th>\n",
       "      <td>2012-05-01</td>\n",
       "      <td>300.767639</td>\n",
       "      <td>304.658081</td>\n",
       "      <td>298.974365</td>\n",
       "      <td>301.086456</td>\n",
       "      <td>301.086456</td>\n",
       "      <td>4019610</td>\n",
       "      <td>GOOG</td>\n",
       "    </tr>\n",
       "    <tr>\n",
       "      <th>32047</th>\n",
       "      <td>2020-05-28</td>\n",
       "      <td>2384.330078</td>\n",
       "      <td>2436.969971</td>\n",
       "      <td>2378.229980</td>\n",
       "      <td>2401.100098</td>\n",
       "      <td>2401.100098</td>\n",
       "      <td>3190200</td>\n",
       "      <td>AMZN</td>\n",
       "    </tr>\n",
       "    <tr>\n",
       "      <th>30008</th>\n",
       "      <td>2012-04-19</td>\n",
       "      <td>192.929993</td>\n",
       "      <td>194.550003</td>\n",
       "      <td>189.750000</td>\n",
       "      <td>191.100006</td>\n",
       "      <td>191.100006</td>\n",
       "      <td>4002400</td>\n",
       "      <td>AMZN</td>\n",
       "    </tr>\n",
       "    <tr>\n",
       "      <th>178807</th>\n",
       "      <td>2021-03-18</td>\n",
       "      <td>232.559998</td>\n",
       "      <td>234.190002</td>\n",
       "      <td>230.330002</td>\n",
       "      <td>230.720001</td>\n",
       "      <td>229.748642</td>\n",
       "      <td>34833000</td>\n",
       "      <td>MSFT</td>\n",
       "    </tr>\n",
       "    <tr>\n",
       "      <th>29663</th>\n",
       "      <td>2010-12-06</td>\n",
       "      <td>175.520004</td>\n",
       "      <td>178.429993</td>\n",
       "      <td>174.600006</td>\n",
       "      <td>178.050003</td>\n",
       "      <td>178.050003</td>\n",
       "      <td>5654200</td>\n",
       "      <td>AMZN</td>\n",
       "    </tr>\n",
       "    <tr>\n",
       "      <th>121171</th>\n",
       "      <td>2018-12-13</td>\n",
       "      <td>1075.670044</td>\n",
       "      <td>1088.420044</td>\n",
       "      <td>1064.989990</td>\n",
       "      <td>1073.540039</td>\n",
       "      <td>1073.540039</td>\n",
       "      <td>1249300</td>\n",
       "      <td>GOOGL</td>\n",
       "    </tr>\n",
       "    <tr>\n",
       "      <th>106638</th>\n",
       "      <td>2013-01-02</td>\n",
       "      <td>27.440001</td>\n",
       "      <td>28.180000</td>\n",
       "      <td>27.420000</td>\n",
       "      <td>28.000000</td>\n",
       "      <td>28.000000</td>\n",
       "      <td>69846400</td>\n",
       "      <td>FB</td>\n",
       "    </tr>\n",
       "    <tr>\n",
       "      <th>177559</th>\n",
       "      <td>2016-04-04</td>\n",
       "      <td>55.430000</td>\n",
       "      <td>55.660000</td>\n",
       "      <td>55.000000</td>\n",
       "      <td>55.430000</td>\n",
       "      <td>50.613754</td>\n",
       "      <td>18928800</td>\n",
       "      <td>MSFT</td>\n",
       "    </tr>\n",
       "  </tbody>\n",
       "</table>\n",
       "</div>"
      ],
      "text/plain": [
       "             Date         Open         High          Low        Close  \\\n",
       "31769  2019-04-22  1855.400024  1888.420044  1845.640015  1887.310059   \n",
       "118324 2019-05-03  1173.650024  1186.800049  1169.000000  1185.400024   \n",
       "116562 2012-05-01   300.767639   304.658081   298.974365   301.086456   \n",
       "32047  2020-05-28  2384.330078  2436.969971  2378.229980  2401.100098   \n",
       "30008  2012-04-19   192.929993   194.550003   189.750000   191.100006   \n",
       "178807 2021-03-18   232.559998   234.190002   230.330002   230.720001   \n",
       "29663  2010-12-06   175.520004   178.429993   174.600006   178.050003   \n",
       "121171 2018-12-13  1075.670044  1088.420044  1064.989990  1073.540039   \n",
       "106638 2013-01-02    27.440001    28.180000    27.420000    28.000000   \n",
       "177559 2016-04-04    55.430000    55.660000    55.000000    55.430000   \n",
       "\n",
       "          Adj Close    Volume   Name  \n",
       "31769   1887.310059   3373800   AMZN  \n",
       "118324  1185.400024   1980700   GOOG  \n",
       "116562   301.086456   4019610   GOOG  \n",
       "32047   2401.100098   3190200   AMZN  \n",
       "30008    191.100006   4002400   AMZN  \n",
       "178807   229.748642  34833000   MSFT  \n",
       "29663    178.050003   5654200   AMZN  \n",
       "121171  1073.540039   1249300  GOOGL  \n",
       "106638    28.000000  69846400     FB  \n",
       "177559    50.613754  18928800   MSFT  "
      ]
     },
     "execution_count": 74,
     "metadata": {},
     "output_type": "execute_result"
    }
   ],
   "source": [
    "# Sanity Check \n",
    "\n",
    "tech_giants.sample(10)"
   ]
  },
  {
   "cell_type": "code",
   "execution_count": 75,
   "metadata": {},
   "outputs": [
    {
     "data": {
      "text/plain": [
       "(17059, 8)"
      ]
     },
     "execution_count": 75,
     "metadata": {},
     "output_type": "execute_result"
    }
   ],
   "source": [
    "# Checking the shape of the new dataframe \n",
    "\n",
    "tech_giants.shape"
   ]
  },
  {
   "cell_type": "code",
   "execution_count": 77,
   "metadata": {},
   "outputs": [
    {
     "data": {
      "text/plain": [
       "array(['AAPL', 'AMZN', 'FB', 'GOOG', 'GOOGL', 'MSFT'], dtype=object)"
      ]
     },
     "execution_count": 77,
     "metadata": {},
     "output_type": "execute_result"
    }
   ],
   "source": [
    "# Check the unique names in the Name column\n",
    "\n",
    "tech_giants['Name'].unique()"
   ]
  },
  {
   "attachments": {},
   "cell_type": "markdown",
   "metadata": {},
   "source": [
    "**Observations:**\n",
    "\n",
    "- We were able to successfully create a new dataframe that contains the top 10 stocks in the NASDAQ 100 index. \n",
    "\n",
    "- The new dataframe `tech_giants` will now be used for further explorations and modelling. "
   ]
  },
  {
   "cell_type": "code",
   "execution_count": null,
   "metadata": {},
   "outputs": [],
   "source": []
  },
  {
   "cell_type": "code",
   "execution_count": null,
   "metadata": {},
   "outputs": [],
   "source": []
  },
  {
   "cell_type": "code",
   "execution_count": null,
   "metadata": {},
   "outputs": [],
   "source": []
  },
  {
   "cell_type": "code",
   "execution_count": null,
   "metadata": {},
   "outputs": [],
   "source": []
  },
  {
   "cell_type": "code",
   "execution_count": null,
   "metadata": {},
   "outputs": [],
   "source": []
  },
  {
   "cell_type": "code",
   "execution_count": null,
   "metadata": {},
   "outputs": [],
   "source": []
  },
  {
   "cell_type": "code",
   "execution_count": null,
   "metadata": {},
   "outputs": [],
   "source": []
  },
  {
   "attachments": {},
   "cell_type": "markdown",
   "metadata": {},
   "source": [
    "---"
   ]
  },
  {
   "attachments": {},
   "cell_type": "markdown",
   "metadata": {},
   "source": [
    "## Conclusion:"
   ]
  },
  {
   "cell_type": "code",
   "execution_count": null,
   "metadata": {},
   "outputs": [],
   "source": []
  },
  {
   "cell_type": "code",
   "execution_count": null,
   "metadata": {},
   "outputs": [],
   "source": []
  },
  {
   "cell_type": "code",
   "execution_count": null,
   "metadata": {},
   "outputs": [],
   "source": []
  },
  {
   "cell_type": "code",
   "execution_count": null,
   "metadata": {},
   "outputs": [],
   "source": []
  },
  {
   "cell_type": "code",
   "execution_count": null,
   "metadata": {},
   "outputs": [],
   "source": []
  }
 ],
 "metadata": {
  "kernelspec": {
   "display_name": "base",
   "language": "python",
   "name": "python3"
  },
  "language_info": {
   "codemirror_mode": {
    "name": "ipython",
    "version": 3
   },
   "file_extension": ".py",
   "mimetype": "text/x-python",
   "name": "python",
   "nbconvert_exporter": "python",
   "pygments_lexer": "ipython3",
   "version": "3.10.11"
  },
  "orig_nbformat": 4
 },
 "nbformat": 4,
 "nbformat_minor": 2
}
