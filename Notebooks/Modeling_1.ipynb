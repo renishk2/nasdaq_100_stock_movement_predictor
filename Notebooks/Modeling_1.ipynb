{
 "cells": [
  {
   "attachments": {},
   "cell_type": "markdown",
   "metadata": {},
   "source": [
    "# Modeling - Logistic Regression"
   ]
  },
  {
   "cell_type": "code",
   "execution_count": 18,
   "metadata": {},
   "outputs": [],
   "source": [
    "# Importing the necessary packages \n",
    "\n",
    "import numpy as np \n",
    "import pandas as pd \n",
    "import seaborn as sns \n",
    "import matplotlib.pyplot as plt\n",
    "\n",
    "import warnings\n",
    "warnings.filterwarnings('ignore')\n",
    "warnings.filterwarnings(action='once')"
   ]
  },
  {
   "cell_type": "code",
   "execution_count": 19,
   "metadata": {},
   "outputs": [],
   "source": [
    "# Loading the dataset \n",
    "\n",
    "apple_df = pd.read_csv('../clean_apple_stocks.csv')"
   ]
  },
  {
   "cell_type": "code",
   "execution_count": 20,
   "metadata": {},
   "outputs": [
    {
     "data": {
      "text/html": [
       "<div>\n",
       "<style scoped>\n",
       "    .dataframe tbody tr th:only-of-type {\n",
       "        vertical-align: middle;\n",
       "    }\n",
       "\n",
       "    .dataframe tbody tr th {\n",
       "        vertical-align: top;\n",
       "    }\n",
       "\n",
       "    .dataframe thead th {\n",
       "        text-align: right;\n",
       "    }\n",
       "</style>\n",
       "<table border=\"1\" class=\"dataframe\">\n",
       "  <thead>\n",
       "    <tr style=\"text-align: right;\">\n",
       "      <th></th>\n",
       "      <th>Date</th>\n",
       "      <th>Open</th>\n",
       "      <th>High</th>\n",
       "      <th>Low</th>\n",
       "      <th>Close</th>\n",
       "      <th>Adj Close</th>\n",
       "      <th>Volume</th>\n",
       "      <th>Adj Closing Yday</th>\n",
       "      <th>Adj Closing Price Change</th>\n",
       "    </tr>\n",
       "  </thead>\n",
       "  <tbody>\n",
       "    <tr>\n",
       "      <th>0</th>\n",
       "      <td>2010-01-05</td>\n",
       "      <td>7.664286</td>\n",
       "      <td>7.699643</td>\n",
       "      <td>7.616071</td>\n",
       "      <td>7.656429</td>\n",
       "      <td>6.573935</td>\n",
       "      <td>601904800</td>\n",
       "      <td>6.562591</td>\n",
       "      <td>1</td>\n",
       "    </tr>\n",
       "    <tr>\n",
       "      <th>1</th>\n",
       "      <td>2010-01-06</td>\n",
       "      <td>7.656429</td>\n",
       "      <td>7.686786</td>\n",
       "      <td>7.526786</td>\n",
       "      <td>7.534643</td>\n",
       "      <td>6.469369</td>\n",
       "      <td>552160000</td>\n",
       "      <td>6.573935</td>\n",
       "      <td>0</td>\n",
       "    </tr>\n",
       "    <tr>\n",
       "      <th>2</th>\n",
       "      <td>2010-01-07</td>\n",
       "      <td>7.562500</td>\n",
       "      <td>7.571429</td>\n",
       "      <td>7.466071</td>\n",
       "      <td>7.520714</td>\n",
       "      <td>6.457407</td>\n",
       "      <td>477131200</td>\n",
       "      <td>6.469369</td>\n",
       "      <td>0</td>\n",
       "    </tr>\n",
       "    <tr>\n",
       "      <th>3</th>\n",
       "      <td>2010-01-08</td>\n",
       "      <td>7.510714</td>\n",
       "      <td>7.571429</td>\n",
       "      <td>7.466429</td>\n",
       "      <td>7.570714</td>\n",
       "      <td>6.500339</td>\n",
       "      <td>447610800</td>\n",
       "      <td>6.457407</td>\n",
       "      <td>1</td>\n",
       "    </tr>\n",
       "    <tr>\n",
       "      <th>4</th>\n",
       "      <td>2010-01-11</td>\n",
       "      <td>7.600000</td>\n",
       "      <td>7.607143</td>\n",
       "      <td>7.444643</td>\n",
       "      <td>7.503929</td>\n",
       "      <td>6.442997</td>\n",
       "      <td>462229600</td>\n",
       "      <td>6.500339</td>\n",
       "      <td>0</td>\n",
       "    </tr>\n",
       "  </tbody>\n",
       "</table>\n",
       "</div>"
      ],
      "text/plain": [
       "         Date      Open      High       Low     Close  Adj Close     Volume  \\\n",
       "0  2010-01-05  7.664286  7.699643  7.616071  7.656429   6.573935  601904800   \n",
       "1  2010-01-06  7.656429  7.686786  7.526786  7.534643   6.469369  552160000   \n",
       "2  2010-01-07  7.562500  7.571429  7.466071  7.520714   6.457407  477131200   \n",
       "3  2010-01-08  7.510714  7.571429  7.466429  7.570714   6.500339  447610800   \n",
       "4  2010-01-11  7.600000  7.607143  7.444643  7.503929   6.442997  462229600   \n",
       "\n",
       "   Adj Closing Yday  Adj Closing Price Change  \n",
       "0          6.562591                         1  \n",
       "1          6.573935                         0  \n",
       "2          6.469369                         0  \n",
       "3          6.457407                         1  \n",
       "4          6.500339                         0  "
      ]
     },
     "execution_count": 20,
     "metadata": {},
     "output_type": "execute_result"
    }
   ],
   "source": [
    "apple_df.head(5)"
   ]
  },
  {
   "cell_type": "code",
   "execution_count": 21,
   "metadata": {},
   "outputs": [
    {
     "data": {
      "text/plain": [
       "(2942, 9)"
      ]
     },
     "execution_count": 21,
     "metadata": {},
     "output_type": "execute_result"
    }
   ],
   "source": [
    "apple_df.shape"
   ]
  },
  {
   "cell_type": "code",
   "execution_count": 22,
   "metadata": {},
   "outputs": [],
   "source": [
    "# Applying Logistic Regression \n",
    "\n",
    "# Assigning Variables \n",
    "\n",
    "X = apple_df.drop(['Adj Closing Price Change', 'Date'], axis= 1)\n",
    "y = apple_df['Adj Closing Price Change']"
   ]
  },
  {
   "cell_type": "code",
   "execution_count": 23,
   "metadata": {},
   "outputs": [],
   "source": [
    "# Split into train/test \n",
    "\n",
    "# Import the package \n",
    "\n",
    "from sklearn.model_selection import train_test_split\n",
    "\n",
    "# Splitting the test and remainder\n",
    "\n",
    "X_rem, X_test, y_rem, y_test = train_test_split(X, y, test_size=0.3, stratify=y, random_state=1)\n",
    "\n",
    "# Splitting the train and validation \n",
    "\n",
    "X_train, X_val, y_train, y_val = train_test_split(X_rem, y_rem, test_size=0.2, stratify=y_rem, random_state=2)"
   ]
  },
  {
   "cell_type": "code",
   "execution_count": 24,
   "metadata": {},
   "outputs": [],
   "source": [
    "# Viewing the shape of our train/test split \n",
    "\n",
    "#print(f\"The shape of our train set is {}\")"
   ]
  },
  {
   "cell_type": "code",
   "execution_count": 25,
   "metadata": {},
   "outputs": [],
   "source": [
    "# Scaling the data \n",
    "\n",
    "# Import the package \n",
    "\n",
    "from sklearn.preprocessing import StandardScaler\n",
    "\n",
    "# Scaling \n",
    "\n",
    "scaler = StandardScaler()\n",
    "scaler.fit(X_train)\n",
    "X_train_scaled = scaler.transform(X_train)\n",
    "X_val_scaled = scaler.transform(X_val)\n",
    "X_test_scaled = scaler.transform(X_test)"
   ]
  },
  {
   "cell_type": "code",
   "execution_count": 26,
   "metadata": {},
   "outputs": [
    {
     "name": "stdout",
     "output_type": "stream",
     "text": [
      "Train score 0.6642380085003036\n",
      "Validation score 0.6359223300970874\n",
      "Test score 0.6636466591166478\n"
     ]
    }
   ],
   "source": [
    "# Logistic Regression\n",
    "\n",
    "#Importing the package \n",
    "from sklearn.linear_model import LogisticRegression\n",
    "\n",
    "# Intializing the log reg\n",
    "logreg = LogisticRegression()\n",
    "\n",
    "# Fitting our training data\n",
    "logreg.fit(X_train_scaled, y_train)\n",
    "\n",
    "# Printing results\n",
    "print(\"Train score\", logreg.score(X_train_scaled, y_train))\n",
    "print(\"Validation score\", logreg.score(X_val_scaled, y_val))\n",
    "print(\"Test score\", logreg.score(X_test_scaled, y_test))"
   ]
  },
  {
   "attachments": {},
   "cell_type": "markdown",
   "metadata": {},
   "source": [
    "---"
   ]
  },
  {
   "attachments": {},
   "cell_type": "markdown",
   "metadata": {},
   "source": [
    "Based on EDA 2 "
   ]
  },
  {
   "cell_type": "code",
   "execution_count": 27,
   "metadata": {},
   "outputs": [],
   "source": [
    "# Loading our clean dataset from the EDA - 2 Notebook \n",
    "\n",
    "stocks_df = pd.read_csv('../clean_data.csv')"
   ]
  },
  {
   "cell_type": "code",
   "execution_count": 28,
   "metadata": {},
   "outputs": [
    {
     "data": {
      "text/html": [
       "<div>\n",
       "<style scoped>\n",
       "    .dataframe tbody tr th:only-of-type {\n",
       "        vertical-align: middle;\n",
       "    }\n",
       "\n",
       "    .dataframe tbody tr th {\n",
       "        vertical-align: top;\n",
       "    }\n",
       "\n",
       "    .dataframe thead th {\n",
       "        text-align: right;\n",
       "    }\n",
       "</style>\n",
       "<table border=\"1\" class=\"dataframe\">\n",
       "  <thead>\n",
       "    <tr style=\"text-align: right;\">\n",
       "      <th></th>\n",
       "      <th>Open</th>\n",
       "      <th>High</th>\n",
       "      <th>Low</th>\n",
       "      <th>Close</th>\n",
       "      <th>Adj Close</th>\n",
       "      <th>Volume</th>\n",
       "      <th>Adj Closing Yday</th>\n",
       "      <th>Adj Closing Price Change</th>\n",
       "    </tr>\n",
       "  </thead>\n",
       "  <tbody>\n",
       "    <tr>\n",
       "      <th>0</th>\n",
       "      <td>7.664286</td>\n",
       "      <td>7.699643</td>\n",
       "      <td>7.616071</td>\n",
       "      <td>7.656429</td>\n",
       "      <td>6.573935</td>\n",
       "      <td>601904800</td>\n",
       "      <td>6.562591</td>\n",
       "      <td>1</td>\n",
       "    </tr>\n",
       "    <tr>\n",
       "      <th>1</th>\n",
       "      <td>7.656429</td>\n",
       "      <td>7.686786</td>\n",
       "      <td>7.526786</td>\n",
       "      <td>7.534643</td>\n",
       "      <td>6.469369</td>\n",
       "      <td>552160000</td>\n",
       "      <td>6.573935</td>\n",
       "      <td>0</td>\n",
       "    </tr>\n",
       "    <tr>\n",
       "      <th>2</th>\n",
       "      <td>7.562500</td>\n",
       "      <td>7.571429</td>\n",
       "      <td>7.466071</td>\n",
       "      <td>7.520714</td>\n",
       "      <td>6.457407</td>\n",
       "      <td>477131200</td>\n",
       "      <td>6.469369</td>\n",
       "      <td>0</td>\n",
       "    </tr>\n",
       "    <tr>\n",
       "      <th>3</th>\n",
       "      <td>7.510714</td>\n",
       "      <td>7.571429</td>\n",
       "      <td>7.466429</td>\n",
       "      <td>7.570714</td>\n",
       "      <td>6.500339</td>\n",
       "      <td>447610800</td>\n",
       "      <td>6.457407</td>\n",
       "      <td>1</td>\n",
       "    </tr>\n",
       "    <tr>\n",
       "      <th>4</th>\n",
       "      <td>7.600000</td>\n",
       "      <td>7.607143</td>\n",
       "      <td>7.444643</td>\n",
       "      <td>7.503929</td>\n",
       "      <td>6.442997</td>\n",
       "      <td>462229600</td>\n",
       "      <td>6.500339</td>\n",
       "      <td>0</td>\n",
       "    </tr>\n",
       "    <tr>\n",
       "      <th>5</th>\n",
       "      <td>7.471071</td>\n",
       "      <td>7.491786</td>\n",
       "      <td>7.372143</td>\n",
       "      <td>7.418571</td>\n",
       "      <td>6.369709</td>\n",
       "      <td>594459600</td>\n",
       "      <td>6.442997</td>\n",
       "      <td>0</td>\n",
       "    </tr>\n",
       "    <tr>\n",
       "      <th>6</th>\n",
       "      <td>7.423929</td>\n",
       "      <td>7.533214</td>\n",
       "      <td>7.289286</td>\n",
       "      <td>7.523214</td>\n",
       "      <td>6.459555</td>\n",
       "      <td>605892000</td>\n",
       "      <td>6.369709</td>\n",
       "      <td>1</td>\n",
       "    </tr>\n",
       "    <tr>\n",
       "      <th>7</th>\n",
       "      <td>7.503929</td>\n",
       "      <td>7.516429</td>\n",
       "      <td>7.465000</td>\n",
       "      <td>7.479643</td>\n",
       "      <td>6.422143</td>\n",
       "      <td>432894000</td>\n",
       "      <td>6.459555</td>\n",
       "      <td>0</td>\n",
       "    </tr>\n",
       "    <tr>\n",
       "      <th>8</th>\n",
       "      <td>7.533214</td>\n",
       "      <td>7.557143</td>\n",
       "      <td>7.352500</td>\n",
       "      <td>7.354643</td>\n",
       "      <td>6.314816</td>\n",
       "      <td>594067600</td>\n",
       "      <td>6.422143</td>\n",
       "      <td>0</td>\n",
       "    </tr>\n",
       "    <tr>\n",
       "      <th>9</th>\n",
       "      <td>7.440357</td>\n",
       "      <td>7.685357</td>\n",
       "      <td>7.401429</td>\n",
       "      <td>7.680000</td>\n",
       "      <td>6.594175</td>\n",
       "      <td>730007600</td>\n",
       "      <td>6.314816</td>\n",
       "      <td>1</td>\n",
       "    </tr>\n",
       "  </tbody>\n",
       "</table>\n",
       "</div>"
      ],
      "text/plain": [
       "       Open      High       Low     Close  Adj Close     Volume  \\\n",
       "0  7.664286  7.699643  7.616071  7.656429   6.573935  601904800   \n",
       "1  7.656429  7.686786  7.526786  7.534643   6.469369  552160000   \n",
       "2  7.562500  7.571429  7.466071  7.520714   6.457407  477131200   \n",
       "3  7.510714  7.571429  7.466429  7.570714   6.500339  447610800   \n",
       "4  7.600000  7.607143  7.444643  7.503929   6.442997  462229600   \n",
       "5  7.471071  7.491786  7.372143  7.418571   6.369709  594459600   \n",
       "6  7.423929  7.533214  7.289286  7.523214   6.459555  605892000   \n",
       "7  7.503929  7.516429  7.465000  7.479643   6.422143  432894000   \n",
       "8  7.533214  7.557143  7.352500  7.354643   6.314816  594067600   \n",
       "9  7.440357  7.685357  7.401429  7.680000   6.594175  730007600   \n",
       "\n",
       "   Adj Closing Yday  Adj Closing Price Change  \n",
       "0          6.562591                         1  \n",
       "1          6.573935                         0  \n",
       "2          6.469369                         0  \n",
       "3          6.457407                         1  \n",
       "4          6.500339                         0  \n",
       "5          6.442997                         0  \n",
       "6          6.369709                         1  \n",
       "7          6.459555                         0  \n",
       "8          6.422143                         0  \n",
       "9          6.314816                         1  "
      ]
     },
     "execution_count": 28,
     "metadata": {},
     "output_type": "execute_result"
    }
   ],
   "source": [
    "# Viewing our dataframe \n",
    "\n",
    "stocks_df.head(10)"
   ]
  },
  {
   "cell_type": "code",
   "execution_count": 29,
   "metadata": {},
   "outputs": [],
   "source": [
    "# Shape of our dataframe \n",
    "\n"
   ]
  },
  {
   "cell_type": "code",
   "execution_count": 30,
   "metadata": {},
   "outputs": [],
   "source": [
    "# Applying Logistic Regression \n",
    "\n",
    "# Assigning Variables \n",
    "\n",
    "X = stocks_df.drop(['Open', 'Adj Closing Price Change', 'High', 'Low', 'Close'], axis= 1)\n",
    "y = stocks_df['Adj Closing Price Change']"
   ]
  },
  {
   "cell_type": "code",
   "execution_count": 31,
   "metadata": {},
   "outputs": [],
   "source": [
    "# Split into train/test \n",
    "\n",
    "# Import the package \n",
    "\n",
    "from sklearn.model_selection import train_test_split\n",
    "\n",
    "# Splitting the test and remainder\n",
    "\n",
    "X_rem, X_test, y_rem, y_test = train_test_split(X, y, test_size=0.3, stratify=y, random_state=1)\n",
    "\n",
    "# Splitting the train and validation \n",
    "\n",
    "X_train, X_val, y_train, y_val = train_test_split(X_rem, y_rem, test_size=0.2, stratify=y_rem, random_state=2)"
   ]
  },
  {
   "cell_type": "code",
   "execution_count": 32,
   "metadata": {},
   "outputs": [],
   "source": [
    "# Scaling the data \n",
    "\n",
    "# Import the package \n",
    "\n",
    "from sklearn.preprocessing import StandardScaler\n",
    "\n",
    "# Scaling \n",
    "\n",
    "scaler = StandardScaler()\n",
    "scaler.fit(X_train)\n",
    "X_train_scaled = scaler.transform(X_train)\n",
    "X_val_scaled = scaler.transform(X_val)\n",
    "X_test_scaled = scaler.transform(X_test)"
   ]
  },
  {
   "cell_type": "code",
   "execution_count": 33,
   "metadata": {},
   "outputs": [
    {
     "name": "stdout",
     "output_type": "stream",
     "text": [
      "Train score 0.8395293808334429\n",
      "Validation score 0.8384382805310898\n",
      "Test score 0.8345848056537103\n"
     ]
    }
   ],
   "source": [
    "# Logistic Regression\n",
    "\n",
    "#Importing the package \n",
    "from sklearn.linear_model import LogisticRegression\n",
    "\n",
    "# Intializing the log reg\n",
    "logreg = LogisticRegression()\n",
    "\n",
    "# Fitting our training data\n",
    "logreg.fit(X_train_scaled, y_train)\n",
    "\n",
    "# Printing results\n",
    "print(\"Train score\", logreg.score(X_train_scaled, y_train))\n",
    "print(\"Validation score\", logreg.score(X_val_scaled, y_val))\n",
    "print(\"Test score\", logreg.score(X_test_scaled, y_test))"
   ]
  },
  {
   "cell_type": "code",
   "execution_count": 34,
   "metadata": {},
   "outputs": [],
   "source": [
    "from sklearn.metrics import classification_report\n",
    "\n",
    "y_pred = logreg.predict(X_test_scaled)"
   ]
  },
  {
   "attachments": {},
   "cell_type": "markdown",
   "metadata": {},
   "source": [
    "###  = print my confusion matrix "
   ]
  },
  {
   "cell_type": "code",
   "execution_count": 35,
   "metadata": {},
   "outputs": [
    {
     "name": "stdout",
     "output_type": "stream",
     "text": [
      "              precision    recall  f1-score   support\n",
      "\n",
      "           0       1.00      0.65      0.79     38770\n",
      "           1       0.76      1.00      0.86     42734\n",
      "\n",
      "    accuracy                           0.83     81504\n",
      "   macro avg       0.88      0.83      0.83     81504\n",
      "weighted avg       0.87      0.83      0.83     81504\n",
      "\n"
     ]
    }
   ],
   "source": [
    "report = classification_report(y_test, y_pred)\n",
    "print(report)"
   ]
  },
  {
   "attachments": {},
   "cell_type": "markdown",
   "metadata": {},
   "source": [
    "### After down-sampling:"
   ]
  },
  {
   "cell_type": "code",
   "execution_count": 105,
   "metadata": {},
   "outputs": [],
   "source": [
    "# Loading our balanced dataset from the EDA - 2 Notebook \n",
    "\n",
    "balanced_df = pd.read_csv('../sample_balanced_data.csv')"
   ]
  },
  {
   "cell_type": "code",
   "execution_count": 106,
   "metadata": {},
   "outputs": [
    {
     "data": {
      "text/html": [
       "<div>\n",
       "<style scoped>\n",
       "    .dataframe tbody tr th:only-of-type {\n",
       "        vertical-align: middle;\n",
       "    }\n",
       "\n",
       "    .dataframe tbody tr th {\n",
       "        vertical-align: top;\n",
       "    }\n",
       "\n",
       "    .dataframe thead th {\n",
       "        text-align: right;\n",
       "    }\n",
       "</style>\n",
       "<table border=\"1\" class=\"dataframe\">\n",
       "  <thead>\n",
       "    <tr style=\"text-align: right;\">\n",
       "      <th></th>\n",
       "      <th>Open</th>\n",
       "      <th>High</th>\n",
       "      <th>Low</th>\n",
       "      <th>Close</th>\n",
       "      <th>Adj Close</th>\n",
       "      <th>Volume</th>\n",
       "      <th>Adj Closing Yday</th>\n",
       "      <th>Adj Closing Price Change</th>\n",
       "    </tr>\n",
       "  </thead>\n",
       "  <tbody>\n",
       "    <tr>\n",
       "      <th>0</th>\n",
       "      <td>99.500000</td>\n",
       "      <td>100.570000</td>\n",
       "      <td>98.389999</td>\n",
       "      <td>98.580002</td>\n",
       "      <td>89.595734</td>\n",
       "      <td>2450000</td>\n",
       "      <td>90.559128</td>\n",
       "      <td>0</td>\n",
       "    </tr>\n",
       "    <tr>\n",
       "      <th>1</th>\n",
       "      <td>47.160000</td>\n",
       "      <td>47.220001</td>\n",
       "      <td>46.480000</td>\n",
       "      <td>46.970001</td>\n",
       "      <td>44.740360</td>\n",
       "      <td>26747200</td>\n",
       "      <td>45.073746</td>\n",
       "      <td>0</td>\n",
       "    </tr>\n",
       "    <tr>\n",
       "      <th>2</th>\n",
       "      <td>434.312103</td>\n",
       "      <td>436.523804</td>\n",
       "      <td>430.013214</td>\n",
       "      <td>433.270996</td>\n",
       "      <td>433.270996</td>\n",
       "      <td>6056416</td>\n",
       "      <td>438.820190</td>\n",
       "      <td>0</td>\n",
       "    </tr>\n",
       "    <tr>\n",
       "      <th>3</th>\n",
       "      <td>24.070000</td>\n",
       "      <td>24.200001</td>\n",
       "      <td>23.740000</td>\n",
       "      <td>23.930000</td>\n",
       "      <td>18.786953</td>\n",
       "      <td>65512400</td>\n",
       "      <td>18.810499</td>\n",
       "      <td>0</td>\n",
       "    </tr>\n",
       "    <tr>\n",
       "      <th>4</th>\n",
       "      <td>58.049999</td>\n",
       "      <td>58.220001</td>\n",
       "      <td>57.169998</td>\n",
       "      <td>57.860001</td>\n",
       "      <td>53.495506</td>\n",
       "      <td>2572100</td>\n",
       "      <td>53.486259</td>\n",
       "      <td>1</td>\n",
       "    </tr>\n",
       "  </tbody>\n",
       "</table>\n",
       "</div>"
      ],
      "text/plain": [
       "         Open        High         Low       Close   Adj Close    Volume  \\\n",
       "0   99.500000  100.570000   98.389999   98.580002   89.595734   2450000   \n",
       "1   47.160000   47.220001   46.480000   46.970001   44.740360  26747200   \n",
       "2  434.312103  436.523804  430.013214  433.270996  433.270996   6056416   \n",
       "3   24.070000   24.200001   23.740000   23.930000   18.786953  65512400   \n",
       "4   58.049999   58.220001   57.169998   57.860001   53.495506   2572100   \n",
       "\n",
       "   Adj Closing Yday  Adj Closing Price Change  \n",
       "0         90.559128                         0  \n",
       "1         45.073746                         0  \n",
       "2        438.820190                         0  \n",
       "3         18.810499                         0  \n",
       "4         53.486259                         1  "
      ]
     },
     "execution_count": 106,
     "metadata": {},
     "output_type": "execute_result"
    }
   ],
   "source": [
    "balanced_df.head(5)"
   ]
  },
  {
   "cell_type": "code",
   "execution_count": 107,
   "metadata": {},
   "outputs": [
    {
     "data": {
      "text/plain": [
       "0    5010\n",
       "1    4990\n",
       "Name: Adj Closing Price Change, dtype: int64"
      ]
     },
     "execution_count": 107,
     "metadata": {},
     "output_type": "execute_result"
    }
   ],
   "source": [
    "balanced_df['Adj Closing Price Change'].value_counts()"
   ]
  },
  {
   "cell_type": "code",
   "execution_count": 108,
   "metadata": {},
   "outputs": [],
   "source": [
    "# Applying Logistic Regression \n",
    "\n",
    "# Assigning Variables \n",
    "\n",
    "X_balanced = balanced_df.drop(['Open', 'Adj Closing Price Change', 'High', 'Low', 'Close'], axis= 1)\n",
    "y_balanced = balanced_df['Adj Closing Price Change']"
   ]
  },
  {
   "cell_type": "code",
   "execution_count": 109,
   "metadata": {},
   "outputs": [],
   "source": [
    "# Split into train/test \n",
    "\n",
    "# Import the package \n",
    "\n",
    "from sklearn.model_selection import train_test_split\n",
    "\n",
    "# Splitting the test and remainder\n",
    "\n",
    "X_rem, X_test, y_rem, y_test = train_test_split(X_balanced, y_balanced, test_size=0.3, stratify=y_balanced, random_state=1)\n",
    "\n",
    "# Splitting the train and validation \n",
    "\n",
    "X_train, X_val, y_train, y_val = train_test_split(X_rem, y_rem, test_size=0.2, stratify=y_rem, random_state=2)"
   ]
  },
  {
   "cell_type": "code",
   "execution_count": 112,
   "metadata": {},
   "outputs": [],
   "source": [
    "# Scaling the data \n",
    "\n",
    "# Import the package \n",
    "\n",
    "from sklearn.preprocessing import StandardScaler\n",
    "\n",
    "# Scaling \n",
    "\n",
    "scaler = StandardScaler()\n",
    "scaler.fit(X_train)\n",
    "X_train_scaled = scaler.transform(X_train)\n",
    "X_val_scaled = scaler.transform(X_val)\n",
    "X_test_scaled = scaler.transform(X_test)"
   ]
  },
  {
   "cell_type": "code",
   "execution_count": 113,
   "metadata": {},
   "outputs": [
    {
     "name": "stdout",
     "output_type": "stream",
     "text": [
      "Train score 0.7385714285714285\n",
      "Validation score 0.7428571428571429\n",
      "Test score 0.72\n"
     ]
    }
   ],
   "source": [
    "# Logistic Regression\n",
    "\n",
    "#Importing the package \n",
    "from sklearn.linear_model import LogisticRegression\n",
    "\n",
    "# Intializing the log reg\n",
    "logreg = LogisticRegression()\n",
    "\n",
    "# Fitting our training data\n",
    "logreg.fit(X_train_scaled, y_train)\n",
    "\n",
    "# Printing results\n",
    "print(\"Train score\", logreg.score(X_train_scaled, y_train))\n",
    "print(\"Validation score\", logreg.score(X_val_scaled, y_val))\n",
    "print(\"Test score\", logreg.score(X_test_scaled, y_test))"
   ]
  },
  {
   "cell_type": "code",
   "execution_count": 114,
   "metadata": {},
   "outputs": [],
   "source": [
    "y_pred = logreg.predict(X_test_scaled)\n"
   ]
  },
  {
   "cell_type": "code",
   "execution_count": 115,
   "metadata": {},
   "outputs": [
    {
     "data": {
      "text/html": [
       "<div>\n",
       "<style scoped>\n",
       "    .dataframe tbody tr th:only-of-type {\n",
       "        vertical-align: middle;\n",
       "    }\n",
       "\n",
       "    .dataframe tbody tr th {\n",
       "        vertical-align: top;\n",
       "    }\n",
       "\n",
       "    .dataframe thead th {\n",
       "        text-align: right;\n",
       "    }\n",
       "</style>\n",
       "<table border=\"1\" class=\"dataframe\">\n",
       "  <thead>\n",
       "    <tr style=\"text-align: right;\">\n",
       "      <th></th>\n",
       "      <th>Predicted Class 0</th>\n",
       "      <th>Predicted Class 1</th>\n",
       "    </tr>\n",
       "  </thead>\n",
       "  <tbody>\n",
       "    <tr>\n",
       "      <th>True Negative</th>\n",
       "      <td>1456</td>\n",
       "      <td>47</td>\n",
       "    </tr>\n",
       "    <tr>\n",
       "      <th>True Positive</th>\n",
       "      <td>793</td>\n",
       "      <td>704</td>\n",
       "    </tr>\n",
       "  </tbody>\n",
       "</table>\n",
       "</div>"
      ],
      "text/plain": [
       "               Predicted Class 0  Predicted Class 1\n",
       "True Negative               1456                 47\n",
       "True Positive                793                704"
      ]
     },
     "metadata": {},
     "output_type": "display_data"
    }
   ],
   "source": [
    "# Confusion Matrix \n",
    "\n",
    "#Import the confusion matrix libraries\n",
    "\n",
    "from sklearn.metrics import confusion_matrix, ConfusionMatrixDisplay\n",
    "\n",
    "# Generate confusion matrix\n",
    "cf_matrix = confusion_matrix(y_test, y_pred)\n",
    "# Label rows and columns\n",
    "cf_df = pd.DataFrame(\n",
    "    cf_matrix,\n",
    "    columns=[\"Predicted Class 0\", \"Predicted Class 1\"],\n",
    "    index=[\"True Negative\", \"True Positive\"]\n",
    ")\n",
    "display(cf_df)"
   ]
  },
  {
   "cell_type": "code",
   "execution_count": 116,
   "metadata": {},
   "outputs": [
    {
     "data": {
      "text/plain": [
       "<sklearn.metrics._plot.confusion_matrix.ConfusionMatrixDisplay at 0x16b18cf40>"
      ]
     },
     "execution_count": 116,
     "metadata": {},
     "output_type": "execute_result"
    },
    {
     "data": {
      "image/png": "[encoded data removed]",
      "text/plain": [
       "<Figure size 640x480 with 2 Axes>"
      ]
     },
     "metadata": {},
     "output_type": "display_data"
    }
   ],
   "source": [
    "# Confusion Matrix Display \n",
    "\n",
    "ConfusionMatrixDisplay.from_estimator(logreg, X_test_scaled, y_test)"
   ]
  },
  {
   "cell_type": "code",
   "execution_count": 117,
   "metadata": {},
   "outputs": [
    {
     "name": "stdout",
     "output_type": "stream",
     "text": [
      "              precision    recall  f1-score   support\n",
      "\n",
      "           0       0.65      0.97      0.78      1503\n",
      "           1       0.94      0.47      0.63      1497\n",
      "\n",
      "    accuracy                           0.72      3000\n",
      "   macro avg       0.79      0.72      0.70      3000\n",
      "weighted avg       0.79      0.72      0.70      3000\n",
      "\n"
     ]
    }
   ],
   "source": [
    "# Classification Report \n",
    "\n",
    "report = classification_report(y_test, y_pred)\n",
    "print(report)"
   ]
  },
  {
   "cell_type": "code",
   "execution_count": 118,
   "metadata": {},
   "outputs": [],
   "source": [
    "# Creating a pipeline to optimize logreg\n",
    "\n",
    "from sklearn.model_selection import GridSearchCV, cross_val_score, RandomizedSearchCV\n",
    "from sklearn.pipeline import Pipeline"
   ]
  },
  {
   "cell_type": "code",
   "execution_count": 119,
   "metadata": {},
   "outputs": [],
   "source": [
    "# Pipeline\n",
    "\n",
    "estimators = [\n",
    "    ('scaler', StandardScaler()),\n",
    "    ('model', LogisticRegression())\n",
    "]"
   ]
  },
  {
   "cell_type": "code",
   "execution_count": 120,
   "metadata": {},
   "outputs": [],
   "source": [
    "# \n",
    "from tempfile import mkdtemp\n",
    "cachedir = mkdtemp()\n",
    "\n",
    "# \n",
    "my_pipe = Pipeline(estimators, memory=cachedir)"
   ]
  },
  {
   "cell_type": "code",
   "execution_count": 121,
   "metadata": {},
   "outputs": [],
   "source": [
    "# logistic Regression\n",
    "\n",
    "logreg_params = {\n",
    "    'scaler': [StandardScaler()],\n",
    "    'model': [LogisticRegression(random_state = 1)],\n",
    "    'model__C': [0.1, 1, 10],\n",
    "    'model__solver': ['liblinear', 'lbfgs'],\n",
    "    'model__penalty': ['l1','l2'],\n",
    "    'model__max_iter': [100000]\n",
    "}"
   ]
  },
  {
   "cell_type": "code",
   "execution_count": 122,
   "metadata": {},
   "outputs": [],
   "source": [
    "# \n",
    "\n",
    "logreg_grid = GridSearchCV(my_pipe, param_grid =logreg_params, cv = 5, verbose = 2)"
   ]
  },
  {
   "cell_type": "code",
   "execution_count": 123,
   "metadata": {},
   "outputs": [
    {
     "data": {
      "text/plain": [
       "(7000, 3)"
      ]
     },
     "execution_count": 123,
     "metadata": {},
     "output_type": "execute_result"
    }
   ],
   "source": [
    "X_rem.shape"
   ]
  },
  {
   "cell_type": "code",
   "execution_count": 124,
   "metadata": {},
   "outputs": [
    {
     "name": "stdout",
     "output_type": "stream",
     "text": [
      "Fitting 5 folds for each of 12 candidates, totalling 60 fits\n",
      "[CV] END model=LogisticRegression(random_state=1), model__C=0.1, model__max_iter=100000, model__penalty=l1, model__solver=liblinear, scaler=StandardScaler(); total time=   0.1s\n",
      "[CV] END model=LogisticRegression(random_state=1), model__C=0.1, model__max_iter=100000, model__penalty=l1, model__solver=liblinear, scaler=StandardScaler(); total time=   0.0s\n",
      "[CV] END model=LogisticRegression(random_state=1), model__C=0.1, model__max_iter=100000, model__penalty=l1, model__solver=liblinear, scaler=StandardScaler(); total time=   0.2s\n",
      "[CV] END model=LogisticRegression(random_state=1), model__C=0.1, model__max_iter=100000, model__penalty=l1, model__solver=liblinear, scaler=StandardScaler(); total time=   0.1s\n",
      "[CV] END model=LogisticRegression(random_state=1), model__C=0.1, model__max_iter=100000, model__penalty=l1, model__solver=liblinear, scaler=StandardScaler(); total time=   0.1s\n",
      "[CV] END model=LogisticRegression(random_state=1), model__C=0.1, model__max_iter=100000, model__penalty=l1, model__solver=lbfgs, scaler=StandardScaler(); total time=   0.0s\n",
      "[CV] END model=LogisticRegression(random_state=1), model__C=0.1, model__max_iter=100000, model__penalty=l1, model__solver=lbfgs, scaler=StandardScaler(); total time=   0.0s\n",
      "[CV] END model=LogisticRegression(random_state=1), model__C=0.1, model__max_iter=100000, model__penalty=l1, model__solver=lbfgs, scaler=StandardScaler(); total time=   0.0s\n",
      "[CV] END model=LogisticRegression(random_state=1), model__C=0.1, model__max_iter=100000, model__penalty=l1, model__solver=lbfgs, scaler=StandardScaler(); total time=   0.0s\n",
      "[CV] END model=LogisticRegression(random_state=1), model__C=0.1, model__max_iter=100000, model__penalty=l1, model__solver=lbfgs, scaler=StandardScaler(); total time=   0.0s\n",
      "[CV] END model=LogisticRegression(random_state=1), model__C=0.1, model__max_iter=100000, model__penalty=l2, model__solver=liblinear, scaler=StandardScaler(); total time=   0.0s\n",
      "[CV] END model=LogisticRegression(random_state=1), model__C=0.1, model__max_iter=100000, model__penalty=l2, model__solver=liblinear, scaler=StandardScaler(); total time=   0.0s\n",
      "[CV] END model=LogisticRegression(random_state=1), model__C=0.1, model__max_iter=100000, model__penalty=l2, model__solver=liblinear, scaler=StandardScaler(); total time=   0.0s\n",
      "[CV] END model=LogisticRegression(random_state=1), model__C=0.1, model__max_iter=100000, model__penalty=l2, model__solver=liblinear, scaler=StandardScaler(); total time=   0.0s\n",
      "[CV] END model=LogisticRegression(random_state=1), model__C=0.1, model__max_iter=100000, model__penalty=l2, model__solver=liblinear, scaler=StandardScaler(); total time=   0.0s\n",
      "[CV] END model=LogisticRegression(random_state=1), model__C=0.1, model__max_iter=100000, model__penalty=l2, model__solver=lbfgs, scaler=StandardScaler(); total time=   0.0s\n",
      "[CV] END model=LogisticRegression(random_state=1), model__C=0.1, model__max_iter=100000, model__penalty=l2, model__solver=lbfgs, scaler=StandardScaler(); total time=   0.0s\n",
      "[CV] END model=LogisticRegression(random_state=1), model__C=0.1, model__max_iter=100000, model__penalty=l2, model__solver=lbfgs, scaler=StandardScaler(); total time=   0.0s\n",
      "[CV] END model=LogisticRegression(random_state=1), model__C=0.1, model__max_iter=100000, model__penalty=l2, model__solver=lbfgs, scaler=StandardScaler(); total time=   0.0s\n",
      "[CV] END model=LogisticRegression(random_state=1), model__C=0.1, model__max_iter=100000, model__penalty=l2, model__solver=lbfgs, scaler=StandardScaler(); total time=   0.0s\n",
      "[CV] END model=LogisticRegression(random_state=1), model__C=1, model__max_iter=100000, model__penalty=l1, model__solver=liblinear, scaler=StandardScaler(); total time=  23.5s\n",
      "[CV] END model=LogisticRegression(random_state=1), model__C=1, model__max_iter=100000, model__penalty=l1, model__solver=liblinear, scaler=StandardScaler(); total time=  21.0s\n",
      "[CV] END model=LogisticRegression(random_state=1), model__C=1, model__max_iter=100000, model__penalty=l1, model__solver=liblinear, scaler=StandardScaler(); total time=  18.1s\n",
      "[CV] END model=LogisticRegression(random_state=1), model__C=1, model__max_iter=100000, model__penalty=l1, model__solver=liblinear, scaler=StandardScaler(); total time=  17.6s\n",
      "[CV] END model=LogisticRegression(random_state=1), model__C=1, model__max_iter=100000, model__penalty=l1, model__solver=liblinear, scaler=StandardScaler(); total time=  22.1s\n",
      "[CV] END model=LogisticRegression(random_state=1), model__C=1, model__max_iter=100000, model__penalty=l1, model__solver=lbfgs, scaler=StandardScaler(); total time=   0.0s\n",
      "[CV] END model=LogisticRegression(random_state=1), model__C=1, model__max_iter=100000, model__penalty=l1, model__solver=lbfgs, scaler=StandardScaler(); total time=   0.0s\n",
      "[CV] END model=LogisticRegression(random_state=1), model__C=1, model__max_iter=100000, model__penalty=l1, model__solver=lbfgs, scaler=StandardScaler(); total time=   0.0s\n",
      "[CV] END model=LogisticRegression(random_state=1), model__C=1, model__max_iter=100000, model__penalty=l1, model__solver=lbfgs, scaler=StandardScaler(); total time=   0.0s\n",
      "[CV] END model=LogisticRegression(random_state=1), model__C=1, model__max_iter=100000, model__penalty=l1, model__solver=lbfgs, scaler=StandardScaler(); total time=   0.0s\n",
      "[CV] END model=LogisticRegression(random_state=1), model__C=1, model__max_iter=100000, model__penalty=l2, model__solver=liblinear, scaler=StandardScaler(); total time=   0.0s\n",
      "[CV] END model=LogisticRegression(random_state=1), model__C=1, model__max_iter=100000, model__penalty=l2, model__solver=liblinear, scaler=StandardScaler(); total time=   0.0s\n",
      "[CV] END model=LogisticRegression(random_state=1), model__C=1, model__max_iter=100000, model__penalty=l2, model__solver=liblinear, scaler=StandardScaler(); total time=   0.0s\n",
      "[CV] END model=LogisticRegression(random_state=1), model__C=1, model__max_iter=100000, model__penalty=l2, model__solver=liblinear, scaler=StandardScaler(); total time=   0.0s\n",
      "[CV] END model=LogisticRegression(random_state=1), model__C=1, model__max_iter=100000, model__penalty=l2, model__solver=liblinear, scaler=StandardScaler(); total time=   0.0s\n",
      "[CV] END model=LogisticRegression(random_state=1), model__C=1, model__max_iter=100000, model__penalty=l2, model__solver=lbfgs, scaler=StandardScaler(); total time=   0.0s\n",
      "[CV] END model=LogisticRegression(random_state=1), model__C=1, model__max_iter=100000, model__penalty=l2, model__solver=lbfgs, scaler=StandardScaler(); total time=   0.0s\n",
      "[CV] END model=LogisticRegression(random_state=1), model__C=1, model__max_iter=100000, model__penalty=l2, model__solver=lbfgs, scaler=StandardScaler(); total time=   0.0s\n",
      "[CV] END model=LogisticRegression(random_state=1), model__C=1, model__max_iter=100000, model__penalty=l2, model__solver=lbfgs, scaler=StandardScaler(); total time=   0.0s\n",
      "[CV] END model=LogisticRegression(random_state=1), model__C=1, model__max_iter=100000, model__penalty=l2, model__solver=lbfgs, scaler=StandardScaler(); total time=   0.0s\n"
     ]
    }
   ],
   "source": [
    "# \n",
    "\n",
    "logreg_fit_grid = logreg_grid.fit(X_rem, y_rem.values.ravel())"
   ]
  },
  {
   "cell_type": "code",
   "execution_count": 104,
   "metadata": {},
   "outputs": [
    {
     "name": "stdout",
     "output_type": "stream",
     "text": [
      "best score: 0.9841428571428572\n",
      "best parameters: {'model': LogisticRegression(C=10, max_iter=10000, penalty='l1', random_state=1,\n",
      "                   solver='liblinear'), 'model__C': 10, 'model__max_iter': 10000, 'model__penalty': 'l1', 'model__solver': 'liblinear', 'scaler': StandardScaler()}\n"
     ]
    }
   ],
   "source": [
    "# \n",
    "\n",
    "print(f\"best score: {logreg_fit_grid.best_score_}\")\n",
    "print(f\"best parameters: {logreg_fit_grid.best_params_}\")"
   ]
  },
  {
   "cell_type": "code",
   "execution_count": null,
   "metadata": {},
   "outputs": [],
   "source": []
  },
  {
   "cell_type": "code",
   "execution_count": null,
   "metadata": {},
   "outputs": [],
   "source": []
  },
  {
   "cell_type": "code",
   "execution_count": null,
   "metadata": {},
   "outputs": [],
   "source": []
  },
  {
   "cell_type": "code",
   "execution_count": null,
   "metadata": {},
   "outputs": [],
   "source": []
  },
  {
   "cell_type": "code",
   "execution_count": null,
   "metadata": {},
   "outputs": [],
   "source": []
  },
  {
   "cell_type": "code",
   "execution_count": null,
   "metadata": {},
   "outputs": [],
   "source": []
  },
  {
   "cell_type": "code",
   "execution_count": null,
   "metadata": {},
   "outputs": [],
   "source": []
  },
  {
   "cell_type": "code",
   "execution_count": null,
   "metadata": {},
   "outputs": [],
   "source": []
  },
  {
   "cell_type": "code",
   "execution_count": null,
   "metadata": {},
   "outputs": [],
   "source": []
  },
  {
   "cell_type": "code",
   "execution_count": null,
   "metadata": {},
   "outputs": [],
   "source": []
  },
  {
   "cell_type": "code",
   "execution_count": null,
   "metadata": {},
   "outputs": [],
   "source": []
  },
  {
   "cell_type": "code",
   "execution_count": null,
   "metadata": {},
   "outputs": [],
   "source": []
  },
  {
   "cell_type": "code",
   "execution_count": null,
   "metadata": {},
   "outputs": [],
   "source": []
  }
 ],
 "metadata": {
  "kernelspec": {
   "display_name": "base",
   "language": "python",
   "name": "python3"
  },
  "language_info": {
   "codemirror_mode": {
    "name": "ipython",
    "version": 3
   },
   "file_extension": ".py",
   "mimetype": "text/x-python",
   "name": "python",
   "nbconvert_exporter": "python",
   "pygments_lexer": "ipython3",
   "version": "3.10.11"
  },
  "orig_nbformat": 4
 },
 "nbformat": 4,
 "nbformat_minor": 2
}
