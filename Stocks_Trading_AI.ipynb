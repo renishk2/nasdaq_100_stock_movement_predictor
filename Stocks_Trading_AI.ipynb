{
 "cells": [
  {
   "cell_type": "markdown",
   "id": "3faf2971",
   "metadata": {},
   "source": [
    "# Stocks Trading AI"
   ]
  },
  {
   "cell_type": "markdown",
   "id": "45991588-fb06-480f-a147-315133bd1af1",
   "metadata": {},
   "source": [
    "**Author:** Renish Kanjiyani <br>\n",
    "**Date:** 05/11/2023 <br>\n",
    "**E-mail:** kanjiyanirenish2@gmail.com"
   ]
  },
  {
   "cell_type": "markdown",
   "id": "fad0f4a3-497b-4398-ba9f-a651101a6be6",
   "metadata": {
    "tags": []
   },
   "source": [
    "## Table of Contents:"
   ]
  },
  {
   "cell_type": "markdown",
   "id": "8e37329a-ff15-4b85-830d-c500a8977681",
   "metadata": {},
   "source": [
    "### [1. Introduction](#1)"
   ]
  },
  {
   "cell_type": "markdown",
   "id": "540b6513",
   "metadata": {},
   "source": [
    "- #### [1.1 Context - Project Background, Business Problem](#1.1)"
   ]
  },
  {
   "cell_type": "markdown",
   "id": "bc6bcabb",
   "metadata": {},
   "source": [
    "- #### [1.2 Dataset - Source of Data](#1.2)"
   ]
  },
  {
   "cell_type": "markdown",
   "id": "f06662df",
   "metadata": {},
   "source": [
    "- #### [1.3 Dataset Dictionary - Explanation of Dataset](#1.3)"
   ]
  },
  {
   "cell_type": "markdown",
   "id": "80027be5",
   "metadata": {},
   "source": [
    "- #### [1.4 Question of Interest - Outcome of The Project](#1.4)"
   ]
  },
  {
   "cell_type": "markdown",
   "id": "4fcfdef7-35dd-4f59-9c42-af59f11dc1f6",
   "metadata": {},
   "source": [
    "### [2. Data Cleaning](#2)"
   ]
  },
  {
   "cell_type": "markdown",
   "id": "daf27cef",
   "metadata": {},
   "source": [
    "#### [2.1 Importing Packages](#2.1)"
   ]
  },
  {
   "cell_type": "markdown",
   "id": "e0014a10",
   "metadata": {},
   "source": [
    "#### [2.2 Loading The Dataset - Importing The CSV File](#2.2)"
   ]
  },
  {
   "cell_type": "markdown",
   "id": "c2da0c7b",
   "metadata": {},
   "source": [
    "#### [2.3 ](#2.3)"
   ]
  },
  {
   "cell_type": "markdown",
   "id": "9b7a01c1",
   "metadata": {},
   "source": [
    "### [3. Data Exploration](#3)"
   ]
  },
  {
   "cell_type": "markdown",
   "id": "de3e8207",
   "metadata": {},
   "source": [
    "----------------------------------------"
   ]
  },
  {
   "cell_type": "markdown",
   "id": "1a8a1f46",
   "metadata": {},
   "source": [
    "<a id=1></a>\n",
    "**INTRODUCTION:**"
   ]
  },
  {
   "cell_type": "code",
   "execution_count": null,
   "id": "925d7cc0",
   "metadata": {},
   "outputs": [],
   "source": []
  },
  {
   "cell_type": "code",
   "execution_count": null,
   "id": "514773e2",
   "metadata": {},
   "outputs": [],
   "source": []
  },
  {
   "cell_type": "code",
   "execution_count": null,
   "id": "69fc683f",
   "metadata": {},
   "outputs": [],
   "source": []
  },
  {
   "cell_type": "markdown",
   "id": "9a9cea91",
   "metadata": {},
   "source": [
    "-----------"
   ]
  },
  {
   "cell_type": "markdown",
   "id": "9ffffa65",
   "metadata": {},
   "source": [
    "**DATA CLEANING:**"
   ]
  },
  {
   "cell_type": "code",
   "execution_count": 1,
   "id": "7b3cedff-e216-4aba-8cfa-e15f016d1a94",
   "metadata": {},
   "outputs": [],
   "source": [
    "# Loading all the packages required\n",
    "\n",
    "import numpy as np \n",
    "import pandas as pd \n",
    "import seaborn as sns \n",
    "import matplotlib.pyplot as plt\n",
    "\n",
    "import warnings\n",
    "warnings.filterwarnings('ignore')\n",
    "warnings.filterwarnings(action='once')"
   ]
  },
  {
   "cell_type": "code",
   "execution_count": 2,
   "id": "e960de93-0433-46a3-baa1-fbd85875b53f",
   "metadata": {},
   "outputs": [],
   "source": [
    "# Loading the dataset \n",
    "\n",
    "stocks_df = pd.read_csv\\\n",
    "('/Users/renishkanjiyani/Documents/BrainStation/Final Project/nasdaq_stocks_100.csv', sep='\\t')"
   ]
  },
  {
   "cell_type": "code",
   "execution_count": 3,
   "id": "ace53d01",
   "metadata": {},
   "outputs": [
    {
     "data": {
      "text/html": [
       "<div>\n",
       "<style scoped>\n",
       "    .dataframe tbody tr th:only-of-type {\n",
       "        vertical-align: middle;\n",
       "    }\n",
       "\n",
       "    .dataframe tbody tr th {\n",
       "        vertical-align: top;\n",
       "    }\n",
       "\n",
       "    .dataframe thead th {\n",
       "        text-align: right;\n",
       "    }\n",
       "</style>\n",
       "<table border=\"1\" class=\"dataframe\">\n",
       "  <thead>\n",
       "    <tr style=\"text-align: right;\">\n",
       "      <th></th>\n",
       "      <th>Date</th>\n",
       "      <th>Open</th>\n",
       "      <th>High</th>\n",
       "      <th>Low</th>\n",
       "      <th>Close</th>\n",
       "      <th>Adj Close</th>\n",
       "      <th>Volume</th>\n",
       "      <th>Name</th>\n",
       "    </tr>\n",
       "  </thead>\n",
       "  <tbody>\n",
       "    <tr>\n",
       "      <th>0</th>\n",
       "      <td>2010-01-04</td>\n",
       "      <td>7.622500</td>\n",
       "      <td>7.660714</td>\n",
       "      <td>7.585000</td>\n",
       "      <td>7.643214</td>\n",
       "      <td>6.562591</td>\n",
       "      <td>493729600</td>\n",
       "      <td>AAPL</td>\n",
       "    </tr>\n",
       "    <tr>\n",
       "      <th>1</th>\n",
       "      <td>2010-01-05</td>\n",
       "      <td>7.664286</td>\n",
       "      <td>7.699643</td>\n",
       "      <td>7.616071</td>\n",
       "      <td>7.656429</td>\n",
       "      <td>6.573935</td>\n",
       "      <td>601904800</td>\n",
       "      <td>AAPL</td>\n",
       "    </tr>\n",
       "    <tr>\n",
       "      <th>2</th>\n",
       "      <td>2010-01-06</td>\n",
       "      <td>7.656429</td>\n",
       "      <td>7.686786</td>\n",
       "      <td>7.526786</td>\n",
       "      <td>7.534643</td>\n",
       "      <td>6.469369</td>\n",
       "      <td>552160000</td>\n",
       "      <td>AAPL</td>\n",
       "    </tr>\n",
       "    <tr>\n",
       "      <th>3</th>\n",
       "      <td>2010-01-07</td>\n",
       "      <td>7.562500</td>\n",
       "      <td>7.571429</td>\n",
       "      <td>7.466071</td>\n",
       "      <td>7.520714</td>\n",
       "      <td>6.457407</td>\n",
       "      <td>477131200</td>\n",
       "      <td>AAPL</td>\n",
       "    </tr>\n",
       "    <tr>\n",
       "      <th>4</th>\n",
       "      <td>2010-01-08</td>\n",
       "      <td>7.510714</td>\n",
       "      <td>7.571429</td>\n",
       "      <td>7.466429</td>\n",
       "      <td>7.570714</td>\n",
       "      <td>6.500339</td>\n",
       "      <td>447610800</td>\n",
       "      <td>AAPL</td>\n",
       "    </tr>\n",
       "    <tr>\n",
       "      <th>5</th>\n",
       "      <td>2010-01-11</td>\n",
       "      <td>7.600000</td>\n",
       "      <td>7.607143</td>\n",
       "      <td>7.444643</td>\n",
       "      <td>7.503929</td>\n",
       "      <td>6.442997</td>\n",
       "      <td>462229600</td>\n",
       "      <td>AAPL</td>\n",
       "    </tr>\n",
       "    <tr>\n",
       "      <th>6</th>\n",
       "      <td>2010-01-12</td>\n",
       "      <td>7.471071</td>\n",
       "      <td>7.491786</td>\n",
       "      <td>7.372143</td>\n",
       "      <td>7.418571</td>\n",
       "      <td>6.369709</td>\n",
       "      <td>594459600</td>\n",
       "      <td>AAPL</td>\n",
       "    </tr>\n",
       "    <tr>\n",
       "      <th>7</th>\n",
       "      <td>2010-01-13</td>\n",
       "      <td>7.423929</td>\n",
       "      <td>7.533214</td>\n",
       "      <td>7.289286</td>\n",
       "      <td>7.523214</td>\n",
       "      <td>6.459555</td>\n",
       "      <td>605892000</td>\n",
       "      <td>AAPL</td>\n",
       "    </tr>\n",
       "    <tr>\n",
       "      <th>8</th>\n",
       "      <td>2010-01-14</td>\n",
       "      <td>7.503929</td>\n",
       "      <td>7.516429</td>\n",
       "      <td>7.465000</td>\n",
       "      <td>7.479643</td>\n",
       "      <td>6.422143</td>\n",
       "      <td>432894000</td>\n",
       "      <td>AAPL</td>\n",
       "    </tr>\n",
       "    <tr>\n",
       "      <th>9</th>\n",
       "      <td>2010-01-15</td>\n",
       "      <td>7.533214</td>\n",
       "      <td>7.557143</td>\n",
       "      <td>7.352500</td>\n",
       "      <td>7.354643</td>\n",
       "      <td>6.314816</td>\n",
       "      <td>594067600</td>\n",
       "      <td>AAPL</td>\n",
       "    </tr>\n",
       "  </tbody>\n",
       "</table>\n",
       "</div>"
      ],
      "text/plain": [
       "         Date      Open      High       Low     Close  Adj Close     Volume  \\\n",
       "0  2010-01-04  7.622500  7.660714  7.585000  7.643214   6.562591  493729600   \n",
       "1  2010-01-05  7.664286  7.699643  7.616071  7.656429   6.573935  601904800   \n",
       "2  2010-01-06  7.656429  7.686786  7.526786  7.534643   6.469369  552160000   \n",
       "3  2010-01-07  7.562500  7.571429  7.466071  7.520714   6.457407  477131200   \n",
       "4  2010-01-08  7.510714  7.571429  7.466429  7.570714   6.500339  447610800   \n",
       "5  2010-01-11  7.600000  7.607143  7.444643  7.503929   6.442997  462229600   \n",
       "6  2010-01-12  7.471071  7.491786  7.372143  7.418571   6.369709  594459600   \n",
       "7  2010-01-13  7.423929  7.533214  7.289286  7.523214   6.459555  605892000   \n",
       "8  2010-01-14  7.503929  7.516429  7.465000  7.479643   6.422143  432894000   \n",
       "9  2010-01-15  7.533214  7.557143  7.352500  7.354643   6.314816  594067600   \n",
       "\n",
       "   Name  \n",
       "0  AAPL  \n",
       "1  AAPL  \n",
       "2  AAPL  \n",
       "3  AAPL  \n",
       "4  AAPL  \n",
       "5  AAPL  \n",
       "6  AAPL  \n",
       "7  AAPL  \n",
       "8  AAPL  \n",
       "9  AAPL  "
      ]
     },
     "execution_count": 3,
     "metadata": {},
     "output_type": "execute_result"
    }
   ],
   "source": [
    "stocks_df.head(10)"
   ]
  },
  {
   "cell_type": "code",
   "execution_count": 5,
   "id": "28769106",
   "metadata": {},
   "outputs": [
    {
     "data": {
      "text/html": [
       "<div>\n",
       "<style scoped>\n",
       "    .dataframe tbody tr th:only-of-type {\n",
       "        vertical-align: middle;\n",
       "    }\n",
       "\n",
       "    .dataframe tbody tr th {\n",
       "        vertical-align: top;\n",
       "    }\n",
       "\n",
       "    .dataframe thead th {\n",
       "        text-align: right;\n",
       "    }\n",
       "</style>\n",
       "<table border=\"1\" class=\"dataframe\">\n",
       "  <thead>\n",
       "    <tr style=\"text-align: right;\">\n",
       "      <th></th>\n",
       "      <th>Date</th>\n",
       "      <th>Open</th>\n",
       "      <th>High</th>\n",
       "      <th>Low</th>\n",
       "      <th>Close</th>\n",
       "      <th>Adj Close</th>\n",
       "      <th>Volume</th>\n",
       "      <th>Name</th>\n",
       "    </tr>\n",
       "  </thead>\n",
       "  <tbody>\n",
       "    <tr>\n",
       "      <th>271670</th>\n",
       "      <td>2021-08-27</td>\n",
       "      <td>343.880005</td>\n",
       "      <td>344.779999</td>\n",
       "      <td>337.649994</td>\n",
       "      <td>340.809998</td>\n",
       "      <td>340.809998</td>\n",
       "      <td>3089600</td>\n",
       "      <td>ZM</td>\n",
       "    </tr>\n",
       "    <tr>\n",
       "      <th>271671</th>\n",
       "      <td>2021-08-30</td>\n",
       "      <td>341.700012</td>\n",
       "      <td>348.299988</td>\n",
       "      <td>339.649994</td>\n",
       "      <td>347.500000</td>\n",
       "      <td>347.500000</td>\n",
       "      <td>10094400</td>\n",
       "      <td>ZM</td>\n",
       "    </tr>\n",
       "    <tr>\n",
       "      <th>271672</th>\n",
       "      <td>2021-08-31</td>\n",
       "      <td>294.000000</td>\n",
       "      <td>295.869995</td>\n",
       "      <td>288.299988</td>\n",
       "      <td>289.500000</td>\n",
       "      <td>289.500000</td>\n",
       "      <td>34582900</td>\n",
       "      <td>ZM</td>\n",
       "    </tr>\n",
       "    <tr>\n",
       "      <th>271673</th>\n",
       "      <td>2021-09-01</td>\n",
       "      <td>292.850006</td>\n",
       "      <td>299.399994</td>\n",
       "      <td>290.049988</td>\n",
       "      <td>290.859985</td>\n",
       "      <td>290.859985</td>\n",
       "      <td>14996000</td>\n",
       "      <td>ZM</td>\n",
       "    </tr>\n",
       "    <tr>\n",
       "      <th>271674</th>\n",
       "      <td>2021-09-02</td>\n",
       "      <td>292.799988</td>\n",
       "      <td>296.690002</td>\n",
       "      <td>290.410004</td>\n",
       "      <td>295.089996</td>\n",
       "      <td>295.089996</td>\n",
       "      <td>6645200</td>\n",
       "      <td>ZM</td>\n",
       "    </tr>\n",
       "    <tr>\n",
       "      <th>271675</th>\n",
       "      <td>2021-09-03</td>\n",
       "      <td>295.325012</td>\n",
       "      <td>301.804993</td>\n",
       "      <td>292.029999</td>\n",
       "      <td>298.290009</td>\n",
       "      <td>298.290009</td>\n",
       "      <td>6127900</td>\n",
       "      <td>ZM</td>\n",
       "    </tr>\n",
       "    <tr>\n",
       "      <th>271676</th>\n",
       "      <td>2021-09-07</td>\n",
       "      <td>298.295013</td>\n",
       "      <td>300.980011</td>\n",
       "      <td>294.799988</td>\n",
       "      <td>299.959991</td>\n",
       "      <td>299.959991</td>\n",
       "      <td>4251900</td>\n",
       "      <td>ZM</td>\n",
       "    </tr>\n",
       "    <tr>\n",
       "      <th>271677</th>\n",
       "      <td>2021-09-08</td>\n",
       "      <td>299.549988</td>\n",
       "      <td>299.959991</td>\n",
       "      <td>290.529999</td>\n",
       "      <td>293.600006</td>\n",
       "      <td>293.600006</td>\n",
       "      <td>3934400</td>\n",
       "      <td>ZM</td>\n",
       "    </tr>\n",
       "    <tr>\n",
       "      <th>271678</th>\n",
       "      <td>2021-09-09</td>\n",
       "      <td>292.160004</td>\n",
       "      <td>297.570007</td>\n",
       "      <td>291.130005</td>\n",
       "      <td>295.859985</td>\n",
       "      <td>295.859985</td>\n",
       "      <td>3350100</td>\n",
       "      <td>ZM</td>\n",
       "    </tr>\n",
       "    <tr>\n",
       "      <th>271679</th>\n",
       "      <td>2021-09-10</td>\n",
       "      <td>296.910004</td>\n",
       "      <td>306.263000</td>\n",
       "      <td>296.809998</td>\n",
       "      <td>301.500000</td>\n",
       "      <td>301.500000</td>\n",
       "      <td>6089600</td>\n",
       "      <td>ZM</td>\n",
       "    </tr>\n",
       "  </tbody>\n",
       "</table>\n",
       "</div>"
      ],
      "text/plain": [
       "              Date        Open        High         Low       Close  \\\n",
       "271670  2021-08-27  343.880005  344.779999  337.649994  340.809998   \n",
       "271671  2021-08-30  341.700012  348.299988  339.649994  347.500000   \n",
       "271672  2021-08-31  294.000000  295.869995  288.299988  289.500000   \n",
       "271673  2021-09-01  292.850006  299.399994  290.049988  290.859985   \n",
       "271674  2021-09-02  292.799988  296.690002  290.410004  295.089996   \n",
       "271675  2021-09-03  295.325012  301.804993  292.029999  298.290009   \n",
       "271676  2021-09-07  298.295013  300.980011  294.799988  299.959991   \n",
       "271677  2021-09-08  299.549988  299.959991  290.529999  293.600006   \n",
       "271678  2021-09-09  292.160004  297.570007  291.130005  295.859985   \n",
       "271679  2021-09-10  296.910004  306.263000  296.809998  301.500000   \n",
       "\n",
       "         Adj Close    Volume Name  \n",
       "271670  340.809998   3089600   ZM  \n",
       "271671  347.500000  10094400   ZM  \n",
       "271672  289.500000  34582900   ZM  \n",
       "271673  290.859985  14996000   ZM  \n",
       "271674  295.089996   6645200   ZM  \n",
       "271675  298.290009   6127900   ZM  \n",
       "271676  299.959991   4251900   ZM  \n",
       "271677  293.600006   3934400   ZM  \n",
       "271678  295.859985   3350100   ZM  \n",
       "271679  301.500000   6089600   ZM  "
      ]
     },
     "execution_count": 5,
     "metadata": {},
     "output_type": "execute_result"
    }
   ],
   "source": [
    "stocks_df.tail(10)"
   ]
  },
  {
   "cell_type": "markdown",
   "id": "d638b1b0",
   "metadata": {},
   "source": [
    "------"
   ]
  },
  {
   "cell_type": "markdown",
   "id": "0bcfa50d",
   "metadata": {},
   "source": [
    "**DATA EXPLORATION:**"
   ]
  },
  {
   "cell_type": "code",
   "execution_count": null,
   "id": "71f165a7",
   "metadata": {},
   "outputs": [],
   "source": []
  },
  {
   "cell_type": "code",
   "execution_count": null,
   "id": "dda1170d",
   "metadata": {},
   "outputs": [],
   "source": []
  },
  {
   "cell_type": "code",
   "execution_count": null,
   "id": "7f814244",
   "metadata": {},
   "outputs": [],
   "source": []
  },
  {
   "cell_type": "code",
   "execution_count": null,
   "id": "eeda3632",
   "metadata": {},
   "outputs": [],
   "source": []
  },
  {
   "cell_type": "code",
   "execution_count": null,
   "id": "f88fd01b",
   "metadata": {},
   "outputs": [],
   "source": []
  },
  {
   "cell_type": "code",
   "execution_count": null,
   "id": "0beced6c",
   "metadata": {},
   "outputs": [],
   "source": []
  }
 ],
 "metadata": {
  "kernelspec": {
   "display_name": "Python 3 (ipykernel)",
   "language": "python",
   "name": "python3"
  },
  "language_info": {
   "codemirror_mode": {
    "name": "ipython",
    "version": 3
   },
   "file_extension": ".py",
   "mimetype": "text/x-python",
   "name": "python",
   "nbconvert_exporter": "python",
   "pygments_lexer": "ipython3",
   "version": "3.9.13"
  }
 },
 "nbformat": 4,
 "nbformat_minor": 5
}
